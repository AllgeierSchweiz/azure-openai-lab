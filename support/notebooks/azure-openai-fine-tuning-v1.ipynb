{
 "cells": [
  {
   "cell_type": "code",
   "execution_count": null,
   "metadata": {},
   "outputs": [],
   "source": [
    "#————————————————————\n",
    "\n",
    "# Name: Azure OpenAI Fine Tuning (V1)\n",
    "\n",
    "# Purpose:\n",
    "\n",
    "\n",
    "# Company: Allgeier Schweiz AG\n",
    "# Author: Nicolas Rehder (nrehder@allgeier.ch)\n",
    "# Create for: SDSC 2024\n",
    "# Date Created: 22.01.2024\n",
    "# Last Updated: 22.01.2024\n",
    "# Python Version: 3.10.4\n",
    "\n",
    "# General Sources:\n",
    "\n",
    "# Azure Authentication Token\n",
    "# https://learn.microsoft.com/en-us/cli/azure/account?view=azure-cli-latest#az-account-get-access-token()\n",
    "\n",
    "# Azure Openai Usage:\n",
    "# https://learn.microsoft.com/en-us/azure/ai-services/openai/tutorials/fine-tune?tabs=python-new%2Ccommand-line\n",
    "# https://learn.microsoft.com/en-us/azure/ai-services/openai/how-to/fine-tuning?tabs=turbo%2Cpython&pivots=programming-language-python\n",
    "# https://learn.microsoft.com/en-us/azure/ai-services/openai/how-to/chatgpt?tabs=python&pivots=programming-language-chat-completions#few-shot-learning-with-chat-completion\n",
    "\n",
    "# Additionals:\n",
    "# https://learn.microsoft.com/en-us/azure/ai-services/openai/concepts/models\n",
    "\n",
    "# Download Python packages (run the below command in terminal if packages have not yet been installed)\n",
    "# pip install -r C:\\Python\\sdsc\\requirements.txt\n",
    "\n",
    "#————————————————————"
   ]
  },
  {
   "cell_type": "code",
   "execution_count": 12,
   "metadata": {},
   "outputs": [],
   "source": [
    "# Import required libraries\n",
    "import os\n",
    "import io\n",
    "import time\n",
    "from io import StringIO\n",
    "import json\n",
    "from dotenv import load_dotenv\n",
    "from pathlib import Path\n",
    "import pandas as pd\n",
    "from openai import AzureOpenAI\n",
    "import json\n",
    "from IPython.display import clear_output\n",
    "from IPython.core.display import HTML\n",
    "import requests\n",
    "import random\n",
    "import html_to_json"
   ]
  },
  {
   "cell_type": "code",
   "execution_count": 2,
   "metadata": {},
   "outputs": [],
   "source": [
    "# Load required variables from env file.\n",
    "load_dotenv(dotenv_path=Path(\"C:\\Python\\openai-lab\\.venv\\.env\"))\n",
    "\n",
    "# Load Azure OpenAI Key and Endpoint. These values can be found within the Azure OpenAI Service resource in portal.azure.com under Keys and Endpoint\n",
    "azure_oai_key = os.environ['AZURE_OPENAI_KEY']\n",
    "azure_oai_endpoint = os.environ['AZURE_OPENAI_ENDPOINT']\n",
    "\n",
    "# Load Temmporary Azure Authentication Token to deploy fine tuned model\n",
    "azure_auth_token = os.environ['AZURE_TEMP_AUTH_TOKEN'] # Launch the Cloud Shell from the Azure portal. Then run: az account get-access-token. Save this token in the env file under variable AZURE_TEMP_AUTH_TOKEN."
   ]
  },
  {
   "cell_type": "code",
   "execution_count": 3,
   "metadata": {},
   "outputs": [],
   "source": [
    "# Initialize the Azure OpenAI client\n",
    "client = AzureOpenAI(\n",
    "    api_key = azure_oai_key,  \n",
    "    api_version = \"2024-02-15-preview\",\n",
    "    azure_endpoint = azure_oai_endpoint\n",
    "    )"
   ]
  },
  {
   "cell_type": "code",
   "execution_count": 22,
   "metadata": {},
   "outputs": [],
   "source": [
    "# with open('training_set.jsonl', 'w', encoding='utf-8') as f:\n",
    "#     json.dump(training_set, f)\n",
    "\n",
    "# with open('validation_set.jsonl', 'w', encoding='utf-8') as f:\n",
    "#     json.dump(validation_set, f)"
   ]
  },
  {
   "cell_type": "code",
   "execution_count": 6,
   "metadata": {},
   "outputs": [
    {
     "name": "stdout",
     "output_type": "stream",
     "text": [
      "Training file ID: file-7c802ea56bd1411e8bf716a5efb7192e\n",
      "Validation file ID: file-ad17dbd3bea344bdb4f9b1fb645226f2\n"
     ]
    }
   ],
   "source": [
    "training_file_name = 'chef-training-set.jsonl'\n",
    "validation_file_name = 'chef-validation-set.jsonl'\n",
    "\n",
    "# Upload the training and validation dataset files to Azure OpenAI with the SDK.\n",
    "\n",
    "training_response = client.files.create(\n",
    "    file=open(training_file_name, \"rb\"), purpose=\"fine-tune\"\n",
    ")\n",
    "training_file_id = training_response.id\n",
    "\n",
    "validation_response = client.files.create(\n",
    "    file=open(validation_file_name, \"rb\"), purpose=\"fine-tune\"\n",
    ")\n",
    "validation_file_id = validation_response.id\n",
    "\n",
    "print(\"Training file ID:\", training_file_id)\n",
    "print(\"Validation file ID:\", validation_file_id)"
   ]
  },
  {
   "cell_type": "code",
   "execution_count": 7,
   "metadata": {},
   "outputs": [],
   "source": [
    "finetune = client.fine_tuning.jobs.create(\n",
    "    training_file=training_file_id,\n",
    "    validation_file=validation_file_id,\n",
    "    model=\"gpt-35-turbo-0613\", # Enter base model name. Note that in Azure OpenAI the model name contains dashes and cannot contain dot/period characters. \n",
    ")\n",
    "\n",
    "job_id = finetune.id\n"
   ]
  },
  {
   "cell_type": "code",
   "execution_count": 11,
   "metadata": {},
   "outputs": [
    {
     "name": "stdout",
     "output_type": "stream",
     "text": [
      "Fine-tuning job ftjob-383d4910f04546ac9cae6304457924d0 finished with status: succeeded\n",
      "Checking other fine-tune jobs for this resource.\n",
      "Found 1 fine-tune jobs.\n"
     ]
    }
   ],
   "source": [
    "# Track training status\n",
    "\n",
    "start_time = time.time()\n",
    "\n",
    "# Get the status of our fine-tuning job.\n",
    "finetune = client.fine_tuning.jobs.retrieve(job_id)\n",
    "\n",
    "status = finetune.status\n",
    "\n",
    "# If the job isn't done yet, poll it every 10 seconds.\n",
    "while status not in [\"succeeded\", \"failed\"]:\n",
    "    time.sleep(10)\n",
    "    \n",
    "    finetune = client.fine_tuning.jobs.retrieve(job_id)\n",
    "    print(finetune.model_dump_json(indent=2))\n",
    "    print(\"Elapsed time: {} minutes {} seconds\".format(int((time.time() - start_time) // 60), int((time.time() - start_time) % 60)))\n",
    "    status = finetune.status\n",
    "    print(f'Status: {status}')\n",
    "    clear_output(wait=True)\n",
    "\n",
    "print(f'Fine-tuning job {job_id} finished with status: {status}')\n",
    "\n",
    "# List all fine-tuning jobs for this resource.\n",
    "print('Checking other fine-tune jobs for this resource.')\n",
    "finetune = client.fine_tuning.jobs.list()\n",
    "print(f'Found {len(finetune.data)} fine-tune jobs.')"
   ]
  },
  {
   "cell_type": "code",
   "execution_count": 12,
   "metadata": {},
   "outputs": [],
   "source": [
    "#Retrieve fine_tuned_model name\n",
    "\n",
    "finetune = client.fine_tuning.jobs.retrieve(job_id)\n",
    "fine_tuned_model = finetune.fine_tuned_model"
   ]
  },
  {
   "cell_type": "code",
   "execution_count": 29,
   "metadata": {},
   "outputs": [
    {
     "name": "stdout",
     "output_type": "stream",
     "text": [
      "Creating a new deployment...\n",
      "<Response [201]>\n",
      "Created\n",
      "{'id': '/subscriptions/749f8bd8-b908-4a95-8da7-1ea14d0f1e60/resourceGroups/rg-sdsc/providers/Microsoft.CognitiveServices/accounts/oaisdsc/deployments/gpt-35-turbo-0613-ft305', 'type': 'Microsoft.CognitiveServices/accounts/deployments', 'name': 'gpt-35-turbo-0613-ft305', 'sku': {'name': 'standard', 'capacity': 1}, 'properties': {'model': {'format': 'OpenAI', 'name': 'gpt-35-turbo-0613.ft-383d4910f04546ac9cae6304457924d0', 'version': '1'}, 'versionUpgradeOption': 'NoAutoUpgrade', 'capabilities': {'chatCompletion': 'true'}, 'provisioningState': 'Creating', 'rateLimits': [{'key': 'request', 'renewalPeriod': 10, 'count': 1}, {'key': 'token', 'renewalPeriod': 60, 'count': 1000}]}, 'systemData': {'createdBy': 'sds2024trainer@outlook.com', 'createdByType': 'User', 'createdAt': '2024-03-13T08:07:58.3022134Z', 'lastModifiedBy': 'sds2024trainer@outlook.com', 'lastModifiedByType': 'User', 'lastModifiedAt': '2024-03-13T08:07:58.3022134Z'}, 'etag': '\"22c37f42-2f4e-4c29-a5a7-bdafc3802274\"'}\n"
     ]
    }
   ],
   "source": [
    "# Deploy fine tuned model\n",
    "\n",
    "token = azure_auth_token\n",
    "subscription = \"749f8bd8-b908-4a95-8da7-1ea14d0f1e60\"  \n",
    "resource_group = \"rg-sdsc\"\n",
    "resource_name = \"oaisdsc\"\n",
    "model_deployment_name =\"gpt-35-turbo-0613-ft-\" + str(random.randrange(0,1000)) #ascertains that if multiple models deployed, each has its own unique name.\n",
    "\n",
    "deploy_params = {'api-version': \"2023-05-01\"} \n",
    "deploy_headers = {'Authorization': 'Bearer {}'.format(token), 'Content-Type': 'application/json'}\n",
    "\n",
    "deploy_data = {\n",
    "    \"sku\": {\"name\": \"standard\", \"capacity\": 10}, \n",
    "    \"properties\": {\n",
    "        \"model\": {\n",
    "            \"format\": \"OpenAI\",\n",
    "            \"name\": fine_tuned_model,\n",
    "            \"version\": \"1\"\n",
    "        }\n",
    "    }\n",
    "}\n",
    "deploy_data = json.dumps(deploy_data)\n",
    "\n",
    "request_url = f'https://management.azure.com/subscriptions/{subscription}/resourceGroups/{resource_group}/providers/Microsoft.CognitiveServices/accounts/{resource_name}/deployments/{model_deployment_name}'\n",
    "\n",
    "print('Creating a new deployment...')\n",
    "\n",
    "r = requests.put(request_url, params=deploy_params, headers=deploy_headers, data=deploy_data)\n",
    "\n",
    "print(r)\n",
    "print(r.reason)\n",
    "print(r.json())"
   ]
  },
  {
   "cell_type": "code",
   "execution_count": 19,
   "metadata": {},
   "outputs": [],
   "source": [
    "completion = client.chat.completions.create(\n",
    "  model = \"gpt-35-turbo-0613-ft305\",\n",
    "  #response_format={ \"type\": \"json_object\" }, # Not support for fine tuned models\n",
    "  messages = [    \n",
    "    {\"role\": \"system\", \"content\": \"You are an Cooking Assistant specialising in vegan recipes. your cooking style is mediterranean asian fusion, similar to a mix between Jamie Oliver and Joanne Molinaro. You  will be given a set of ingredients and respond with a great tasting recipe involving those ingredients.\"},\n",
    "    {\"role\": \"user\", \"content\": \"Avocado, Coconut Milk, Tofu, Soy Sauce\"}\n",
    "  ]\n",
    ")\n"
   ]
  },
  {
   "cell_type": "code",
   "execution_count": 24,
   "metadata": {},
   "outputs": [
    {
     "data": {
      "text/html": [
       "Recipe: Asian-Inspired Tofu Avocado Curry\n",
       "\n",
       "Ingredients:\n",
       "- 1 ripe avocado, pitted and sliced\n",
       "- 1 can of coconut milk\n",
       "- 200g tofu, cubed\n",
       "- 2 tablespoons soy sauce\n",
       "- 1 tablespoon olive oil\n",
       "- 1 onion, thinly sliced\n",
       "- 2 cloves garlic, minced\n",
       "- 1 teaspoon ginger, grated\n",
       "- 1 teaspoon curry powder\n",
       "- 1 teaspoon turmeric\n",
       "- 1 teaspoon paprika\n",
       "- Fresh cilantro, chopped for garnish\n",
       "- Steamed rice, for serving\n",
       "\n",
       "Instructions:\n",
       "1. In a large deep skillet or wok, heat olive oil over medium heat. Add onion, garlic, and ginger. Sauté until the onion becomes translucent.\n",
       "2. Add the tofu cubes to the skillet and cook until slightly browned on all sides.\n",
       "3. Add curry powder, turmeric, and paprika. Stir to evenly coat tofu and vegetables.\n",
       "4. Pour in the coconut milk and bring to a gentle simmer. Allow the flavors to meld for about 5 minutes.\n",
       "5. Season with soy sauce and stir well.\n",
       "6. Gently fold in avocado slices and cook for an additional 2 minutes.\n",
       "7. Serve over steamed rice and garnish with fresh cilantro.\n",
       "\n",
       "Note: This dish can be made spicier by adding a few slices of red chili or a sprinkle of chili flakes. A side of naan bread or roti can also be added for sopping up the rich sauce."
      ],
      "text/plain": [
       "<IPython.core.display.HTML object>"
      ]
     },
     "execution_count": 24,
     "metadata": {},
     "output_type": "execute_result"
    }
   ],
   "source": [
    "HTML(completion.choices[0].message.content)"
   ]
  },
  {
   "cell_type": "code",
   "execution_count": 20,
   "metadata": {},
   "outputs": [],
   "source": [
    "completion_output = completion.choices[0].message.content\n",
    "#recipe = completion_output.replace(\"\\n\", \"\")"
   ]
  },
  {
   "cell_type": "code",
   "execution_count": 23,
   "metadata": {},
   "outputs": [
    {
     "data": {
      "text/plain": [
       "'Recipe: Asian-Inspired Tofu Avocado Curry\\n\\nIngredients:\\n- 1 ripe avocado, pitted and sliced\\n- 1 can of coconut milk\\n- 200g tofu, cubed\\n- 2 tablespoons soy sauce\\n- 1 tablespoon olive oil\\n- 1 onion, thinly sliced\\n- 2 cloves garlic, minced\\n- 1 teaspoon ginger, grated\\n- 1 teaspoon curry powder\\n- 1 teaspoon turmeric\\n- 1 teaspoon paprika\\n- Fresh cilantro, chopped for garnish\\n- Steamed rice, for serving\\n\\nInstructions:\\n1. In a large deep skillet or wok, heat olive oil over medium heat. Add onion, garlic, and ginger. Sauté until the onion becomes translucent.\\n2. Add the tofu cubes to the skillet and cook until slightly browned on all sides.\\n3. Add curry powder, turmeric, and paprika. Stir to evenly coat tofu and vegetables.\\n4. Pour in the coconut milk and bring to a gentle simmer. Allow the flavors to meld for about 5 minutes.\\n5. Season with soy sauce and stir well.\\n6. Gently fold in avocado slices and cook for an additional 2 minutes.\\n7. Serve over steamed rice and garnish with fresh cilantro.\\n\\nNote: This dish can be made spicier by adding a few slices of red chili or a sprinkle of chili flakes. A side of naan bread or roti can also be added for sopping up the rich sauce.'"
      ]
     },
     "execution_count": 23,
     "metadata": {},
     "output_type": "execute_result"
    }
   ],
   "source": [
    "completion_output"
   ]
  },
  {
   "cell_type": "code",
   "execution_count": 21,
   "metadata": {},
   "outputs": [],
   "source": [
    "output_json = html_to_json.convert(completion_output)"
   ]
  },
  {
   "cell_type": "code",
   "execution_count": 22,
   "metadata": {},
   "outputs": [],
   "source": [
    "with open('recipe.jsonl', 'w', encoding='utf-8') as f:\n",
    "    json.dump(output_json, f, indent=4)"
   ]
  }
 ],
 "metadata": {
  "kernelspec": {
   "display_name": ".venv",
   "language": "python",
   "name": "python3"
  },
  "language_info": {
   "codemirror_mode": {
    "name": "ipython",
    "version": 3
   },
   "file_extension": ".py",
   "mimetype": "text/x-python",
   "name": "python",
   "nbconvert_exporter": "python",
   "pygments_lexer": "ipython3",
   "version": "3.10.4"
  }
 },
 "nbformat": 4,
 "nbformat_minor": 2
}
