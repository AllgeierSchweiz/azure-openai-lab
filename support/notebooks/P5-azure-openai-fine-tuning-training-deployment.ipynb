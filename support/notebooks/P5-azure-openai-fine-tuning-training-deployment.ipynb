{
 "cells": [
  {
   "cell_type": "code",
   "execution_count": null,
   "metadata": {},
   "outputs": [],
   "source": [
    "#————————————————————\n",
    "\n",
    "# Name: Azure OpenAI API, Fine-Tuning\n",
    "\n",
    "# Purpose: This notebook will deploy a Fine-tuned model using GPT-3.5-Turbo.\n",
    "\n",
    "# Company: Allgeier Schweiz AG\n",
    "# Author: Nicolas Rehder (nrehder@allgeier.ch), Alex Dean (adean@allgeier.ch)\n",
    "# Create for: SDSC 2024\n",
    "# Date Created: 22.01.2024\n",
    "# Last Updated: 20.05.2024\n",
    "# Python Version: 3.10.4\n",
    "\n",
    "# General Sources:\n",
    "# Use Region EASTUS2\n",
    "\n",
    "# Azure Authentication Token\n",
    "# https://learn.microsoft.com/en-us/cli/azure/account?view=azure-cli-latest#az-account-get-access-token()\n",
    "\n",
    "\n",
    "# Additionals:\n",
    "\n",
    "# If necessary, download Python packages (run the below command in terminal if packages have not yet been installed)\n",
    "# pip install -r C:\\Python\\sdsc\\requirements.txt\n",
    "\n",
    "#————————————————————"
   ]
  },
  {
   "cell_type": "code",
   "execution_count": 1,
   "metadata": {},
   "outputs": [],
   "source": [
    "# Import Python packages\n",
    "import os\n",
    "import io\n",
    "import time\n",
    "from io import StringIO\n",
    "import json\n",
    "from dotenv import load_dotenv\n",
    "from pathlib import Path\n",
    "import pandas as pd\n",
    "from openai import AzureOpenAI\n",
    "import json\n",
    "from IPython.display import clear_output\n",
    "from IPython.core.display import HTML\n",
    "import requests\n",
    "import random"
   ]
  },
  {
   "cell_type": "code",
   "execution_count": 2,
   "metadata": {},
   "outputs": [],
   "source": [
    "# Load required variables from .env file.\n",
    "load_dotenv(dotenv_path=Path(\"/workspaces/azure-openai-lab/.venv/.env\")) #Error sometimes due to \\ or \\\\. Try one or the other. \"C:\\\\Python\\\\azure-openai-lab\\\\.venv\\\\.env\"\n",
    "\n",
    "# Load Azure OpenAI Key and Endpoint. These values can be found within the Azure OpenAI Service resource in portal.azure.com under Keys and Endpoint\n",
    "azure_oai_key = os.environ['AZURE_OPENAI_KEY_P56']\n",
    "azure_oai_endpoint = os.environ['AZURE_OPENAI_ENDPOINT_P56']\n",
    "\n",
    "# Load Temmporary Azure Authentication Token to deploy fine tuned model\n",
    "# azure_auth_token = os.environ['AZURE_TEMP_AUTH_TOKEN'] # Launch the Cloud Shell from the Azure portal. Then run: az account get-access-token. Save this token in the env file under variable AZURE_TEMP_AUTH_TOKEN."
   ]
  },
  {
   "cell_type": "code",
   "execution_count": 3,
   "metadata": {},
   "outputs": [],
   "source": [
    "# Initialize the Azure OpenAI client\n",
    "client = AzureOpenAI(\n",
    "    api_key = azure_oai_key,  \n",
    "    azure_endpoint = azure_oai_endpoint,\n",
    "    api_version = \"2024-02-15-preview\"\n",
    "    )"
   ]
  },
  {
   "cell_type": "code",
   "execution_count": 6,
   "metadata": {},
   "outputs": [
    {
     "name": "stdout",
     "output_type": "stream",
     "text": [
      "Training file ID: file-b8c12f5659f64945aab3063fca18f23e\n",
      "Validation file ID: file-4cd46a8829de4a3b864e67964451b550\n"
     ]
    }
   ],
   "source": [
    "#Load JSONL to Azure OpenAI Service\n",
    "\n",
    "# training_file_path = r\"C:\\Python\\azure-openai-lab\\data\\recipes-training-set.jsonl\"\n",
    "# validation_file_path = r\"C:\\Python\\azure-openai-lab\\data\\recipes-validation-set.jsonl\"\n",
    "\n",
    "# # Upload the training and validation dataset files to Azure OpenAI with the SDK.\n",
    "\n",
    "# training_response = client.files.create(\n",
    "#     file=open(training_file_path, \"rb\"), purpose=\"fine-tune\"\n",
    "# )\n",
    "# training_file_id = training_response.id\n",
    "\n",
    "# validation_response = client.files.create(\n",
    "#     file=open(validation_file_path, \"rb\"), purpose=\"fine-tune\"\n",
    "# )\n",
    "# validation_file_id = validation_response.id\n",
    "\n",
    "# print(\"Training file ID:\", training_file_id)\n",
    "# print(\"Validation file ID:\", validation_file_id)"
   ]
  },
  {
   "cell_type": "code",
   "execution_count": 4,
   "metadata": {},
   "outputs": [],
   "source": [
    "# Retrieve data file if already uploaded\n",
    "for i in client.files.list():\n",
    "    if \"recipes-training-set\" in i.filename:\n",
    "        training_file_id = i.id\n",
    "    elif \"recipes-validation-set\" in i.filename:\n",
    "        validation_file_id = i.id"
   ]
  },
  {
   "cell_type": "code",
   "execution_count": 5,
   "metadata": {},
   "outputs": [],
   "source": [
    "# Initalize Fine-Tuning Job\n",
    "finetune = client.fine_tuning.jobs.create(\n",
    "    training_file=training_file_id,\n",
    "    validation_file=validation_file_id,\n",
    "    model=\"gpt-35-turbo-0613\",\n",
    ")\n",
    "\n",
    "job_id = finetune.id"
   ]
  },
  {
   "cell_type": "code",
   "execution_count": null,
   "metadata": {},
   "outputs": [],
   "source": [
    "\n",
    "# Model deployment current takes 45 - 60 minutes\n",
    "\n",
    "# Track training status\n",
    "start_time = time.time()\n",
    "\n",
    "# Get the status of our fine-tuning job.\n",
    "finetune = client.fine_tuning.jobs.retrieve(job_id)\n",
    "\n",
    "status = finetune.status\n",
    "\n",
    "# If the job isn't done yet, poll it every 10 seconds.\n",
    "while status not in [\"succeeded\", \"failed\"]:\n",
    "    time.sleep(10)\n",
    "    \n",
    "    finetune = client.fine_tuning.jobs.retrieve(job_id)\n",
    "    print(finetune.model_dump_json(indent=2))\n",
    "    print(\"Elapsed time: {} minutes {} seconds\".format(int((time.time() - start_time) // 60), int((time.time() - start_time) % 60)))\n",
    "    status = finetune.status\n",
    "    print(f'Status: {status}')\n",
    "    clear_output(wait=True)\n",
    "\n",
    "print(f'Fine-tuning job {job_id} finished with status: {status}')\n",
    "\n",
    "# List all fine-tuning jobs for this resource.\n",
    "print('Checking other fine-tune jobs for this resource.')\n",
    "finetune = client.fine_tuning.jobs.list()\n",
    "print(f'Found {len(finetune.data)} fine-tune jobs.')"
   ]
  },
  {
   "cell_type": "code",
   "execution_count": null,
   "metadata": {},
   "outputs": [],
   "source": [
    "#Retrieve fine_tuned_model name\n",
    "\n",
    "finetune = client.fine_tuning.jobs.retrieve(job_id)\n",
    "fine_tuned_model = finetune.fine_tuned_model\n",
    "\n",
    "# Deploy fine tuned model\n",
    "\n",
    "token = azure_auth_token\n",
    "subscription = \"fade7a40-9037-4aeb-82c9-e70f8b49217a\"  \n",
    "resource_group = \"rgopenaisweden\"\n",
    "resource_name = \"mssp-openai-sweden\"\n",
    "model_deployment_name =\"gpt-35-turbo-0613-ft-\" + str(random.randrange(0,1000)) #ascertains that if multiple models deployed, each has its own unique name.\n",
    "\n",
    "deploy_params = {'api-version': \"2023-05-01\"} \n",
    "deploy_headers = {'Authorization': 'Bearer {}'.format(token), 'Content-Type': 'application/json'}\n",
    "\n",
    "deploy_data = {\n",
    "    \"sku\": {\"name\": \"standard\", \"capacity\": 10}, \n",
    "    \"properties\": {\n",
    "        \"model\": {\n",
    "            \"format\": \"OpenAI\",\n",
    "            \"name\": fine_tuned_model,\n",
    "            \"version\": \"1\"\n",
    "        }\n",
    "    }\n",
    "}\n",
    "deploy_data = json.dumps(deploy_data)\n",
    "\n",
    "request_url = f'https://management.azure.com/subscriptions/{subscription}/resourceGroups/{resource_group}/providers/Microsoft.CognitiveServices/accounts/{resource_name}/deployments/{model_deployment_name}'\n",
    "\n",
    "print('Creating a new deployment...')\n",
    "\n",
    "r = requests.put(request_url, params=deploy_params, headers=deploy_headers, data=deploy_data)\n",
    "\n",
    "print(r)\n",
    "print(r.reason)\n",
    "print(r.json())"
   ]
  }
 ],
 "metadata": {
  "kernelspec": {
   "display_name": ".venv",
   "language": "python",
   "name": "python3"
  },
  "language_info": {
   "codemirror_mode": {
    "name": "ipython",
    "version": 3
   },
   "file_extension": ".py",
   "mimetype": "text/x-python",
   "name": "python",
   "nbconvert_exporter": "python",
   "pygments_lexer": "ipython3",
   "version": "3.10.4"
  }
 },
 "nbformat": 4,
 "nbformat_minor": 2
}
