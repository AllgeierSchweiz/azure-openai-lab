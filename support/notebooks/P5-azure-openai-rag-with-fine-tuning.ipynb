{
 "cells": [
  {
   "cell_type": "code",
   "execution_count": null,
   "metadata": {},
   "outputs": [],
   "source": [
    "#————————————————————\n",
    "\n",
    "# Name: Azure OpenAI API, Retrieval-Augmented Generation (RAG) and Fine-tuning\n",
    "\n",
    "# Purpose: This notebook will implement RAG in combination with a fine-tuned model.\n",
    "\n",
    "# Company: Allgeier Schweiz AG\n",
    "# Author: Nicolas Rehder (nrehder@allgeier.ch)\n",
    "# Create for: SDSC 2024 & ZHAW 2025\n",
    "# Date Created: 22.01.2024\n",
    "# Last Updated: 19.01.2025\n",
    "# Python Version: 3.12.1\n",
    "\n",
    "# Troubleshooting:\n",
    "# https://github.com/langchain-ai/langchain/issues/14123\n",
    "# https://github.com/langchain-ai/langchain/issues/15878\n",
    "# https://stackoverflow.com/questions/77087460/langchain-azure-openai-api-returning-additional-information-than-the-asked-q\n",
    "# https://stackoverflow.com/questions/77839844/langchain-retrievalqa-missing-some-input-keys\n",
    "# https://gist.github.com/defulmere/8b9695e415a44271061cc8e272f3c300?permalink_comment_id=4711478\n",
    "# https://stackoverflow.com/questions/76921252/attributeerror-module-chromadb-has-no-attribute-config\n",
    "\n",
    "# Additionals:\n",
    "# Use Region Sweden Central\n",
    "\n",
    "# If necessary, download Python packages (run the below command in terminal if packages have not yet been installed)\n",
    "# pip install -r C:\\Python\\openai-lab\\support\\requirements\\requirements.txt\n",
    "\n",
    "#————————————————————"
   ]
  },
  {
   "cell_type": "code",
   "execution_count": 1,
   "metadata": {},
   "outputs": [],
   "source": [
    "# Import Python packages\n",
    "import os\n",
    "import io\n",
    "import time\n",
    "from io import StringIO\n",
    "import json\n",
    "from dotenv import load_dotenv\n",
    "from pathlib import Path\n",
    "import pandas as pd\n",
    "from openai import AzureOpenAI\n",
    "import chromadb\n",
    "import chromadb.utils.embedding_functions as embedding_functions\n",
    "#from langchain.vectorstores import Chroma\n",
    "from langchain_chroma import Chroma\n",
    "from langchain_openai import AzureOpenAIEmbeddings\n",
    "from langchain.document_loaders import DataFrameLoader\n",
    "from langchain.text_splitter import CharacterTextSplitter\n",
    "from langchain_openai import AzureChatOpenAI\n",
    "from langchain.chains import RetrievalQA\n",
    "from langchain import PromptTemplate\n",
    "from langchain_core.prompts import (\n",
    "    ChatPromptTemplate,\n",
    "    FewShotChatMessagePromptTemplate,\n",
    ")\n"
   ]
  },
  {
   "cell_type": "code",
   "execution_count": null,
   "metadata": {},
   "outputs": [],
   "source": [
    "# Load required variables from .env file.\n",
    "load_dotenv(dotenv_path=Path(\"/workspaces/azure-openai-lab/.venv/.env\")) #Error sometimes due to \\ or \\\\. Try one or the other. \"C:\\\\Python\\\\azure-openai-lab\\\\.venv\\\\.env\"\n",
    "\n",
    "# Load Azure OpenAI Key and Endpoint. These values can be found within the Azure OpenAI Service resource in portal.azure.com under Keys and Endpoint\n",
    "azure_oai_key = os.environ['AZURE_OPENAI_KEY_P34']\n",
    "azure_oai_endpoint = os.environ['AZURE_OPENAI_ENDPOINT_P34']"
   ]
  },
  {
   "cell_type": "code",
   "execution_count": 3,
   "metadata": {},
   "outputs": [],
   "source": [
    "# Initalize Azure Openai using LangChain\n",
    "client = AzureChatOpenAI(\n",
    "                deployment_name = \"gpt-4o-mini-ft\",\n",
    "                openai_api_key = azure_oai_key,\n",
    "                azure_endpoint = azure_oai_endpoint,\n",
    "                openai_api_version = \"2024-02-15-preview\"\n",
    "        )   "
   ]
  },
  {
   "cell_type": "code",
   "execution_count": 4,
   "metadata": {},
   "outputs": [],
   "source": [
    "# Generate the Word Embeddings for the Dataset using Azure OpenAI with model text-embedding-ada-002\n",
    "openai_ef = AzureOpenAIEmbeddings(\n",
    "                deployment = \"text-embedding-3-large\",\n",
    "                openai_api_key = azure_oai_key,\n",
    "                azure_endpoint = azure_oai_endpoint,\n",
    "                openai_api_version = \"2024-10-21\", #\"2024-02-01\",\n",
    "            )"
   ]
  },
  {
   "cell_type": "code",
   "execution_count": 6,
   "metadata": {},
   "outputs": [],
   "source": [
    "# Re-load an existing vector database from a local path\n",
    "vectordb = Chroma(persist_directory=r\"/workspaces/azure-openai-lab/data/chromadb\", embedding_function=openai_ef) #r\"C:\\Python\\azure-openai-lab\\data\\chromadb\\backup\"\n"
   ]
  },
  {
   "cell_type": "code",
   "execution_count": 8,
   "metadata": {},
   "outputs": [],
   "source": [
    "# Zero-shot learning Prompt\n",
    "prompt_template = \\\n",
    "\"\"\"\n",
    "### INSTRUCTIONS\n",
    "Persona: Act as a head chef such as Joël Robuchon who specializes in simple contemporary cuisine.\n",
    "Action: Create well-thought-out and flavourful vegan recipes from a list of ingredients {question}, implementing classic culinary techniques.\n",
    "Target Audience: The recipients of these vegan recipes are couples who want to cook a special meal at least once a week.\n",
    "\n",
    "### EXAMPLE\n",
    "{context}\n",
    "\n",
    "### OUTPUT FORMAT\n",
    "Output only one vegan recipe and return it as a JSON object with the following format:\n",
    "{{\n",
    "  \"name\": \"\",\n",
    "  \"minutes\": 0,\n",
    "  \"tags\": [],\n",
    "  \"nutrition\": [],\n",
    "  \"n_steps\": 0,\n",
    "  \"steps\": [],\n",
    "  \"description\": \"\",\n",
    "  \"ingredients\": [],\n",
    "  \"n_ingredients\": 0\n",
    "}}\n",
    "\n",
    "The variables should contain the following information:\n",
    "- name: the name of the recipe.\n",
    "- minutes: the time in minutes to prepare the recipe.\n",
    "- tags: a list of words that characterize the recipe.\n",
    "- nutrition: a list of numeric values representing calories, total fat, sugar, sodium, protein, saturated fat, and carbohydrates.\n",
    "- n_steps: the number of steps to prepare the recipe.\n",
    "- steps: a list of steps to prepare the recipe.\n",
    "- description: a summary of the recipe.\n",
    "- ingredients: a list of the ingredient names in the recipe.\n",
    "- n_ingredients: the total number of ingredients used in the recipe.\n",
    "\"\"\"\n",
    "\n",
    "\n",
    "simple_prompt = PromptTemplate(\n",
    "    template=prompt_template, input_variables=[\"context\", \"question\"]\n",
    ")"
   ]
  },
  {
   "cell_type": "code",
   "execution_count": 9,
   "metadata": {},
   "outputs": [
    {
     "name": "stdout",
     "output_type": "stream",
     "text": [
      "{'query': \"'Tofu', 'Avocado', 'Soy Sauce', 'Chili', 'Coconut Milk', 'Broccoli'\", 'result': '{\\n  \"name\": \"curried tofu with broccoli and avocado mash\",\\n  \"minutes\": 15,\\n  \"tags\": [\\n    \"quick\",\\n    \"15-minutes-or-less\",\\n    \"time-to-make\",\\n    \"course\",\\n    \"main-ingredient\",\\n    \"preparation\",\\n    \"occasion\",\\n    \"healthy\",\\n    \"vegetables\",\\n    \"main-dish\",\\n    \"beans\",\\n    \"easy\",\\n    \"low-fat\",\\n    \"vegan\",\\n    \"vegetarian\",\\n    \"diet\",\\n    \"stove-top\",\\n    \"low-sodium\",\\n    \"inexpensive\",\\n    \"healthy-2\",\\n    \"broccoli\",\\n    \"taste-mood\",\\n    \"savory\",\\n    \"south-west-pacific\",\\n    \"number-of-servings\"\\n  ],\\n  \"nutrition\": [\\n    277.2,\\n    9.0,\\n    3.0,\\n    66.6,\\n    25.0,\\n    1.0,\\n    28.0\\n  ],\\n  \"n_steps\": 4,\\n  \"steps\": [\\n    \"put a cup of water on to boil and add the curry spices to it\",\\n    \"when water is boiling add cubed tofu and cook for 12 minutes\",\\n    \"meanwhile mash avocado and top with soy sauce , crushed chili and lemon or lime juice\",\\n    \"drain off water and serve tofu with mashed avocado and a side of steamed broccoli\"\\n  ],\\n  \"description\": \"the original recipe came from me as a bottom of the unit meals idea.  this is my favourite.  great organic tofu from the farmers market really makes the meal, though you can substitute normal.  if you use low salt soy sauce you don\\'t even need to bother with steamed broccoli, just mash it into the mash.  delicious.\",\\n  \"ingredients\": [\\n    \"tofu\",\\n    \"avocado\",\\n    \"soy sauce\",\\n    \"chili\",\\n    \"coconut milk\",\\n    \"broccoli\"\\n  ],\\n  \"n_ingredients\": 6\\n}'}\n"
     ]
    }
   ],
   "source": [
    "# Run chain to call Azure OpenAI using ChromaDB vector database data to enrich the prompt (RAG).\n",
    "ingredients = \"\"\"'Tofu', 'Avocado', 'Soy Sauce', 'Chili', 'Coconut Milk', 'Broccoli'\"\"\"\n",
    "\n",
    "chain = RetrievalQA.from_chain_type(\n",
    "       llm=client,\n",
    "       retriever = vectordb.as_retriever(),\n",
    "       chain_type=\"stuff\",\n",
    "       chain_type_kwargs={\"prompt\": simple_prompt}\n",
    ")\n",
    "\n",
    "# View generated recipe\n",
    "result = chain.invoke({\"query\": ingredients})\n",
    "print(result)"
   ]
  },
  {
   "cell_type": "code",
   "execution_count": 10,
   "metadata": {},
   "outputs": [],
   "source": [
    "#Transform output to pandas dataframe and save as CSV file\n",
    "\n",
    "# Clean up Azure OpenAI Output\n",
    "json_data = result['result'].strip('` \\n')\n",
    "\n",
    "if json_data.startswith('json'):\n",
    "    json_data = json_data[4:]  # Remove the first 4 characters 'json'\n",
    "\n",
    "recipes_from_rag_ft_json = json.loads(json_data)\n",
    "recipes_from_rag_ft = pd.json_normalize(recipes_from_rag_ft_json)\n",
    "# path_output = r\"/workspaces/azure-openai-lab/data/recipes_from-rag-ft.csv\" #r\"C:\\Python\\azure-openai-lab\\data\\recipes-from-rag-ft.csv\"\n",
    "# recipes_from_rag_ft.to_csv(path_output, sep='\\t', encoding='utf-8', index=False)"
   ]
  }
 ],
 "metadata": {
  "kernelspec": {
   "display_name": ".venv",
   "language": "python",
   "name": "python3"
  },
  "language_info": {
   "codemirror_mode": {
    "name": "ipython",
    "version": 3
   },
   "file_extension": ".py",
   "mimetype": "text/x-python",
   "name": "python",
   "nbconvert_exporter": "python",
   "pygments_lexer": "ipython3",
   "version": "3.10.4"
  }
 },
 "nbformat": 4,
 "nbformat_minor": 2
}
