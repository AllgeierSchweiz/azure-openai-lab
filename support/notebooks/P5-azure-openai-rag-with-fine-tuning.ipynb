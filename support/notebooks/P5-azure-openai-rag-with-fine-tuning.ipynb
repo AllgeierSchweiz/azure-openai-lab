{
 "cells": [
  {
   "cell_type": "code",
   "execution_count": null,
   "metadata": {},
   "outputs": [],
   "source": [
    "#————————————————————\n",
    "\n",
    "# Name: Azure OpenAI API, Retrieval-Augmented Generation (RAG) and Fine-tuning\n",
    "\n",
    "# Purpose: This notebook will implement RAG and Fine-tuning together.\n",
    "\n",
    "# Company: Allgeier Schweiz AG\n",
    "# Author: Nicolas Rehder (nrehder@allgeier.ch), Alex Dean (adean@allgeier.ch)\n",
    "# Create for: SDSC 2024\n",
    "# Date Created: 22.01.2024\n",
    "# Last Updated: 19.05.2024\n",
    "# Python Version: 3.10.4\n",
    "\n",
    "# Troubleshooting:\n",
    "# https://github.com/langchain-ai/langchain/issues/14123\n",
    "# https://github.com/langchain-ai/langchain/issues/15878\n",
    "# https://stackoverflow.com/questions/77087460/langchain-azure-openai-api-returning-additional-information-than-the-asked-q\n",
    "# https://stackoverflow.com/questions/77839844/langchain-retrievalqa-missing-some-input-keys\n",
    "# https://gist.github.com/defulmere/8b9695e415a44271061cc8e272f3c300?permalink_comment_id=4711478\n",
    "# https://stackoverflow.com/questions/76921252/attributeerror-module-chromadb-has-no-attribute-config\n",
    "\n",
    "# Additionals:\n",
    "\n",
    "# If necessary, download Python packages (run the below command in terminal if packages have not yet been installed)\n",
    "# pip install -r C:\\Python\\openai-lab\\support\\requirements\\requirements.txt\n",
    "\n",
    "#————————————————————"
   ]
  },
  {
   "cell_type": "code",
   "execution_count": 1,
   "metadata": {},
   "outputs": [],
   "source": [
    "# Import Python packages\n",
    "import os\n",
    "import io\n",
    "import time\n",
    "from io import StringIO\n",
    "import json\n",
    "from dotenv import load_dotenv\n",
    "from pathlib import Path\n",
    "import pandas as pd\n",
    "from openai import AzureOpenAI\n",
    "import chromadb\n",
    "import chromadb.utils.embedding_functions as embedding_functions\n",
    "from langchain.vectorstores import Chroma\n",
    "from langchain_openai import AzureOpenAIEmbeddings\n",
    "from langchain.document_loaders import DataFrameLoader\n",
    "from langchain.text_splitter import CharacterTextSplitter\n",
    "from langchain_openai import AzureChatOpenAI\n",
    "from langchain.chains import RetrievalQA\n",
    "from langchain import PromptTemplate\n",
    "from langchain_core.prompts import (\n",
    "    ChatPromptTemplate,\n",
    "    FewShotChatMessagePromptTemplate,\n",
    ")\n"
   ]
  },
  {
   "cell_type": "code",
   "execution_count": 2,
   "metadata": {},
   "outputs": [],
   "source": [
    "# Load required variables from .env file.\n",
    "load_dotenv(dotenv_path=Path(\"C:\\\\Python\\\\azure-openai-lab\\\\.venv\\\\.env\")) #Error sometimes due to \\ or \\\\. Try one or the other. /workspaces/azure-openai-lab/.venv/.env\n",
    "\n",
    "# Load Azure OpenAI Key and Endpoint. These values can be found within the Azure OpenAI Service resource in portal.azure.com under Keys and Endpoint\n",
    "azure_oai_key = os.environ['AZURE_OPENAI_KEY']\n",
    "azure_oai_endpoint = os.environ['AZURE_OPENAI_ENDPOINT']"
   ]
  },
  {
   "cell_type": "code",
   "execution_count": 3,
   "metadata": {},
   "outputs": [],
   "source": [
    "# Initialize the Azure OpenAI client\n",
    "client = AzureOpenAI(\n",
    "        azure_endpoint = azure_oai_endpoint, \n",
    "        api_key=azure_oai_key,  \n",
    "        api_version=\"2024-02-01\"\n",
    "        )"
   ]
  },
  {
   "cell_type": "code",
   "execution_count": 4,
   "metadata": {},
   "outputs": [],
   "source": [
    "# Generate the Word Embeddings for the Dataset using Azure OpenAI with model text-embedding-ada-002\n",
    "openai_ef = AzureOpenAIEmbeddings(\n",
    "                deployment = \"text-embedding-ada-002\",\n",
    "                openai_api_key = azure_oai_key,\n",
    "                azure_endpoint = azure_oai_endpoint,\n",
    "                openai_api_version = \"2024-02-01\",\n",
    "            )"
   ]
  },
  {
   "cell_type": "code",
   "execution_count": 7,
   "metadata": {},
   "outputs": [],
   "source": [
    "# Re-load an existing vector database from a local path\n",
    "vectordb = Chroma(persist_directory=r\"C:\\Python\\azure-openai-lab\\data\\chromadb\", embedding_function=openai_ef)#r\"/workspaces/azure-openai-lab/data/chromadb\"\n"
   ]
  },
  {
   "cell_type": "code",
   "execution_count": 13,
   "metadata": {},
   "outputs": [],
   "source": [
    "# Initalize Azure Openai using LangChain (Default gpt-35-turbo and fine-tuned gpt-35-turbo-0613-ft)\n",
    "client = AzureChatOpenAI(\n",
    "                deployment_name = \"gpt-35-turbo-0613-ft\",\n",
    "                openai_api_key = azure_oai_key,\n",
    "                azure_endpoint = azure_oai_endpoint,\n",
    "                openai_api_version = \"2024-02-01\"\n",
    "        )   "
   ]
  },
  {
   "cell_type": "code",
   "execution_count": 9,
   "metadata": {},
   "outputs": [],
   "source": [
    "# Zero-shot learning Prompt\n",
    "prompt_template = \\\n",
    "\"\"\"\n",
    "### Instructions\n",
    "Persona: Act as a head chef such as Joël Robuchon who specializes in simple contemporary cuisine with a focus on vegan dishes.\n",
    "Action: Create well-thought-out and flavourful vegan recipes from a list of ingredients from {question}, implementing classic culinary techniques using the provided {context}.\n",
    "Target Audience: The recipients of these recipes are vegan couples who want to cook a special meal at least once a week.\n",
    "\n",
    "### Output format\n",
    "Return a JSON array with the following format:\n",
    "{{\"name\":\"\",\"minutes\":,\"tags\":\"[]\",\"nutrition\":\"[]\",\"n_steps\":\"\",\"steps\":\"[]\",\"description\":\"\",\"ingredients\":\"[]\",\"n_ingredients\":}}\n",
    "\n",
    "The variables should contain the following information:\n",
    "- name: the name of the recipe.\n",
    "- minutes: the time in minutes to prepare the recipe.\n",
    "- tags: a list of words that characterize the recipe.\n",
    "- nutrition: a list of numeric values representing calories, total fat, sugar, sodium, protein, saturated fat, and carbohydrates.\n",
    "- n_steps: the number of steps to prepare the recipe.\n",
    "- steps: a list of steps to prepare the recipe.\n",
    "- description: a summary of the recipe.\n",
    "- ingredients: a list of ingredients used in the recipe including the amount and the units using the metric system.\n",
    "- n_ingredients: the number of ingredients used in the recipe.\n",
    "\"\"\"\n",
    "\n",
    "\n",
    "simple_prompt = PromptTemplate(\n",
    "    template=prompt_template, input_variables=[\"context\", \"question\"]\n",
    ")"
   ]
  },
  {
   "cell_type": "code",
   "execution_count": 16,
   "metadata": {},
   "outputs": [
    {
     "data": {
      "text/plain": [
       "{'query': \"'Tofu', 'Avocado', 'Soy Sauce', 'Chili', 'Coconut Milk', 'Broccoli'\",\n",
       " 'result': '{\"name\":\"Tofu and Broccoli Stir-Fry\",\"minutes\":20,\"tags\":[\"vegan\",\"stir-fry\"],\"nutrition\":[220,12,4,560,16,2,20],\"n_steps\":4,\"steps\":[\"Press the tofu to remove excess moisture, then cut it into cubes.\",\"Heat a tablespoon of oil in a large pan or wok over medium heat.\",\"Add the tofu, broccoli, and chili to the pan and stir-fry for about 5 minutes.\",\"Pour in the soy sauce and coconut milk, and cook for another 2 minutes until the sauce thickens slightly.\"],\"description\":\"A delicious and healthy vegan stir-fry packed with protein and flavor.\",\"ingredients\":[\"300g tofu\",\"1 tablespoon oil\",\"1 head of broccoli, cut into florets\",\"1 red chili, sliced\",\"3 tablespoons soy sauce\",\"200ml coconut milk\"],\"n_ingredients\":6}'}"
      ]
     },
     "metadata": {},
     "output_type": "display_data"
    }
   ],
   "source": [
    "# Run chain to call Azure OpenAI using ChromaDB vector database data to enrich the prompt (RAG).\n",
    "ingredients = \"\"\"'Tofu', 'Avocado', 'Soy Sauce', 'Chili', 'Coconut Milk', 'Broccoli'\"\"\"\n",
    "\n",
    "chain = RetrievalQA.from_chain_type(\n",
    "       llm=client,\n",
    "       retriever = vectordb.as_retriever(),\n",
    "       chain_type=\"stuff\",\n",
    "       chain_type_kwargs={\"prompt\": simple_prompt}\n",
    ")\n",
    "result = chain.invoke({\"query\": ingredients})\n",
    "\n",
    "# View Azure OpenAI output\n",
    "display(result)"
   ]
  },
  {
   "cell_type": "code",
   "execution_count": 33,
   "metadata": {},
   "outputs": [],
   "source": [
    "#Transform output to pandas dataframe and save as CSV file\n",
    "recipes_from_rag_json = json.loads(result['result'])\n",
    "recipes_from_rag = pd.json_normalize(recipes_from_rag_json)\n",
    "path_output = r\"C:\\Python\\azure-openai-lab\\data\\recipes-from-rag.csv\" #/workspaces/azure-openai-lab/data/recipes-from-rag.csv\n",
    "recipes_from_rag.to_csv(path_output, sep='\\t', encoding='utf-8', index=False)"
   ]
  }
 ],
 "metadata": {
  "kernelspec": {
   "display_name": ".venv",
   "language": "python",
   "name": "python3"
  },
  "language_info": {
   "codemirror_mode": {
    "name": "ipython",
    "version": 3
   },
   "file_extension": ".py",
   "mimetype": "text/x-python",
   "name": "python",
   "nbconvert_exporter": "python",
   "pygments_lexer": "ipython3",
   "version": "3.10.4"
  }
 },
 "nbformat": 4,
 "nbformat_minor": 2
}
