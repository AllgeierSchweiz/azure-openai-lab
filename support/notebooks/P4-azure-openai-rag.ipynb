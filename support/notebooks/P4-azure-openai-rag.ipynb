{
 "cells": [
  {
   "cell_type": "code",
   "execution_count": null,
   "metadata": {},
   "outputs": [],
   "source": [
    "#————————————————————\n",
    "\n",
    "# Name: Azure OpenAI API, Retrieval-Augmented Generation (RAG)\n",
    "\n",
    "# Purpose: This notebook will implement RAG using ChromaDB and LangChain together with the Azure OpenAI model text-embedding-ada-002.\n",
    "\n",
    "# Company: Allgeier Schweiz AG\n",
    "# Author: Nicolas Rehder (nrehder@allgeier.ch), Alex Dean (adean@allgeier.ch)\n",
    "# Create for: SDSC 2024\n",
    "# Date Created: 22.01.2024\n",
    "# Last Updated: 19.05.2024\n",
    "# Python Version: 3.10.4\n",
    "\n",
    "# Troubleshooting:\n",
    "# https://github.com/langchain-ai/langchain/issues/14123\n",
    "# https://github.com/langchain-ai/langchain/issues/15878\n",
    "# https://stackoverflow.com/questions/77087460/langchain-azure-openai-api-returning-additional-information-than-the-asked-q\n",
    "# https://stackoverflow.com/questions/77839844/langchain-retrievalqa-missing-some-input-keys\n",
    "# https://gist.github.com/defulmere/8b9695e415a44271061cc8e272f3c300?permalink_comment_id=4711478\n",
    "# https://stackoverflow.com/questions/76921252/attributeerror-module-chromadb-has-no-attribute-config\n",
    "\n",
    "# Additionals:\n",
    "\n",
    "# If necessary, download Python packages (run the below command in terminal if packages have not yet been installed)\n",
    "# pip install -r C:\\Python\\openai-lab\\support\\requirements\\requirements.txt\n",
    "\n",
    "#————————————————————"
   ]
  },
  {
   "cell_type": "code",
   "execution_count": 2,
   "metadata": {},
   "outputs": [],
   "source": [
    "# Import Python packages\n",
    "import os\n",
    "import io\n",
    "import time\n",
    "from io import StringIO\n",
    "import json\n",
    "from dotenv import load_dotenv\n",
    "from pathlib import Path\n",
    "import pandas as pd\n",
    "from openai import AzureOpenAI\n",
    "import chromadb\n",
    "import chromadb.utils.embedding_functions as embedding_functions\n",
    "from langchain.vectorstores import Chroma\n",
    "from langchain_openai import AzureOpenAIEmbeddings\n",
    "from langchain.document_loaders import DataFrameLoader\n",
    "from langchain.text_splitter import CharacterTextSplitter\n",
    "from langchain_openai import AzureChatOpenAI\n",
    "from langchain.chains import RetrievalQA\n",
    "from langchain import PromptTemplate\n",
    "from langchain_core.prompts import (\n",
    "    ChatPromptTemplate,\n",
    "    FewShotChatMessagePromptTemplate,\n",
    ")\n"
   ]
  },
  {
   "cell_type": "code",
   "execution_count": 3,
   "metadata": {},
   "outputs": [],
   "source": [
    "# Load required variables from .env file.\n",
    "load_dotenv(dotenv_path=Path(\"/workspaces/azure-openai-lab/.venv/.env\")) #Error sometimes due to \\ or \\\\. Try one or the other. \"C:\\\\Python\\\\azure-openai-lab\\\\.venv\\\\.env\"\n",
    "\n",
    "# Load Azure OpenAI Key and Endpoint. These values can be found within the Azure OpenAI Service resource in portal.azure.com under Keys and Endpoint\n",
    "azure_oai_key = os.environ['AZURE_OPENAI_KEY']\n",
    "azure_oai_endpoint = os.environ['AZURE_OPENAI_ENDPOINT']"
   ]
  },
  {
   "cell_type": "code",
   "execution_count": 4,
   "metadata": {},
   "outputs": [],
   "source": [
    "# Initialize the Azure OpenAI client\n",
    "client = AzureOpenAI(\n",
    "        azure_endpoint = azure_oai_endpoint, \n",
    "        api_key=azure_oai_key,  \n",
    "        api_version=\"2024-02-01\"\n",
    "        )"
   ]
  },
  {
   "cell_type": "code",
   "execution_count": 5,
   "metadata": {},
   "outputs": [],
   "source": [
    "# Import recipes from CSV file\n",
    "path_input = r\"/workspaces/azure-openai-lab/data/recipes-preprocessed.csv\" #r\"C:\\Python\\azure-openai-lab\\data\\recipes-preprocessed.csv\"\n",
    "df = pd.read_csv(path_input , sep=',', on_bad_lines='skip', low_memory=False)"
   ]
  },
  {
   "cell_type": "code",
   "execution_count": 6,
   "metadata": {},
   "outputs": [],
   "source": [
    "# Create dataframe input compatible with langchain chroma\n",
    "df_text_input = pd.DataFrame(df[\"dense_feature\"])\n",
    "df_loader = DataFrameLoader(df_text_input, page_content_column=\"dense_feature\")\n",
    "df_document = df_loader.load()\n"
   ]
  },
  {
   "cell_type": "code",
   "execution_count": 7,
   "metadata": {},
   "outputs": [],
   "source": [
    "# Chunk text input for embedding\n",
    "text_splitter = CharacterTextSplitter(\n",
    "    separator = \"\\n\\n\",\n",
    "    chunk_size = 256,\n",
    "    chunk_overlap  = 20\n",
    ")\n",
    "df_document_split = text_splitter.split_documents(df_document)"
   ]
  },
  {
   "cell_type": "code",
   "execution_count": 8,
   "metadata": {},
   "outputs": [],
   "source": [
    "# Generate the Word Embeddings for the Dataset using Azure OpenAI with model text-embedding-ada-002\n",
    "openai_ef = AzureOpenAIEmbeddings(\n",
    "                deployment = \"text-embedding-3-large\",#\"text-embedding-ada-002\",\n",
    "                openai_api_key = azure_oai_key,\n",
    "                azure_endpoint = azure_oai_endpoint,\n",
    "                openai_api_version = \"2024-02-01\",\n",
    "            )\n"
   ]
  },
  {
   "cell_type": "code",
   "execution_count": 9,
   "metadata": {},
   "outputs": [],
   "source": [
    "# Create the ChromaDB Vector Database collection based on the Azure OpenAI embeddings model. Vector Database is created locally.\n",
    "\n",
    "vectordb = Chroma.from_documents(\n",
    "                documents = df_document_split,\n",
    "                embedding = openai_ef,\n",
    "                collection_name = \"recipes\",\n",
    "                persist_directory = r\"C:\\Python\\azure-openai-lab\\data\\chromadb\", #r\"C:\\Python\\azure-openai-lab\\data\\chromadb\"\n",
    "                collection_metadata={\"hnsw:space\": \"cosine\"}\n",
    "            )\n"
   ]
  },
  {
   "cell_type": "code",
   "execution_count": 10,
   "metadata": {},
   "outputs": [],
   "source": [
    "# Initalize Azure Openai using LangChain\n",
    "client = AzureChatOpenAI(\n",
    "                deployment_name = \"gpt-35-turbo\", \n",
    "                openai_api_key = azure_oai_key,\n",
    "                azure_endpoint = azure_oai_endpoint,\n",
    "                openai_api_version = \"2024-02-01\"\n",
    "        )   "
   ]
  },
  {
   "cell_type": "code",
   "execution_count": 11,
   "metadata": {},
   "outputs": [],
   "source": [
    "# Zero-shot learning Prompt\n",
    "prompt_template = \\\n",
    "\"\"\"\n",
    "### Instructions\n",
    "Persona: Act as a head chef such as Joël Robuchon who specializes in simple contemporary cuisine.\n",
    "Action: Create well-thought-out and flavourful recipes from a list of ingredients {question}, implementing classic culinary techniques.\n",
    "Target Audience: The recipients of these recipes are couples who want to cook a special meal at least once a week.\n",
    "\n",
    "### Example\n",
    "{context}\n",
    "\n",
    "### Output format\n",
    "Return a JSON object with the following format:\n",
    "{{\"name\":\"\",\"minutes\":,\"tags\":\"[]\",\"nutrition\":\"[]\",\"n_steps\":\"\",\"steps\":\"[]\",\"description\":\"\",\"ingredients\":\"[]\", \"amount\":\"[]\", \"unit\":\"[]\", \"n_ingredients\":, \"expiration_days\":\"[]\"}}\n",
    "\n",
    "The variables should contain the following information:\n",
    "- name: the name of the recipe.\n",
    "- minutes: the time in minutes to prepare the recipe.\n",
    "- tags: a list of words that characterize the recipe.\n",
    "- nutrition: a list of numeric values representing calories, total fat, sugar, sodium, protein, saturated fat, and carbohydrates.\n",
    "- n_steps: the number of steps to prepare the recipe.\n",
    "- steps: a list of steps to prepare the recipe.\n",
    "- description: a summary of the recipe.\n",
    "- ingredients: a list of the ingredient names in the recipe.\n",
    "- amount: a list of the numeric amount of each ingredient in the recipe.\n",
    "- unit: a list of the units of each ingredient in the recipe using the metric system.\n",
    "- n_ingredients: the total number of ingredients used in the recipe.\n",
    "- expiration_days: a list of expiration date of each ingredient as an average number of days.\n",
    "\n",
    "Important: \n",
    "1. If any attributes from {context} are missing, such as \"amount\", \"unit\" or \"expiration_days\", add them to the output format.\n",
    "2. Output only one recipe.\n",
    "\"\"\"\n",
    "\n",
    "\n",
    "simple_prompt = PromptTemplate(\n",
    "    template=prompt_template, input_variables=[\"context\", \"question\"]\n",
    ")"
   ]
  },
  {
   "cell_type": "code",
   "execution_count": 12,
   "metadata": {},
   "outputs": [
    {
     "data": {
      "text/plain": [
       "{'query': \"'Tofu', 'Avocado', 'Soy Sauce', 'Chili', 'Coconut Milk', 'Broccoli'\",\n",
       " 'result': '{\\n  \"name\": \"Herb Crusted Tofu with Mushroom Gravy\",\\n  \"minutes\": 60,\\n  \"tags\": [\\n    \"time-to-make\",\\n    \"main-dish\",\\n    \"beans\",\\n    \"vegetables\",\\n    \"vegan\",\\n    \"vegetarian\",\\n    \"comfort-food\"\\n  ],\\n  \"nutrition\": [461.9, 59.0, 6.0, 24.0, 20.0, 27.0, 7.0],\\n  \"n_steps\": 15,\\n  \"steps\": [\\n    \"Drain the tofu and cut into 6 slices\",\\n    \"To make herb crust: combine all the ingredients except the oil in a shallow bowl\",\\n    \"To make mushroom gravy: saute the onion in olive oil over medium high heat, stirring often for 5 minutes, or until it is browned\",\\n    \"Add the rosemary, the mushrooms, and a pinch of salt\",\\n    \"Add the broth, and simmer until the mushrooms are tender, about 10 minutes\",\\n    \"Meanwhile, heat the vegetable oil in a large skillet over medium high heat\",\\n    \"Coat the tofu cutlets with the herb crust\",\\n    \"Place in the oil, and fry 4-5 minutes on each side until golden brown\",\\n    \"Drain on paper towels\",\\n    \"Heat the gravy over high heat\",\\n    \"Mix the cornstarch with 1/4 cup cold water and whisk into the gravy until it\\'s thickened, then remove from heat\",\\n    \"Spoon the mushroom gravy over the tofu cutlets\",\\n    \"Serve and enjoy!\"\\n  ],\\n  \"description\": \"A delicious and comforting main dish that combines the flavor of herb-crusted tofu with a rich mushroom gravy.\",\\n  \"ingredients\": [\\n    \"extra firm tofu\",\\n    \"cornstarch\",\\n    \"salt\",\\n    \"dried Italian herb seasoning\",\\n    \"black pepper\",\\n    \"garlic powder\",\\n    \"cayenne pepper\",\\n    \"vegetable oil\",\\n    \"onion\",\\n    \"olive oil\",\\n    \"dried rosemary\",\\n    \"button mushrooms\",\\n    \"vegetable broth\"\\n  ],\\n  \"amount\": [\\n    1,\\n    2,\\n    1,\\n    2,\\n    1,\\n    1,\\n    1,\\n    1,\\n    1,\\n    1,\\n    1,\\n    1,\\n    1\\n  ],\\n  \"unit\": [\\n    \"block\",\\n    \"tablespoon\",\\n    \"teaspoon\",\\n    \"teaspoon\",\\n    \"teaspoon\",\\n    \"teaspoon\",\\n    \"teaspoon\",\\n    \"tablespoon\",\\n    \"large\",\\n    \"tablespoon\",\\n    \"teaspoon\",\\n    \"cup\",\\n    \"cup\"\\n  ],\\n  \"n_ingredients\": 13,\\n  \"expiration_days\": [7, 180, 999, 180, 180, 180, 180, 180, 14, 180, 180, 7, 7]\\n}'}"
      ]
     },
     "metadata": {},
     "output_type": "display_data"
    }
   ],
   "source": [
    "# Run chain to call Azure OpenAI using ChromaDB vector database data to enrich the prompt (RAG).\n",
    "ingredients = \"\"\"'Tofu', 'Avocado', 'Soy Sauce', 'Chili', 'Coconut Milk', 'Broccoli'\"\"\"\n",
    "\n",
    "chain = RetrievalQA.from_chain_type(\n",
    "       llm=client,\n",
    "       retriever = vectordb.as_retriever(),\n",
    "       chain_type=\"stuff\",\n",
    "       chain_type_kwargs={\"prompt\": simple_prompt}\n",
    ")\n",
    "\n",
    "# View Azure OpenAI output\n",
    "result = chain.invoke({\"query\": ingredients})\n",
    "print(result)"
   ]
  },
  {
   "cell_type": "code",
   "execution_count": 13,
   "metadata": {},
   "outputs": [],
   "source": [
    "#Transform output to pandas dataframe and save as CSV file\n",
    "\n",
    "# Clean up Azure OpenAI Output\n",
    "json_data = result['result'].strip('` \\n')\n",
    "\n",
    "if json_data.startswith('json'):\n",
    "    json_data = json_data[4:]  # Remove the first 4 characters 'json'\n",
    "\n",
    "recipes_from_rag_json = json.loads(json_data)\n",
    "recipes_from_rag = pd.json_normalize(recipes_from_rag_json)\n",
    "# path_output = r\"/workspaces/azure-openai-lab/data/recipes-from-rag.csv\" #r\"C:\\Python\\azure-openai-lab\\data\\recipes-from-rag.csv\"\n",
    "# recipes_from_rag.to_csv(path_output, sep='\\t', encoding='utf-8', index=False)"
   ]
  },
  {
   "cell_type": "code",
   "execution_count": 16,
   "metadata": {},
   "outputs": [],
   "source": [
    "# Few-Shot learning Prompt\n",
    "# examples = [\n",
    "#     {\n",
    "#         \"input\": \"canola oil, onion, garlic cloves, fresh ginger, jalapeno, curry powder, diced tomatoes with juice, low sodium vegetable broth, natural-style peanut butter, tamari soy sauce, pepper, sweet potato, carrots, chickpeas, fresh okra, frozen green beans, kale, lime, juice of, fresh cilantro, lime wedge, salted peanuts\",\n",
    "#         \"output\": \"\"\"{\"name\":\"african peanut stew\",\"minutes\":90,\"tags\":\"['time-to-make', 'course', 'main-ingredient', 'cuisine', 'preparation', 'main-dish', 'beans', 'vegetables', 'african', 'easy', 'vegan', 'vegetarian', 'stews', 'dietary', 'chick-peas-garbanzos', '3-steps-or-less', '4-hours-or-less']\",\"nutrition\":\"[307.8, 20.0, 27.0, 21.0, 22.0, 10.0, 13.0]\",\"n_steps\":11,\"steps\":\"['heat the oil in a large , heavy stockpot', 'add the onion , garlic , jalapeno , and ginger , and cook over moderate heat , stirring frequently , until the onion is lightly browned , about 6 minutes', 'add the curry powder and cook , stirring , until fragrant and lightly toasted , about 2 minutes', 'add the tomatoes , scraping up any bits stuck to the bottom of the pan', 'whisk in the broth and peanut butter , season with pepper and tamari to taste , and bring to a boil', 'cook over moderately high heat for 15 minutes , stirring frequently', 'add the sweet potatoes , carrots , and chickpeas , cover partially and cook over moderately low heat until the vegetables are just tender , about 20 minutes', 'add the okra and green beans , cover partially and cook until all the vegetables are tender , about 10 minutes longer', 'add the kale and juice of 1 lime , and cook for 10 more minutes', 'transfer to deep bowls and serve hot', 'garnish with the cilantro , lime wedges , and chopped peanuts at the table']\",\"description\":\"i first had this stew at a restaurant in rochester, ny, and when i moved away, spent years recreating it!  delicious with a lovely hearty bread, or with rice cooked in the stew (about 3\\/4 cup brown rice added with the sweet potatoes and carrots).\",\"ingredients\":\"['canola oil', 'onion', 'garlic cloves', 'fresh ginger', 'jalapeno', 'curry powder', 'diced tomatoes with juice', 'low sodium vegetable broth', 'natural-style peanut butter', 'tamari soy sauce', 'pepper', 'sweet potato', 'carrots', 'chickpeas', 'fresh okra', 'frozen green beans', 'kale', 'lime, juice of', 'fresh cilantro', 'lime wedge', 'salted peanuts']\",\"n_ingredients\":21}\"\"\",\n",
    "#     },\n",
    "#     {\n",
    "#         \"input\": \"balsamic vinegar, lemon juice, fresh garlic, french dijon mustard, sugar, canola oil, extra virgin olive oil, fresh basil, salt, pepper, orzo pasta, cooked wild rice, red onion, currants, canned corn niblet, toasted almond, parsley, red peppers, yellow peppers, green onion, garlic granules\",\n",
    "#         \"output\": \"\"\"{\"name\":\"alexanders orzo and wild rice salad\",\"minutes\":20,\"tags\":\"['30-minutes-or-less', 'time-to-make', 'course', 'main-ingredient', 'preparation', 'occasion', 'salads', 'side-dishes', 'pasta', 'rice', 'easy', 'beginner-cook', 'dinner-party', 'holiday-event', 'vegan', 'vegetarian', 'dietary', 'pasta-rice-and-grains', 'taste-mood', 'savory', 'sweet']\",\"nutrition\":\"[815.5, 72.0, 45.0, 7.0, 31.0, 24.0, 28.0]\",\"n_steps\":7,\"steps\":\"['for dressing: dissolve vinegar , lemon juice , garlic and sugar with a hand whip', 'fold in the mustard , basil , salt and pepper', 'slowly add oils , while whisking vigorously', 'refrigerate', 'use only 1 \\/ 2 cup of dressing for salad', 'place all other ingredients in a mixing bowl and mix well', 'serve ice cold , 38-40f shelf life mixed is two hours']\",\"description\":\"wonderful blend of flavors makes for a delightful side dish or lunch salad.\",\"ingredients\":\"['balsamic vinegar', 'lemon juice', 'fresh garlic', 'french dijon mustard', 'sugar', 'canola oil', 'extra virgin olive oil', 'fresh basil', 'salt', 'pepper', 'orzo pasta', 'cooked wild rice', 'red onion', 'currants', 'canned corn niblet', 'toasted almond', 'parsley', 'red peppers', 'yellow peppers', 'green onion', 'garlic granules']\",\"n_ingredients\":21}\"\"\",\n",
    "#     },\n",
    "# ]\n",
    "\n"
   ]
  },
  {
   "cell_type": "code",
   "execution_count": 17,
   "metadata": {},
   "outputs": [],
   "source": [
    "# Prompt template used to format each individual example.\n",
    "# example_prompt = ChatPromptTemplate.from_messages(\n",
    "#     [\n",
    "#         (\"human\", \"{input}\"),\n",
    "#         (\"ai\", \"{output}\"),\n",
    "#     ]\n",
    "# )\n",
    "\n",
    "# few_shot_prompt = FewShotChatMessagePromptTemplate(\n",
    "#     example_prompt=example_prompt,\n",
    "#     examples=examples,\n",
    "# )"
   ]
  },
  {
   "cell_type": "code",
   "execution_count": 30,
   "metadata": {},
   "outputs": [],
   "source": [
    "# Bring together the examples with the system and user (human) inputs.\n",
    "# systemcontent = \\\n",
    "# \"\"\"\n",
    "# Persona: Act as a head chef such as Joël Robuchon who specializes in simple contemporary cuisine.\n",
    "# Action: Create well-thought-out and flavourful recipes from a list of ingredients {question}, implementing classic culinary techniques.\n",
    "# Target Audience: The recipients of these recipes are couples who want to cook a special meal at least once a week.\n",
    "\n",
    "# ### Example\n",
    "# {context}\n",
    "\n",
    "# ### Output format\n",
    "# Return a JSON object with the following format:\n",
    "# {{\"name\":\"\",\"minutes\":,\"tags\":\"[]\",\"nutrition\":\"[]\",\"n_steps\":\"\",\"steps\":\"[]\",\"description\":\"\",\"ingredients\":\"[]\", \"amount\":\"[]\", \"unit\":\"[]\", \"n_ingredients\":, \"expiration_days\":\"[]\"}}\n",
    "\n",
    "# The variables should contain the following information:\n",
    "# - name: the name of the recipe.\n",
    "# - minutes: the time in minutes to prepare the recipe.\n",
    "# - tags: a list of words that characterize the recipe.\n",
    "# - nutrition: a list of numeric values representing calories, total fat, sugar, sodium, protein, saturated fat, and carbohydrates.\n",
    "# - n_steps: the number of steps to prepare the recipe.\n",
    "# - steps: a list of steps to prepare the recipe.\n",
    "# - description: a summary of the recipe.\n",
    "# - ingredients: a list of the ingredient names in the recipe.\n",
    "# - amount: a list of the numeric amount of each ingredient in the recipe.\n",
    "# - unit: a list of the units of each ingredient in the recipe using the metric system.\n",
    "# - n_ingredients: the total number of ingredients used in the recipe.\n",
    "# - expiration_days: a list of expiration date of each ingredient as an average number of days.\n",
    "\n",
    "# Important: \n",
    "# 1. If any attributes from {context} are missing, such as \"amount\", \"unit\" or \"expiration_days\", add them to the output format.\n",
    "# 2. Output only one recipe.\n",
    "\n",
    "# \"\"\"\n",
    "\n",
    "# final_prompt = ChatPromptTemplate.from_messages(\n",
    "#     [\n",
    "#         (\"system\", systemcontent),\n",
    "#         few_shot_prompt,\n",
    "#         (\"human\", \"{question}\"),\n",
    "#     ]\n",
    "# )"
   ]
  },
  {
   "cell_type": "code",
   "execution_count": null,
   "metadata": {},
   "outputs": [],
   "source": [
    "# Run chain to call Azure OpenAI using ChromaDB vector database data to enrich the prompt (RAG).\n",
    "# chain = RetrievalQA.from_chain_type(\n",
    "#        llm=client,\n",
    "#        retriever = vectordb.as_retriever(),\n",
    "#        chain_type=\"stuff\",\n",
    "#        chain_type_kwargs={\"prompt\": final_prompt}\n",
    "# )\n",
    "# result = chain.invoke({\"query\": ingredients})\n",
    "\n",
    "# # View Azure OpenAI output\n",
    "# display(result)"
   ]
  },
  {
   "cell_type": "code",
   "execution_count": 33,
   "metadata": {},
   "outputs": [],
   "source": [
    "#Transform output to pandas dataframe and save as CSV file\n",
    "\n",
    "# Clean up Azure OpenAI Output\n",
    "# json_data = result['result'].strip('` \\n')\n",
    "\n",
    "# if json_data.startswith('json'):\n",
    "#     json_data = json_data[4:]  # Remove the first 4 characters 'json'\n",
    "\n",
    "# recipes_from_rag_json = json.loads(json_data)\n",
    "# recipes_from_rag = pd.json_normalize(recipes_from_rag_json)\n",
    "# path_output = r\"/workspaces/azure-openai-lab/data/recipes-from-rag.csv\" #r\"C:\\Python\\azure-openai-lab\\data\\recipes-from-rag.csv\"\n",
    "# recipes_from_rag.to_csv(path_output, sep='\\t', encoding='utf-8', index=False)"
   ]
  }
 ],
 "metadata": {
  "kernelspec": {
   "display_name": ".venv",
   "language": "python",
   "name": "python3"
  },
  "language_info": {
   "codemirror_mode": {
    "name": "ipython",
    "version": 3
   },
   "file_extension": ".py",
   "mimetype": "text/x-python",
   "name": "python",
   "nbconvert_exporter": "python",
   "pygments_lexer": "ipython3",
   "version": "3.10.4"
  }
 },
 "nbformat": 4,
 "nbformat_minor": 2
}
