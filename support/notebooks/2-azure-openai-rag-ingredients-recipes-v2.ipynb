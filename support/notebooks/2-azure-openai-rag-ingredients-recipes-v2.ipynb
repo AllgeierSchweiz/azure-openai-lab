{
 "cells": [
  {
   "cell_type": "code",
   "execution_count": 1,
   "metadata": {},
   "outputs": [
    {
     "name": "stdout",
     "output_type": "stream",
     "text": [
      "hello\n"
     ]
    }
   ],
   "source": [
    "#————————————————————\n",
    "\n",
    "# Name: Azure OpenAI RAG (V1)\n",
    "\n",
    "# Purpose: \n",
    "\n",
    "# Verify token count and estimate cost.\n",
    "\n",
    "# Company: Allgeier Schweiz AG\n",
    "# Author: Nicolas Rehder (nrehder@allgeier.ch)\n",
    "# Create for: SDSC 2024\n",
    "# Date Created: 10.01.2024\n",
    "# Last Updated: 10.01.2024\n",
    "# Python Version: 3.10.4\n",
    "\n",
    "# General Sources:\n",
    "# https://cscblog.ethz.ch/index.php/2024/02/06/az-open-ai-rag-chromadb-langchain/\n",
    "# https://github.com/Azure-Samples/openai/blob/main/Basic_Samples/Chat/chat_with_your_own_data.ipynb\n",
    "# https://thenewstack.io/tutorial-use-chroma-and-openai-to-build-a-custom-qa-bot/\n",
    "# https://www.pinecone.io/learn/chunking-strategies/\n",
    "# https://python.langchain.com/docs/modules/model_io/prompts/few_shot_examples/\n",
    "# https://github.com/langchain-ai/langchain/issues/14123\n",
    "# https://github.com/langchain-ai/langchain/issues/15878\n",
    "# https://www.kaggle.com/code/peremartramanonellas/ask-your-documents-with-langchain-vectordb-hf\n",
    "# https://stackoverflow.com/questions/77087460/langchain-azure-openai-api-returning-additional-information-than-the-asked-q\n",
    "\n",
    "# Azure Openai Usage:\n",
    "\n",
    "# Additionals:\n",
    "\n",
    "# Download Python packages (run the below command in terminal if packages have not yet been installed)\n",
    "# pip install -r C:\\Python\\openai-lab\\support\\requirements\\requirements.txt\n",
    "\n",
    "#————————————————————"
   ]
  },
  {
   "cell_type": "code",
   "execution_count": 1,
   "metadata": {},
   "outputs": [],
   "source": [
    "# Import required libraries\n",
    "import os\n",
    "import io\n",
    "import time\n",
    "from io import StringIO\n",
    "import json\n",
    "from dotenv import load_dotenv\n",
    "from pathlib import Path\n",
    "import pandas as pd\n",
    "from openai import AzureOpenAI\n",
    "import chromadb\n",
    "import chromadb.utils.embedding_functions as embedding_functions\n",
    "from langchain.vectorstores import Chroma\n",
    "from langchain_openai import AzureOpenAIEmbeddings\n",
    "from langchain.document_loaders import DataFrameLoader\n",
    "from langchain.text_splitter import CharacterTextSplitter\n",
    "from langchain_openai import AzureChatOpenAI\n",
    "from langchain.chains import RetrievalQA\n",
    "from langchain import PromptTemplate\n",
    "from langchain_core.prompts import (\n",
    "    ChatPromptTemplate,\n",
    "    FewShotChatMessagePromptTemplate,\n",
    ")\n"
   ]
  },
  {
   "cell_type": "code",
   "execution_count": 2,
   "metadata": {},
   "outputs": [],
   "source": [
    "# Load Azure OpenAI Key and Endpoint. These values can be found within the Azure OpenAI Service resource in portal.azure.com under Keys and Endpoint\n",
    "load_dotenv(dotenv_path=Path(\"C:\\\\Python\\\\azure-openai-lab\\\\.venv\\\\.env\")) #Error sometimes due to \\ or \\\\. Try one or the other.\n",
    "azure_oai_key = os.environ['AZURE_OPENAI_KEY']\n",
    "azure_oai_endpoint = os.environ['AZURE_OPENAI_ENDPOINT']"
   ]
  },
  {
   "cell_type": "code",
   "execution_count": 3,
   "metadata": {},
   "outputs": [],
   "source": [
    "# Initialize the Azure OpenAI client\n",
    "client = AzureOpenAI(\n",
    "        azure_endpoint = azure_oai_endpoint, \n",
    "        api_key=azure_oai_key,  \n",
    "        api_version=\"2024-02-01\"\n",
    "        )"
   ]
  },
  {
   "cell_type": "code",
   "execution_count": 4,
   "metadata": {},
   "outputs": [],
   "source": [
    "# Import recipes csv\n",
    "\n",
    "path_input = r\"C:\\Python\\azure-openai-lab\\data\\recipes.csv\" #Change path if required\n",
    "df = pd.read_csv(path_input , sep='\\t', on_bad_lines='skip', low_memory=False)"
   ]
  },
  {
   "cell_type": "code",
   "execution_count": 5,
   "metadata": {},
   "outputs": [],
   "source": [
    "# List column headers\n",
    "# list(df)\n",
    "\n",
    "# Remove columns\n",
    "\n",
    "df = df.drop(['id', 'contributor_id', 'submitted'], axis=1)\n",
    "\n",
    "# Remove double whitespaces from name\n",
    "\n",
    "df[\"name\"] = df[\"name\"].str.replace(r'\\s+', ' ', regex=True)\n",
    "\n",
    "# Create subset of data\n",
    "\n",
    "#df = df[df[\"n_ingredients\"] > 20]\n",
    "df = df[df['tags'].str.contains(\"vegan\")]\n"
   ]
  },
  {
   "cell_type": "code",
   "execution_count": 6,
   "metadata": {},
   "outputs": [],
   "source": [
    "# Create new column with relevant information for LLM packed into one string\n",
    "\n",
    "df[\"dense_feature\"] = df.name + \"; \" + df.tags.apply(lambda x: str(x).strip(\"[]\").replace(\"'\", \"\")) + \"; \" + df.nutrition.apply(lambda x: str(x).strip(\"[]\").replace(\"'\", \"\")) + \"; \" + df.ingredients.apply(lambda x: str(x).strip(\"[]\").replace(\"'\", \"\")) + \"; \" + df.steps\n",
    "df_text_input = pd.DataFrame(df[\"dense_feature\"])\n"
   ]
  },
  {
   "cell_type": "code",
   "execution_count": 7,
   "metadata": {},
   "outputs": [],
   "source": [
    "# Create dataframe input compatible with langchain chroma\n",
    "\n",
    "df_loader = DataFrameLoader(df_text_input, page_content_column=\"dense_feature\")\n",
    "df_document = df_loader.load()\n",
    "#display(df_document[:2])"
   ]
  },
  {
   "cell_type": "code",
   "execution_count": 8,
   "metadata": {},
   "outputs": [],
   "source": [
    "# Chunk input\n",
    "\n",
    "text_splitter = CharacterTextSplitter(\n",
    "    separator = \"\\n\\n\",\n",
    "    chunk_size = 256,\n",
    "    chunk_overlap  = 20\n",
    ")\n",
    "df_document_split = text_splitter.split_documents(df_document)"
   ]
  },
  {
   "cell_type": "code",
   "execution_count": 9,
   "metadata": {},
   "outputs": [],
   "source": [
    "# Generate and store the Word Embeddings for the Dataset using Azure Openai\n",
    "\n",
    "# def text_embedding(text):\n",
    "#     response = client.embeddings.create(model=\"text-embedding-ada-002\", input=[text])\n",
    "#     return response.data[0].embedding\n",
    "\n",
    "\n",
    "openai_ef = AzureOpenAIEmbeddings(\n",
    "                deployment = \"text-embedding-ada-002\",\n",
    "                openai_api_key = azure_oai_key,\n",
    "                azure_endpoint = azure_oai_endpoint,\n",
    "                openai_api_version = \"2024-02-01\",\n",
    "                #openai_api_type = \"azure\",\n",
    "                #chunk_size = 1\n",
    "            )\n"
   ]
  },
  {
   "cell_type": "code",
   "execution_count": 10,
   "metadata": {},
   "outputs": [],
   "source": [
    "# Create the ChromaDB Vector Database collection based on the Azure OpenAI embeddings model. Vector Database is created locally.\n",
    "# Cant run code using Proxy API.\n",
    "\n",
    "vectordb = Chroma.from_documents(\n",
    "                documents = df_document_split,\n",
    "                embedding = openai_ef,\n",
    "                collection_name = \"recipes\",\n",
    "                persist_directory = \"C:\\Python\\data\\chromadb\", #\"./chroma_db\",\n",
    "                collection_metadata={\"hnsw:space\": \"cosine\"}\n",
    "            )\n",
    "\n",
    "vectordb.persist()"
   ]
  },
  {
   "cell_type": "code",
   "execution_count": null,
   "metadata": {},
   "outputs": [],
   "source": [
    "# Load from disk\n",
    "\n",
    "#vectordb = Chroma(persist_directory = \"C:\\Python\\chromadb\", openai_ef)"
   ]
  },
  {
   "cell_type": "code",
   "execution_count": 11,
   "metadata": {},
   "outputs": [
    {
     "name": "stdout",
     "output_type": "stream",
     "text": [
      "veggie burger shepherd s pie; time-to-make, course, main-ingredient, cuisine, preparation, occasion, north-american, main-dish, vegetables, easy, fall, vegan, vegetarian, winter, dietary, seasonal, comfort-food, taste-mood, 3-steps-or-less, 4-hours-or-less; 258.2, 14.0, 22.0, 37.0, 21.0, 8.0, 11.0; olive oil, yellow onion, carrot, white mushrooms, tomato paste, tamari, vegetable broth, fresh thyme, fresh marjoram, salt & fresh ground pepper, cornstarch, water, veggie burgers, frozen green pea, ground walnuts, mashed potatoes, paprika; ['preheat oven to 375f heat 1 tbsp of olive oil in a large skillet over medium heat', 'add the onion and carrot , cover , and cook until tender , about 5 minutes', 'add the mushrooms and cook , stirring occasionally , for 3 minutes', 'stir in tomato paste , tamari , veggie stock , thyme , marjoram , and salt and pepper to taste', 'stir in cornstarch mixture and simmer to thicken slightly , about 1 minute', 'spoon the filling into a lightly oiled 2', '5 quart baking dish', 'stir in the chopped burgers , peas and walnuts', 'taste and adjust the seasonings', 'spread the mashed potatoes over the top', 'sprinkle with paprika and drizzle with 1 tbsp of olive oil', 'bake until the potatoes are hot and bubbly and the top is golden brown , about 30 minutes', 'serve hot']\n"
     ]
    }
   ],
   "source": [
    "#Perform a Similarity Search to view Vector Database output based on input query.\n",
    "\n",
    "query = \"Avocado, Coconut Milk, Tofu, Soy Sauce\"\n",
    "#vector = text_embedding(query)\n",
    "\n",
    "vectordb_output = vectordb.similarity_search(query)\n",
    "\n",
    "# print results\n",
    "print(vectordb_output[0].page_content)"
   ]
  },
  {
   "cell_type": "code",
   "execution_count": 12,
   "metadata": {},
   "outputs": [],
   "source": [
    "# Initalize Azure Openai through Langchain (Default gpt-35-turbo and fine-tuned gpt-35-turbo-0613-ft)\n",
    "\n",
    "client = AzureChatOpenAI(\n",
    "                deployment_name = \"gpt-35-turbo\", #\"gpt-35-turbo-0613-ft\",\n",
    "                openai_api_key = azure_oai_key,\n",
    "                azure_endpoint = azure_oai_endpoint,\n",
    "                openai_api_version = \"2023-05-15\",\n",
    "        )   "
   ]
  },
  {
   "cell_type": "code",
   "execution_count": 13,
   "metadata": {},
   "outputs": [],
   "source": [
    "#Few-Shot prompt\n",
    "\n",
    "examples = [\n",
    "    {\n",
    "        \"input\": \"canola oil, onion, garlic cloves, fresh ginger, jalapeno, curry powder, diced tomatoes with juice, low sodium vegetable broth, natural-style peanut butter, tamari soy sauce, pepper, sweet potato, carrots, chickpeas, fresh okra, frozen green beans, kale, lime, juice of, fresh cilantro, lime wedge, salted peanuts\",\n",
    "        \"output\": \"\"\"{\"name\":\"african peanut stew\",\"minutes\":90,\"tags\":\"['time-to-make', 'course', 'main-ingredient', 'cuisine', 'preparation', 'main-dish', 'beans', 'vegetables', 'african', 'easy', 'vegan', 'vegetarian', 'stews', 'dietary', 'chick-peas-garbanzos', '3-steps-or-less', '4-hours-or-less']\",\"nutrition\":\"[307.8, 20.0, 27.0, 21.0, 22.0, 10.0, 13.0]\",\"n_steps\":11,\"steps\":\"['heat the oil in a large , heavy stockpot', 'add the onion , garlic , jalapeno , and ginger , and cook over moderate heat , stirring frequently , until the onion is lightly browned , about 6 minutes', 'add the curry powder and cook , stirring , until fragrant and lightly toasted , about 2 minutes', 'add the tomatoes , scraping up any bits stuck to the bottom of the pan', 'whisk in the broth and peanut butter , season with pepper and tamari to taste , and bring to a boil', 'cook over moderately high heat for 15 minutes , stirring frequently', 'add the sweet potatoes , carrots , and chickpeas , cover partially and cook over moderately low heat until the vegetables are just tender , about 20 minutes', 'add the okra and green beans , cover partially and cook until all the vegetables are tender , about 10 minutes longer', 'add the kale and juice of 1 lime , and cook for 10 more minutes', 'transfer to deep bowls and serve hot', 'garnish with the cilantro , lime wedges , and chopped peanuts at the table']\",\"description\":\"i first had this stew at a restaurant in rochester, ny, and when i moved away, spent years recreating it!  delicious with a lovely hearty bread, or with rice cooked in the stew (about 3\\/4 cup brown rice added with the sweet potatoes and carrots).\",\"ingredients\":\"['canola oil', 'onion', 'garlic cloves', 'fresh ginger', 'jalapeno', 'curry powder', 'diced tomatoes with juice', 'low sodium vegetable broth', 'natural-style peanut butter', 'tamari soy sauce', 'pepper', 'sweet potato', 'carrots', 'chickpeas', 'fresh okra', 'frozen green beans', 'kale', 'lime, juice of', 'fresh cilantro', 'lime wedge', 'salted peanuts']\",\"n_ingredients\":21}\"\"\",\n",
    "    },\n",
    "    {\n",
    "        \"input\": \"balsamic vinegar, lemon juice, fresh garlic, french dijon mustard, sugar, canola oil, extra virgin olive oil, fresh basil, salt, pepper, orzo pasta, cooked wild rice, red onion, currants, canned corn niblet, toasted almond, parsley, red peppers, yellow peppers, green onion, garlic granules\",\n",
    "        \"output\": \"\"\"{\"name\":\"alexander s orzo and wild rice salad\",\"minutes\":20,\"tags\":\"['30-minutes-or-less', 'time-to-make', 'course', 'main-ingredient', 'preparation', 'occasion', 'salads', 'side-dishes', 'pasta', 'rice', 'easy', 'beginner-cook', 'dinner-party', 'holiday-event', 'vegan', 'vegetarian', 'dietary', 'pasta-rice-and-grains', 'taste-mood', 'savory', 'sweet']\",\"nutrition\":\"[815.5, 72.0, 45.0, 7.0, 31.0, 24.0, 28.0]\",\"n_steps\":7,\"steps\":\"['for dressing: dissolve vinegar , lemon juice , garlic and sugar with a hand whip', 'fold in the mustard , basil , salt and pepper', 'slowly add oils , while whisking vigorously', 'refrigerate', 'use only 1 \\/ 2 cup of dressing for salad', 'place all other ingredients in a mixing bowl and mix well', 'serve ice cold , 38-40f shelf life mixed is two hours']\",\"description\":\"wonderful blend of flavors makes for a delightful side dish or lunch salad.\",\"ingredients\":\"['balsamic vinegar', 'lemon juice', 'fresh garlic', 'french dijon mustard', 'sugar', 'canola oil', 'extra virgin olive oil', 'fresh basil', 'salt', 'pepper', 'orzo pasta', 'cooked wild rice', 'red onion', 'currants', 'canned corn niblet', 'toasted almond', 'parsley', 'red peppers', 'yellow peppers', 'green onion', 'garlic granules']\",\"n_ingredients\":21}\"\"\",\n",
    "    },\n",
    "]\n",
    "\n"
   ]
  },
  {
   "cell_type": "code",
   "execution_count": 14,
   "metadata": {},
   "outputs": [],
   "source": [
    "# Prompt template used to format each individual example.\n",
    "\n",
    "example_prompt = ChatPromptTemplate.from_messages(\n",
    "    [\n",
    "        (\"human\", \"{input}\"),\n",
    "        (\"ai\", \"{output}\"),\n",
    "    ]\n",
    ")\n",
    "\n",
    "few_shot_prompt = FewShotChatMessagePromptTemplate(\n",
    "    example_prompt=example_prompt,\n",
    "    examples=examples,\n",
    ")"
   ]
  },
  {
   "cell_type": "code",
   "execution_count": 15,
   "metadata": {},
   "outputs": [],
   "source": [
    "# Bring together the examples with the system and user (human) inputs.\n",
    "\n",
    "final_prompt = ChatPromptTemplate.from_messages(\n",
    "    [\n",
    "        (\"system\", \"\"\"You are an Cooking Assistant specialising in vegan recipes. your cooking style is mediterranean asian fusion, similar to a mix between Jamie Oliver and Joanne Molinaro. You will be given a set of ingredients and respond with a great tasting recipe involving those ingredients. Use the context and the examples to create the recipe:\n",
    "{context}\"\"\"),\n",
    "        few_shot_prompt,\n",
    "        (\"human\", \"{question}\"),\n",
    "    ]\n",
    ")"
   ]
  },
  {
   "cell_type": "code",
   "execution_count": 16,
   "metadata": {},
   "outputs": [],
   "source": [
    "# Run chain to call Azure openai for Q&A using ChromaDB vector database data to enrich the prompt (RAG).\n",
    "\n",
    "chain = RetrievalQA.from_chain_type(\n",
    "       llm=client,\n",
    "       retriever = vectordb.as_retriever(),\n",
    "       chain_type=\"stuff\",\n",
    "       chain_type_kwargs={\"prompt\": final_prompt}\n",
    ")\n",
    "result = chain.invoke({\"query\": query})"
   ]
  }
 ],
 "metadata": {
  "kernelspec": {
   "display_name": ".venv",
   "language": "python",
   "name": "python3"
  },
  "language_info": {
   "codemirror_mode": {
    "name": "ipython",
    "version": 3
   },
   "file_extension": ".py",
   "mimetype": "text/x-python",
   "name": "python",
   "nbconvert_exporter": "python",
   "pygments_lexer": "ipython3",
   "version": "3.10.4"
  }
 },
 "nbformat": 4,
 "nbformat_minor": 2
}
