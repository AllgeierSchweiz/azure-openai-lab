{
 "cells": [
  {
   "cell_type": "code",
   "execution_count": null,
   "metadata": {},
   "outputs": [],
   "source": [
    "#————————————————————\n",
    "\n",
    "# Name: Data Cleansing and Dedulpication of Openfoodfacts (V1)\n",
    "\n",
    "# Purpose:\n",
    "\n",
    "\n",
    "# Company: Allgeier Schweiz AG\n",
    "# Author: Nicolas Rehder (nrehder@allgeier.ch)\n",
    "# Create for: SDSC 2024\n",
    "# Date Created: 22.01.2024\n",
    "# Last Updated: 22.01.2024\n",
    "# Python Version: 3.10.4\n",
    "\n",
    "# General Sources:\n",
    "\n",
    "# Additionals:\n",
    "\n",
    "# Download Python packages (run the below command in terminal if packages have not yet been installed)\n",
    "# pip install -r C:\\Python\\sdsc\\requirements.txt\n",
    "\n",
    "#————————————————————"
   ]
  },
  {
   "cell_type": "code",
   "execution_count": 3,
   "metadata": {},
   "outputs": [],
   "source": [
    "# Import required libraries\n",
    "import os\n",
    "import io\n",
    "import time\n",
    "from io import StringIO\n",
    "import json\n",
    "from dotenv import load_dotenv\n",
    "from pathlib import Path\n",
    "import pandas as pd\n",
    "from openai import AzureOpenAI\n",
    "import json\n",
    "from IPython.display import clear_output\n",
    "from IPython.core.display import HTML\n",
    "import requests\n",
    "import random\n",
    "import recordlinkage\n",
    "from recordlinkage.index import Block\n",
    "from recordlinkage.index import SortedNeighbourhood\n",
    "import recordlinkage\n"
   ]
  },
  {
   "cell_type": "code",
   "execution_count": 4,
   "metadata": {},
   "outputs": [],
   "source": [
    "# Import openfoodfacts csv\n",
    "\n",
    "path_input = r\"C:\\Python\\data\\en.openfoodfacts.org.products.csv\" #Change path if required\n",
    "df = pd.read_csv(path_input , sep='\\t', on_bad_lines='skip', low_memory=False)"
   ]
  },
  {
   "cell_type": "code",
   "execution_count": 5,
   "metadata": {},
   "outputs": [],
   "source": [
    "def clean_data(data_df):\n",
    "    \"\"\"Split the openfoodfacts dataframe into food and beverage datasets and remove unnecessary features\"\"\"\n",
    "\n",
    "    data_df = data_df[[\"product_name\", \"allergens\", \"categories_tags\", \"countries_en\", \"nutriscore_grade\", \"energy-kcal_100g\", \"fat_100g\", \"saturated-fat_100g\", \"carbohydrates_100g\", \"sugars_100g\", \"proteins_100g\"]]\n",
    "    #data_df = data_df.rename(columns={\"energy-kcal_100g\": \"energy\", \"fat_100g\": \"fat\", \"saturated-fat_100g\": \"saturated_fat\", \"carbohydrates_100g\": \"carbohydrates\", \"sugars_100g\": \"sugars\", \"proteins_100g\": \"proteins\"})\n",
    "    \n",
    "    data_df = data_df.dropna(subset=['product_name'])\n",
    "    data_df = data_df.drop_duplicates(subset ='product_name')\n",
    "    data_df = data_df.dropna(subset=['categories_tags'])\n",
    "    data_df = data_df.dropna(subset=['energy-kcal_100g'])\n",
    "    data_df = data_df.loc[data_df['categories_tags'].str.contains(\"^en:\", regex = True, case=False)]\n",
    "    data_df = data_df[data_df.countries_en.isin([\"United Kingdom\", \"United States\"])]\n",
    "    data_df = data_df[~data_df['product_name'].str.match(r'.*[^\\x00-\\xFF]')]\n",
    "    data_df[\"product_name\"] = data_df[\"product_name\"].str.replace(r'(^.*?,)', '', regex=True)\n",
    "    data_df[\"product_name\"] = data_df[\"product_name\"].str.replace(r'(\\d+)%', '', regex=True)\n",
    "    data_df[\"product_name\"] = data_df[\"product_name\"].str.replace(r'\\s+', ' ', regex=True)\n",
    "    data_df = data_df.reset_index(drop=True)\n",
    "\n",
    "    categories_tags = data_df[\"categories_tags\"].str.split(\",\", n = 5, expand = True)\n",
    "    categories_tags = categories_tags[[0,1,2]]\n",
    "    categories_tags.rename(columns = {0:'level_1', 1:'level_2', 2:'level_3'}, inplace = True)\n",
    "\n",
    "    categories_tags[\"level_1\"] = categories_tags[\"level_1\"].str.replace(r'^en:', '', regex=True)\n",
    "    categories_tags[\"level_2\"] = categories_tags[\"level_2\"].str.replace(r'^en:', '', regex=True)\n",
    "    categories_tags[\"level_3\"] = categories_tags[\"level_3\"].str.replace(r'^en:', '', regex=True)\n",
    "\n",
    "    data_df = data_df.join(categories_tags)\n",
    "    data_df = data_df.drop([\"categories_tags\"], axis = 1)\n",
    "\n",
    "    data_df.replace(\"\", float(\"NaN\"), inplace=True)\n",
    "    data_df = data_df.dropna(subset=['product_name'])\n",
    "    data_df = data_df.dropna(subset=['level_2'])\n",
    "\n",
    "\n",
    "    #Food\n",
    "\n",
    "    # data_df = data_df[data_df.level_1.isin([\"plant-based-foods-and-beverages\", \"plant-based foods\", \"dairies\", \"meats\", \"seafood\", \"sweeteners\", \"farming-products\"])]\n",
    "    # data_df = data_df[~data_df.level_2.isin([\"beverages\", \"whey-powder\", \"baby-foods\", \"evaporated-milks\", \"dietary-supplements\"])]\n",
    "    # data_df = data_df[~data_df.level_3.isin([\"simple-syrups\"])]\n",
    "    data_df = data_df[data_df.level_3.isin([\"fruits-and-vegetables-based-foods\", \"dairy-substitutes\", \"groceries\", \"condiments\", \"legumes-and-their-products\", \"simple-syrups\", \"cereals-and-potatoes\"])]\n",
    "\n",
    "\n",
    "    # data_df = data_df.drop_duplicates(subset = \"product_name\")\n",
    "    # data_df[\"product_name\"] = data_df[\"product_name\"].str.upper()\n",
    "\n",
    " \n",
    "    #data_df[\"product_name\"] = data_df[\"product_name\"].str.split().str[:4].str.join(sep=\" \")\n",
    "    data_df = data_df[data_df['product_name'].map(lambda x: x.isascii())]\n",
    "    data_df = data_df.reset_index(drop=True)\n",
    "\n",
    "\n",
    "    return (data_df)"
   ]
  },
  {
   "cell_type": "code",
   "execution_count": 13,
   "metadata": {},
   "outputs": [],
   "source": [
    "openfoodfacts = clean_data(df)"
   ]
  },
  {
   "cell_type": "code",
   "execution_count": 10,
   "metadata": {},
   "outputs": [],
   "source": [
    "def deduplicate(data_df):\n",
    "    \"\"\"Removes duplicate products based on four different columns. The algorithm produces a dataset that is approx. 1/5 the size of the original\"\"\"\n",
    "\n",
    "\n",
    "    indexer = recordlinkage.Index()\n",
    "    indexer.add(SortedNeighbourhood(left_on='product_name', right_on='product_name'))\n",
    "    # indexer.add(SortedNeighbourhood(left_on='level_2', right_on='level_2'))\n",
    "    # indexer.add(SortedNeighbourhood(left_on='level_3', right_on='level_3'))\n",
    "\n",
    "    candidates = indexer.index(data_df)\n",
    "\n",
    "    compare = recordlinkage.Compare()\n",
    "    compare.string('product_name', 'product_name', label='rl_product_name', threshold=0.80, method='jarowinkler')\n",
    "    # compare.exact('level_2', 'level_2', label='rl_level_2')\n",
    "    # compare.exact('level_3', 'level_3', label='rl_level_3')\n",
    "\n",
    "    features = compare.compute(candidates, data_df)\n",
    "    features['score'] = features['rl_product_name']\n",
    "    full_matches = features.query('score>=1')\n",
    "    data_df = data_df[~data_df.index.isin(full_matches.index.get_level_values(1))] \n",
    "\n",
    "    #Reset Index\n",
    "    data_df = data_df.reset_index(drop=True)\n",
    "\n",
    "    return (data_df)"
   ]
  },
  {
   "cell_type": "code",
   "execution_count": 11,
   "metadata": {},
   "outputs": [],
   "source": [
    "openfoodfacts_dedup = deduplicate(clean_data(df))"
   ]
  },
  {
   "cell_type": "code",
   "execution_count": 12,
   "metadata": {},
   "outputs": [],
   "source": [
    "#path_output = r\"C:\\Python\\openai-lab\\data\\openfoodfacts.csv\"\n",
    "path_output = r\"C:\\Python\\data\\openfoodfacts.csv\" #Change path if required\n",
    "\n",
    "#df_products.to_excel(path_output, sheet_name='Sheet1', index = False)\n",
    "openfoodfacts_dedup.to_csv(path_output, sep='\\t', encoding='utf-8', index=False)\n"
   ]
  }
 ],
 "metadata": {
  "kernelspec": {
   "display_name": "Python 3.9.12 64-bit",
   "language": "python",
   "name": "python3"
  },
  "language_info": {
   "codemirror_mode": {
    "name": "ipython",
    "version": 3
   },
   "file_extension": ".py",
   "mimetype": "text/x-python",
   "name": "python",
   "nbconvert_exporter": "python",
   "pygments_lexer": "ipython3",
   "version": "3.10.4"
  },
  "orig_nbformat": 4,
  "vscode": {
   "interpreter": {
    "hash": "8a26a46d41c53cce9d90065d1d22056f0354c9235914921a872714371fb00697"
   }
  }
 },
 "nbformat": 4,
 "nbformat_minor": 2
}
