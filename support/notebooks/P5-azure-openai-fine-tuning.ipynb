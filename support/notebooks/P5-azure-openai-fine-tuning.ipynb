{
 "cells": [
  {
   "cell_type": "code",
   "execution_count": null,
   "metadata": {},
   "outputs": [],
   "source": [
    "#————————————————————\n",
    "\n",
    "# Name: Azure OpenAI API, Fine-Tuning\n",
    "\n",
    "# Purpose: This notebook will use the Fine-tuned to create vegan recipes.\n",
    "\n",
    "# Company: Allgeier Schweiz AG\n",
    "# Author: Nicolas Rehder (nrehder@allgeier.ch), Alex Dean (adean@allgeier.ch)\n",
    "# Create for: SDSC 2024\n",
    "# Date Created: 22.01.2024\n",
    "# Last Updated: 25.05.2024\n",
    "# Python Version: 3.10.4\n",
    "\n",
    "# Additionals:\n",
    "# Use Region EASTUS2\n",
    "\n",
    "# If necessary, download Python packages (run the below command in terminal if packages have not yet been installed)\n",
    "# pip install -r C:\\Python\\sdsc\\requirements.txt\n",
    "\n",
    "#————————————————————"
   ]
  },
  {
   "cell_type": "code",
   "execution_count": 17,
   "metadata": {},
   "outputs": [],
   "source": [
    "# Import Python packages\n",
    "import os\n",
    "import io\n",
    "import time\n",
    "from io import StringIO\n",
    "import json\n",
    "from dotenv import load_dotenv\n",
    "from pathlib import Path\n",
    "import pandas as pd\n",
    "from openai import AzureOpenAI\n",
    "import json\n",
    "from IPython.display import clear_output\n",
    "from IPython.core.display import HTML\n",
    "import requests\n",
    "import random"
   ]
  },
  {
   "cell_type": "code",
   "execution_count": 18,
   "metadata": {},
   "outputs": [],
   "source": [
    "# Load required variables from .env file.\n",
    "load_dotenv(dotenv_path=Path(\"/workspaces/azure-openai-lab/.venv/.env\")) #Error sometimes due to \\ or \\\\. Try one or the other. \"C:\\\\Python\\\\azure-openai-lab\\\\.venv\\\\.env\"\n",
    "\n",
    "# Load Azure OpenAI Key and Endpoint. These values can be found within the Azure OpenAI Service resource in portal.azure.com under Keys and Endpoint\n",
    "azure_oai_key = os.environ['AZURE_OPENAI_KEY']\n",
    "azure_oai_endpoint = os.environ['AZURE_OPENAI_ENDPOINT']"
   ]
  },
  {
   "cell_type": "code",
   "execution_count": 19,
   "metadata": {},
   "outputs": [],
   "source": [
    "# Initialize the Azure OpenAI client\n",
    "client = AzureOpenAI(\n",
    "    api_key = azure_oai_key,  \n",
    "    azure_endpoint = azure_oai_endpoint,\n",
    "    api_version = \"2024-02-15-preview\"\n",
    "    )"
   ]
  },
  {
   "cell_type": "code",
   "execution_count": 20,
   "metadata": {},
   "outputs": [
    {
     "name": "stdout",
     "output_type": "stream",
     "text": [
      "{\"name\":\"tofu and avocado in soy chilli sauce  macau style\",\"minutes\":50,\"tags\":\"['60-minutes-or-less', 'time-to-make', 'course', 'main-ingredient', 'cuisine', 'preparation', 'occasion', 'main-dish', 'fruit', 'asian', 'dinner-party', 'vegan', 'vegetarian', 'stir-fry', 'dietary', 'inexpensive', 'comfort-food', 'cabbage', 'tofu', 'asparagus', 'brunch', 'mushrooms', 'taste-mood', 'savory', 'spicy-hot', 'equipment']\",\"nutrition\":\"[546.8, 48.0, 48.0, 49.0, 10.0, 84.0, 25.0]\",\"n_steps\":15,\"steps\":\"['marinate the tofu and avocado in the sauce for 10 minutes', 'in a large non-stick frying pan , heat the canola oil over high heat', 'stir fry the tofu and avocado for 3 minutes or until golden', 'add the soy sauce , chilli sauce , coconut milk and agua , and simmer for 5 minutes or until the sauce has thickened', 'divide the broccoli and the cabbage between four plates and top with the tofu and avocado', 'garnish with the sprouts and chives and drizzle with the sauce', 'serve with rice if desired', 'if broccolini is not available , , use regular broccoli cut into florettes', 'the canola oil is needed for sauteing as the dish is meant to be low fat , however , olive oil could be used instead', 'i hope you enjoy', 'whooops , i dont know what happened with the nutrition info , all i can say is that this is a very low fat meal , especially if you are using rice i think the problem is with the coconut milk , the nutritional info is calculated using regular coconut milk', 'so if you use low fat coconut milk , the meal would be even lower in fat nutrition information is very approximate', 'for a lower fat sa-use 1 cup water in place of the coconut milk and omit the oil', 'i have put broccolini on the ingredient list and cabbage in the tags , but it would be good with any green vegetable broccolini is also called chinese broccoli , and is very tasty !']\",\"description\":\"this is from the september 2005 edition of the australian magazine 'delicious'. it's a nice variation on the usual same old vegan stir fry and it has avocado - bonus! i've made this a few times and it always gets gobsmackingly good reviews from everyone.\",\"ingredients\":\"['tofu', 'avocado', 'soy sauce', 'chili', 'coconut milk', 'broccoli']\",\"n_ingredients\":6,\"dense_feature\":\"tofu and avocado in soy chilli sauce  macau style;50;['60-minutes-or-less', 'time-to-make', 'course', 'main-ingredient', 'cuisine', 'preparation', 'occasion', 'main-dish', 'fruit', 'asian', 'dinner-party', 'vegan', 'vegetarian', 'stir-fry', 'dietary', 'inexpensive', 'comfort-food', 'cabbage', 'tofu', 'asparagus', 'brunch', 'mushrooms', 'taste-mood', 'savory', 'spicy-hot', 'equipment'];[546.8, 48.0, 48.0, 49.0, 10.0, 84.0, 25.0];['tofu', 'avocado', 'soy sauce', 'chili', 'coconut milk', 'broccoli'];15;['marinate the tofu and avocado in the sauce for 10 minutes', 'in a large non-stick frying pan , heat the canola oil over high heat', 'stir fry the tofu and avocado for 3 minutes or until golden', 'add the soy sauce , chilli sauce , coconut milk and agua , and simmer for 5 minutes or until the sauce has thickened', 'divide the broccoli and the cabbage between four plates and top with the tofu and avocado', 'garnish with the sprouts and chives and drizzle with the sauce', 'serve with rice if desired', 'if broccolini is not available , , use regular broccoli cut into florettes', 'the canola oil is needed for sauteing as the dish is meant to be low fat , however , olive oil could be used instead', 'i hope you enjoy', 'whooops , i dont know what happened with the nutrition info , all i can say is that this is a very low fat meal , especially if you are using rice i think the problem is with the coconut milk , the nutritional info is calculated using regular coconut milk', 'so if you use low fat coconut milk , the meal would be even lower in fat nutrition information is very approximate', 'for a lower fat sa-use 1 cup water in place of the coconut milk and omit the oil', 'i have put broccolini on the ingredient list and cabbage in the tags , but it would be good with any green vegetable broccolini is also called chinese broccoli , and is very tasty !']\"}\n"
     ]
    }
   ],
   "source": [
    "# Zero-Shot learning. Model has a token limit of 4096.\n",
    "\n",
    "# Create advanced System prompt\n",
    "systemcontent = \\\n",
    "\"\"\"\n",
    "### INSTRUCTIONS\n",
    "Persona: Act as a head chef such as Joël Robuchon who specializes in simple contemporary cuisine.\n",
    "Action: Create well-thought-out and flavourful vegan recipes from a list of ingredients implementing classic culinary techniques.\n",
    "Target Audience: The recipients of these vegan recipes are couples who want to cook a special meal at least once a week.\n",
    "\n",
    "---\n",
    "\n",
    "### OUTPUT FORMAT\n",
    "Output only one vegan recipe and return it as a JSON object with the following format:\n",
    "{\"name\":\"\",\"minutes\":,\"tags\":\"[]\",\"nutrition\":\"[]\",\"n_steps\":\"\",\"steps\":\"[]\",\"description\":\"\",\"ingredients\":\"[]\", \"n_ingredients\":}\n",
    "\n",
    "The variables should contain the following information:\n",
    "- name: the name of the recipe.\n",
    "- minutes: the time in minutes to prepare the recipe.\n",
    "- tags: a list of words that characterize the recipe.\n",
    "- nutrition: a list of numeric values representing calories, total fat, sugar, sodium, protein, saturated fat, and carbohydrates.\n",
    "- n_steps: the number of steps to prepare the recipe.\n",
    "- steps: a list of steps to prepare the recipe.\n",
    "- description: a summary of the recipe.\n",
    "- ingredients: a list of the ingredient names in the recipe.\n",
    "- n_ingredients: the total number of ingredients used in the recipe.\n",
    "\"\"\"\n",
    "\n",
    "# Create a prompt of ingredients the model should create a recipe from\n",
    "ingredients = \"\"\"'Tofu', 'Avocado', 'Soy Sauce', 'Chili', 'Coconut Milk', 'Broccoli'\"\"\"\n",
    "\n",
    "# Send request to Azure OpenAI model\n",
    "completion = client.chat.completions.create(\n",
    "  model = \"gpt-35-turbo-0613-ft\",\n",
    "  #response_format={ \"type\": \"json_object\" }, # Not support for fine tuned models\n",
    "  messages = [    \n",
    "    {\"role\": \"system\", \"content\": systemcontent},\n",
    "    {\"role\": \"user\", \"content\": ingredients}\n",
    "  ]\n",
    ")\n",
    "\n",
    "# View generated recipe\n",
    "result = completion.choices[0].message.content\n",
    "print(result)\n"
   ]
  },
  {
   "cell_type": "code",
   "execution_count": 16,
   "metadata": {},
   "outputs": [],
   "source": [
    "#Transform output to pandas dataframe and save as CSV file\n",
    "\n",
    "# Clean up Azure OpenAI Output\n",
    "json_data = result.strip('` \\n')\n",
    "\n",
    "if json_data.startswith('json'):\n",
    "    json_data = json_data[4:]  # Remove the first 4 characters 'json'\n",
    "\n",
    "recipes_from_ft_json = json.loads(json_data)\n",
    "recipes_from_ft = pd.json_normalize(recipes_from_ft_json)\n",
    "# path_output = r\"/workspaces/azure-openai-lab/data/recipes-from-ft.csv\" #r\"C:\\Python\\azure-openai-lab\\data\\recipes-from-ft.csv\"\n",
    "# recipes_from_ft.to_csv(path_output, sep='\\t', encoding='utf-8', index=False)"
   ]
  }
 ],
 "metadata": {
  "kernelspec": {
   "display_name": ".venv",
   "language": "python",
   "name": "python3"
  },
  "language_info": {
   "codemirror_mode": {
    "name": "ipython",
    "version": 3
   },
   "file_extension": ".py",
   "mimetype": "text/x-python",
   "name": "python",
   "nbconvert_exporter": "python",
   "pygments_lexer": "ipython3",
   "version": "3.10.4"
  }
 },
 "nbformat": 4,
 "nbformat_minor": 2
}
