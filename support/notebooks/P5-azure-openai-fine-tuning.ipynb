{
 "cells": [
  {
   "cell_type": "code",
   "execution_count": null,
   "metadata": {},
   "outputs": [],
   "source": [
    "#————————————————————\n",
    "\n",
    "# Name: Azure OpenAI API, Fine-Tuning\n",
    "\n",
    "# Purpose: This notebook will use the Fine-tuned to create vegan recipes.\n",
    "\n",
    "# Company: Allgeier Schweiz AG\n",
    "# Author: Nicolas Rehder (nrehder@allgeier.ch), Alex Dean (adean@allgeier.ch)\n",
    "# Create for: SDSC 2024\n",
    "# Date Created: 22.01.2024\n",
    "# Last Updated: 25.05.2024\n",
    "# Python Version: 3.10.4\n",
    "\n",
    "# Additionals:\n",
    "# Use Region EASTUS2\n",
    "\n",
    "# If necessary, download Python packages (run the below command in terminal if packages have not yet been installed)\n",
    "# pip install -r C:\\Python\\sdsc\\requirements.txt\n",
    "\n",
    "#————————————————————"
   ]
  },
  {
   "cell_type": "code",
   "execution_count": 4,
   "metadata": {},
   "outputs": [],
   "source": [
    "# Import Python packages\n",
    "import os\n",
    "import io\n",
    "import time\n",
    "from io import StringIO\n",
    "import json\n",
    "from dotenv import load_dotenv\n",
    "from pathlib import Path\n",
    "import pandas as pd\n",
    "from openai import AzureOpenAI\n",
    "import json\n",
    "from IPython.display import clear_output\n",
    "from IPython.core.display import HTML\n",
    "import requests\n",
    "import random"
   ]
  },
  {
   "cell_type": "code",
   "execution_count": 5,
   "metadata": {},
   "outputs": [],
   "source": [
    "# Load required variables from .env file.\n",
    "load_dotenv(dotenv_path=Path(\"/workspaces/azure-openai-lab/.venv/.env\")) #Error sometimes due to \\ or \\\\. Try one or the other. \"C:\\\\Python\\\\azure-openai-lab\\\\.venv\\\\.env\"\n",
    "\n",
    "# Load Azure OpenAI Key and Endpoint. These values can be found within the Azure OpenAI Service resource in portal.azure.com under Keys and Endpoint\n",
    "azure_oai_key = os.environ['AZURE_OPENAI_KEY']\n",
    "azure_oai_endpoint = os.environ['AZURE_OPENAI_ENDPOINT']"
   ]
  },
  {
   "cell_type": "code",
   "execution_count": 6,
   "metadata": {},
   "outputs": [],
   "source": [
    "# Initialize the Azure OpenAI client\n",
    "client = AzureOpenAI(\n",
    "    api_key = azure_oai_key,  \n",
    "    azure_endpoint = azure_oai_endpoint,\n",
    "    api_version = \"2024-02-15-preview\"\n",
    "    )"
   ]
  },
  {
   "cell_type": "code",
   "execution_count": 7,
   "metadata": {},
   "outputs": [
    {
     "name": "stdout",
     "output_type": "stream",
     "text": [
      "{\"name\":\"vegan instant pot sunday supper  mock \\\"veal\\\" roast with brown butter and lemon\", \"minutes\":125, \"tags\":\"['weeknight', 'time-to-make', 'course', 'main-ingredient', 'cuisine', 'preparation', 'occasion', 'main-dish', 'beans', 'vegetables', 'italian', 'vegan', 'vegetarian', 'potatoes', 'dietary', 'one-dish-meals', 'soy-tofu', 'pressure-cooker', '3-steps-or-less', '4-hours-or-less']\",\"nutrition\":\"[512.2, 25.0, 49.0, 684.0, 47.0, 14.0, 14.0]\",\"n_steps\":20,\"steps\":\"['put some holes on the roast all around and stud with 1\\/2 the garlic', \\\"marinade- gently heat butter in a small skillet over medium?low flame until it begins to brown and smell nutty .\\\", 'you really have to watch this carefully so it does not burn', 'squeeze lemon into a 4 cup or larger liquid measure , add water to equal 4 cups , and set aside', 'pour olive oil in the bottom of the instant pot and put the roast in ', 'add the soy sauce , sprinkle on the herbs , spread with the remaining garlic , and salt and pepper generously', 'truss the roast or tie with kitchen string every 1 1\\/2 or 2 inches', 'this keeps it together before browning', 'sprinkle with browned butter', 'set instant pot to the brown function , and when it has heated , add the butter\\/oil mixture and turn\\/roll the roast to brown on all sides---about 12-15 minutes total', 'remove the roast to a platter or large rimmed baking sheet', 'add the marinade to the pot , stirring to scrape up any browned bits on the bottom', 'put the vegetables , the 2 halves of the browned garlic , and the herb bundle in the pot and set the roast on top , fat?side up', 'tuck the bacon around the roast if using', 'doneness note - if you like your vegetables very tender , you can put them in at the beginning of the cooking time', 'they will not be mushy; more like roasted vegetables ?a little caramelized and crisp:)', 'cover the pot and set the steam release knob to sealing', 'set the instant pot to high pressure for 45 minutes if your \\\"roast\\\" is thawed , or 90 minutes if it is frozen', 'this makes the meat equivalent to a blade roast -well done and pulls apart easily', 'after the cooking time is over , let the pressure release naturally for at least 20 minutes , then quick release any remaining pressure and carefully open the pot', 'remove the roast to a platter and tent with foil']\",\"description\":\"a delicious main course made in the instant pot or other brand of electric pressure cooker or multi-cooker.  plan ahead as the 'roast' has to marinate for at least 4 hours, and up to 24.\",\"ingredients\":\"['veal roast', 'butter', 'oil', 'carrots', 'onions', 'parsley sprigs', 'bay leaf', 'thyme', 'salt', 'pepper', 'bacon']\",\"n_ingredients\":11,\"dense_feature\":\"vegan instant pot sunday supper  mock \\\"veal\\\" roast with brown butter and lemon;['weeknight', 'time-to-make', 'course', 'main-ingredient', 'cuisine', 'preparation', 'occasion', 'main-dish', 'beans', 'vegetables', 'italian', 'vegan', 'vegetarian', 'potatoes', 'dietary', 'one-dish-meals', 'soy-tofu', 'pressure-cooker', '3-steps-or-less', '4-hours-or-less'];[512.2, 25.0, 49.0, 684.0, 47.0, 14.0, 14.0];['veal roast', 'butter', 'oil', 'carrots', 'onions', 'parsley sprigs', 'bay leaf', 'thyme', 'salt', 'pepper', 'bacon'];['put some holes on the roast all around and stud with 1\\/2 the garlic', \\\"marinade- gently heat butter in a small skillet over medium?low flame until it begins to brown and smell nutty .\\\", 'you really have to watch this carefully so it does not burn', 'squeeze lemon into a 4 cup or larger liquid measure , add water to equal 4 cups , and set aside', 'pour olive oil in the bottom of the instant pot and put the roast in ', 'add the soy sauce , sprinkle on the herbs , spread with the remaining garlic , and salt and pepper generously', 'truss the roast or tie with kitchen string every 1 1\\/2 or 2 inches', 'this keeps it together before browning', 'sprinkle with browned butter', 'set instant pot to the brown function , and when it has heated , add the butter\\/oil mixture and turn\\/roll the roast to brown on all sides---about 12-15 minutes total', 'remove the roast to a platter or large rimmed baking sheet', 'add the marinade to the pot , stirring to scrape up any browned bits on the bottom', 'put the vegetables , the 2 halves of the browned garlic , and the herb bundle in the pot and set the roast on top , fat?side up', 'tuck the bacon around the roast if using', 'doneness note - if you like your vegetables very tender , you can put them in at the beginning of the cooking time', 'they will not be mushy; more like roasted vegetables ?a little caramelized and crisp:)', 'cover the pot and set the steam release knob to sealing', 'set the instant pot to high pressure for 45 minutes if your \\\"roast\\\" is thawed , or 90 minutes if it is frozen', 'this makes the meat equivalent to a blade roast -well done and pulls apart easily', 'after the cooking time is over , let the pressure release naturally for at least 20 minutes , then quick release any remaining pressure and carefully open the pot', 'remove the roast to a platter and tent with foil']\"}\n",
      "\n"
     ]
    }
   ],
   "source": [
    "# Zero-Shot learning. Model has a token limit of 4096.\n",
    "\n",
    "# Create advanced System prompt\n",
    "systemcontent = \\\n",
    "\"\"\"\n",
    "### INSTRUCTIONS\n",
    "Persona: Act as a head chef such as Joël Robuchon who specializes in simple contemporary cuisine.\n",
    "Action: Create well-thought-out and flavourful vegan recipes from a list of ingredients implementing classic culinary techniques.\n",
    "Target Audience: The recipients of these vegan recipes are couples who want to cook a special meal at least once a week.\n",
    "\n",
    "---\n",
    "\n",
    "### OUTPUT FORMAT\n",
    "Output only one vegan recipe and return it as a JSON object with the following format:\n",
    "{\"name\":\"\",\"minutes\":,\"tags\":\"[]\",\"nutrition\":\"[]\",\"n_steps\":\"\",\"steps\":\"[]\",\"description\":\"\",\"ingredients\":\"[]\", \"n_ingredients\":}\n",
    "\n",
    "The variables should contain the following information:\n",
    "- name: the name of the recipe.\n",
    "- minutes: the time in minutes to prepare the recipe.\n",
    "- tags: a list of words that characterize the recipe.\n",
    "- nutrition: a list of numeric values representing calories, total fat, sugar, sodium, protein, saturated fat, and carbohydrates.\n",
    "- n_steps: the number of steps to prepare the recipe.\n",
    "- steps: a list of steps to prepare the recipe.\n",
    "- description: a summary of the recipe.\n",
    "- ingredients: a list of the ingredient names in the recipe.\n",
    "- n_ingredients: the total number of ingredients used in the recipe.\n",
    "\"\"\"\n",
    "\n",
    "# Create a prompt of ingredients the model should create a recipe from\n",
    "ingredients = \"\"\"'veal roast', 'butter', 'oil', 'carrots', 'onions', 'parsley sprigs', 'bay leaf', 'thyme', 'salt', 'pepper', 'bacon'\"\"\"\n",
    "\n",
    "# Send request to Azure OpenAI model\n",
    "completion = client.chat.completions.create(\n",
    "  model = \"gpt-35-turbo-0613-ft\",\n",
    "  #response_format={ \"type\": \"json_object\" }, # Not support for fine tuned models\n",
    "  messages = [    \n",
    "    {\"role\": \"system\", \"content\": systemcontent},\n",
    "    {\"role\": \"user\", \"content\": ingredients}\n",
    "  ]\n",
    ")\n",
    "\n",
    "# View generated recipe\n",
    "result = completion.choices[0].message.content\n",
    "print(result)\n"
   ]
  },
  {
   "cell_type": "code",
   "execution_count": 9,
   "metadata": {},
   "outputs": [],
   "source": [
    "#Transform output to pandas dataframe and save as CSV file\n",
    "\n",
    "# Clean up Azure OpenAI Output\n",
    "json_data = result.strip('` \\n')\n",
    "\n",
    "if json_data.startswith('json'):\n",
    "    json_data = json_data[4:]  # Remove the first 4 characters 'json'\n",
    "\n",
    "recipes_from_ft_json = json.loads(json_data)\n",
    "recipes_from_ft = pd.json_normalize(recipes_from_ft_json)\n",
    "# path_output = r\"/workspaces/azure-openai-lab/data/recipes-from-ft.csv\" #r\"C:\\Python\\azure-openai-lab\\data\\recipes-from-ft.csv\"\n",
    "# recipes_from_ft.to_csv(path_output, sep='\\t', encoding='utf-8', index=False)"
   ]
  }
 ],
 "metadata": {
  "kernelspec": {
   "display_name": ".venv",
   "language": "python",
   "name": "python3"
  },
  "language_info": {
   "codemirror_mode": {
    "name": "ipython",
    "version": 3
   },
   "file_extension": ".py",
   "mimetype": "text/x-python",
   "name": "python",
   "nbconvert_exporter": "python",
   "pygments_lexer": "ipython3",
   "version": "3.10.4"
  }
 },
 "nbformat": 4,
 "nbformat_minor": 2
}
