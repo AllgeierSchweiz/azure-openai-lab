{
 "cells": [
  {
   "cell_type": "code",
   "execution_count": null,
   "metadata": {},
   "outputs": [],
   "source": [
    "#————————————————————\n",
    "\n",
    "# Name: Azure OpenAI API, Fine-Tuning\n",
    "\n",
    "# Purpose: This notebook will create a Fine-tuned model using GPT-3.5-Turbo.\n",
    "\n",
    "# Company: Allgeier Schweiz AG\n",
    "# Author: Nicolas Rehder (nrehder@allgeier.ch), Alex Dean (adean@allgeier.ch)\n",
    "# Create for: SDSC 2024\n",
    "# Date Created: 22.01.2024\n",
    "# Last Updated: 20.05.2024\n",
    "# Python Version: 3.10.4\n",
    "\n",
    "# General Sources:\n",
    "\n",
    "# Azure Authentication Token\n",
    "# https://learn.microsoft.com/en-us/cli/azure/account?view=azure-cli-latest#az-account-get-access-token()\n",
    "\n",
    "\n",
    "# Additionals:\n",
    "\n",
    "# If necessary, download Python packages (run the below command in terminal if packages have not yet been installed)\n",
    "# pip install -r C:\\Python\\sdsc\\requirements.txt\n",
    "\n",
    "#————————————————————"
   ]
  },
  {
   "cell_type": "code",
   "execution_count": 1,
   "metadata": {},
   "outputs": [],
   "source": [
    "# Import Python packages\n",
    "import os\n",
    "import io\n",
    "import time\n",
    "from io import StringIO\n",
    "import json\n",
    "from dotenv import load_dotenv\n",
    "from pathlib import Path\n",
    "import pandas as pd\n",
    "from openai import AzureOpenAI\n",
    "import json\n",
    "from IPython.display import clear_output\n",
    "from IPython.core.display import HTML\n",
    "import requests\n",
    "import random"
   ]
  },
  {
   "cell_type": "code",
   "execution_count": 4,
   "metadata": {},
   "outputs": [],
   "source": [
    "# Load required variables from .env file.\n",
    "load_dotenv(dotenv_path=Path(\"/workspaces/azure-openai-lab/.venv/.env\")) #Error sometimes due to \\ or \\\\. Try one or the other. \"C:\\\\Python\\\\azure-openai-lab\\\\.venv\\\\.env\"\n",
    "\n",
    "# Load Azure OpenAI Key and Endpoint. These values can be found within the Azure OpenAI Service resource in portal.azure.com under Keys and Endpoint\n",
    "azure_oai_key = os.environ['AZURE_OPENAI_KEY']\n",
    "azure_oai_endpoint = os.environ['AZURE_OPENAI_ENDPOINT']"
   ]
  },
  {
   "cell_type": "code",
   "execution_count": 5,
   "metadata": {},
   "outputs": [],
   "source": [
    "# Initialize the Azure OpenAI client\n",
    "client = AzureOpenAI(\n",
    "    api_key = azure_oai_key,  \n",
    "    azure_endpoint = azure_oai_endpoint,\n",
    "    api_version = \"2024-02-15-preview\"\n",
    "    )"
   ]
  },
  {
   "cell_type": "code",
   "execution_count": 15,
   "metadata": {},
   "outputs": [],
   "source": [
    "# Zero-Shot learning. Model has a token limit of 4096.\n",
    "\n",
    "# Create advanced System prompt\n",
    "systemcontent = \\\n",
    "\"\"\"\n",
    "### Instructions\n",
    "Persona: Act as a head chef such as Joël Robuchon who specializes in simple contemporary cuisine.\n",
    "Action: Create well-thought-out and flavourful vegan recipes from a list of ingredients implementing classic culinary techniques.\n",
    "Target Audience: The recipients of these vegan recipes are couples who want to cook a special meal at least once a week.\n",
    "\n",
    "### Output format\n",
    "Output only one vegan recipe and return it as a JSON object with the following format:\n",
    "{\"name\":\"\",\"minutes\":,\"tags\":\"[]\",\"nutrition\":\"[]\",\"n_steps\":\"\",\"steps\":\"[]\",\"description\":\"\",\"ingredients\":\"[]\", \"n_ingredients\":}\n",
    "\n",
    "The variables should contain the following information:\n",
    "- name: the name of the recipe.\n",
    "- minutes: the time in minutes to prepare the recipe.\n",
    "- tags: a list of words that characterize the recipe.\n",
    "- nutrition: a list of numeric values representing calories, total fat, sugar, sodium, protein, saturated fat, and carbohydrates.\n",
    "- n_steps: the number of steps to prepare the recipe.\n",
    "- steps: a list of steps to prepare the recipe.\n",
    "- description: a summary of the recipe.\n",
    "- ingredients: a list of the ingredient names in the recipe.\n",
    "- n_ingredients: the total number of ingredients used in the recipe.\n",
    "\"\"\"\n",
    "\n",
    "# Create a prompt of ingredients the model should create a recipe from\n",
    "ingredients = \"\"\"'veal roast', 'butter', 'oil', 'carrots', 'onions', 'parsley sprigs', 'bay leaf', 'thyme', 'salt', 'pepper', 'bacon'\"\"\"\n",
    "\n",
    "# Send request to Azure OpenAI model\n",
    "completion = client.chat.completions.create(\n",
    "  model = \"gpt-35-turbo-0613-ft\",\n",
    "  #response_format={ \"type\": \"json_object\" }, # Not support for fine tuned models\n",
    "  messages = [    \n",
    "    {\"role\": \"system\", \"content\": systemcontent},\n",
    "    {\"role\": \"user\", \"content\": ingredients}\n",
    "  ]\n",
    ")\n",
    "\n",
    "# View generated recipe\n",
    "result = completion.choices[0].message.content\n",
    "print(result)\n"
   ]
  },
  {
   "cell_type": "code",
   "execution_count": null,
   "metadata": {},
   "outputs": [],
   "source": [
    "#Transform output to pandas dataframe and save as CSV file\n",
    "\n",
    "# Clean up Azure OpenAI Output\n",
    "json_data = result['result'].strip('` \\n')\n",
    "\n",
    "if json_data.startswith('json'):\n",
    "    json_data = json_data[4:]  # Remove the first 4 characters 'json'\n",
    "\n",
    "recipes_from_ft_json = json.loads(json_data)\n",
    "recipes_from_ft = pd.json_normalize(recipes_from_ft_json)\n",
    "# path_output = r\"/workspaces/azure-openai-lab/data/recipes-from-ft.csv\" #r\"C:\\Python\\azure-openai-lab\\data\\recipes-from-ft.csv\"\n",
    "# recipes_from_ft.to_csv(path_output, sep='\\t', encoding='utf-8', index=False)"
   ]
  }
 ],
 "metadata": {
  "kernelspec": {
   "display_name": ".venv",
   "language": "python",
   "name": "python3"
  },
  "language_info": {
   "codemirror_mode": {
    "name": "ipython",
    "version": 3
   },
   "file_extension": ".py",
   "mimetype": "text/x-python",
   "name": "python",
   "nbconvert_exporter": "python",
   "pygments_lexer": "ipython3",
   "version": "3.10.4"
  }
 },
 "nbformat": 4,
 "nbformat_minor": 2
}
