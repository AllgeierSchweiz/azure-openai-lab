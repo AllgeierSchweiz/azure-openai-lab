{
 "cells": [
  {
   "cell_type": "code",
   "execution_count": null,
   "metadata": {},
   "outputs": [],
   "source": [
    "#————————————————————\n",
    "\n",
    "# Name: Data Cleansing and Dedulpication of Openfoodfacts (V1)\n",
    "\n",
    "# Purpose:\n",
    "\n",
    "\n",
    "# Company: Allgeier Schweiz AG\n",
    "# Author: Nicolas Rehder (nrehder@allgeier.ch)\n",
    "# Create for: SDSC 2024\n",
    "# Date Created: 22.01.2024\n",
    "# Last Updated: 22.01.2024\n",
    "# Python Version: 3.10.4\n",
    "\n",
    "# General Sources:\n",
    "\n",
    "# Additionals:\n",
    "\n",
    "# Download Python packages (run the below command in terminal if packages have not yet been installed)\n",
    "# pip install -r C:\\Python\\sdsc\\requirements.txt\n",
    "\n",
    "#————————————————————"
   ]
  },
  {
   "cell_type": "code",
   "execution_count": 1,
   "metadata": {},
   "outputs": [],
   "source": [
    "# Import required libraries\n",
    "import os\n",
    "import io\n",
    "import time\n",
    "from io import StringIO\n",
    "import json\n",
    "import numpy as np\n",
    "from pathlib import Path\n",
    "import pandas as pd\n",
    "import requests\n",
    "import random"
   ]
  },
  {
   "cell_type": "code",
   "execution_count": 2,
   "metadata": {},
   "outputs": [],
   "source": [
    "# Import recipes csv\n",
    "\n",
    "path_input = r\"C:\\Python\\data\\recipes.csv\" #Change path if required\n",
    "df = pd.read_csv(path_input , sep=',', on_bad_lines='skip', low_memory=False)"
   ]
  },
  {
   "cell_type": "code",
   "execution_count": 3,
   "metadata": {},
   "outputs": [],
   "source": [
    "# Remove columns\n",
    "\n",
    "df = df.drop(['id', 'contributor_id', 'submitted'], axis=1)\n",
    "\n",
    "# Remove double whitespaces from name\n",
    "\n",
    "df[\"name\"] = df[\"name\"].str.replace(r'\\s+', ' ', regex=True)\n",
    "\n",
    "# Create subset of data with only vegan recipes\n",
    "df = df[df['tags'].str.contains(\"vegan\")]\n",
    "\n",
    "# Create subset of data\n",
    "df = df.sample(frac = 0.001)\n",
    "\n",
    "# Creating subset of the subset with 70% values of original dataframe\n",
    "df_recipe_training_set = df.sample(frac = 0.7)\n",
    "\n",
    "#Creating dataframe with rest of the 30% values\n",
    "df_recipe_validation_set = df.drop(df_recipe_training_set.index)"
   ]
  },
  {
   "cell_type": "code",
   "execution_count": 11,
   "metadata": {},
   "outputs": [],
   "source": [
    "df = df.sample(frac = 0.010)"
   ]
  },
  {
   "cell_type": "code",
   "execution_count": 66,
   "metadata": {},
   "outputs": [
    {
     "data": {
      "text/plain": [
       "'{\"name\":\"fast fix gazpacho\",\"minutes\":10,\"tags\":\"[\\'15-minutes-or-less\\', \\'time-to-make\\', \\'course\\', \\'cuisine\\', \\'preparation\\', \\'low-protein\\', \\'healthy\\', \\'soups-stews\\', \\'spanish\\', \\'european\\', \\'no-cook\\', \\'low-fat\\', \\'vegan\\', \\'vegetarian\\', \\'food-processor-blender\\', \\'dietary\\', \\'low-cholesterol\\', \\'low-saturated-fat\\', \\'low-calorie\\', \\'low-carb\\', \\'healthy-2\\', \\'low-in-something\\', \\'equipment\\', \\'small-appliance\\', \\'presentation\\', \\'served-cold\\', \\'technique\\']\",\"nutrition\":\"[75.6, 0.0, 45.0, 32.0, 5.0, 0.0, 5.0]\",\"n_steps\":6,\"steps\":\"[\\'coarsely chop cucumber , pepper & onion\\', \\'add half of the veggies to a food processor along with the garlic , 1 cup v8 juice , lime juice , hot sauce & salt\\', \\'puree till smooth\\', \\'pour into a bowl & add remaining 3 cups v8\\', \\'chill\\', \\'serve cold with remaining chopped veggies and cilantro as garnish\\']\",\"description\":\"for some reason, my husband thinks he loves gazpacho.  yet if i make a regular size batch, he eats 1 or 2 bowls & that\\'s it.  no complaints; it simply doesn\\'t taste as good as he thinks it will.  this is a simple, quick recipe to satisfy his imaginary tastebuds and not leave me with a gallon leftover.\",\"ingredients\":\"[\\'cucumber\\', \\'sweet red pepper\\', \\'sweet onion\\', \\'garlic clove\\', \\'spicy hot v8\\', \\'lime juice\\', \\'tabasco sauce\\', \\'salt\\', \\'cilantro\\']\",\"n_ingredients\":9}\\n'"
      ]
     },
     "execution_count": 66,
     "metadata": {},
     "output_type": "execute_result"
    }
   ],
   "source": [
    "#df.iloc[2:3].to_json(orient='records', lines=True).replace('\"\\n\"', '')"
   ]
  },
  {
   "cell_type": "code",
   "execution_count": 70,
   "metadata": {},
   "outputs": [
    {
     "data": {
      "text/plain": [
       "'{\"name\"\"fast fix gazpacho\",\"minutes\"10,\"tags\"\"[\\'15-minutes-or-less\\', \\'time-to-make\\', \\'course\\', \\'cuisine\\', \\'preparation\\', \\'low-protein\\', \\'healthy\\', \\'soups-stews\\', \\'spanish\\', \\'european\\', \\'no-cook\\', \\'low-fat\\', \\'vegan\\', \\'vegetarian\\', \\'food-processor-blender\\', \\'dietary\\', \\'low-cholesterol\\', \\'low-saturated-fat\\', \\'low-calorie\\', \\'low-carb\\', \\'healthy-2\\', \\'low-in-something\\', \\'equipment\\', \\'small-appliance\\', \\'presentation\\', \\'served-cold\\', \\'technique\\']\",\"nutrition\"\"[75.6, 0.0, 45.0, 32.0, 5.0, 0.0, 5.0]\",\"n_steps\"6,\"steps\"\"[\\'coarsely chop cucumber , pepper & onion\\', \\'add half of the veggies to a food processor along with the garlic , 1 cup v8 juice , lime juice , hot sauce & salt\\', \\'puree till smooth\\', \\'pour into a bowl & add remaining 3 cups v8\\', \\'chill\\', \\'serve cold with remaining chopped veggies and cilantro as garnish\\']\",\"description\"\"for some reason, my husband thinks he loves gazpacho.  yet if i make a regular size batch, he eats 1 or 2 bowls & that\\'s it.  no complaints; it simply doesn\\'t taste as good as he thinks it will.  this is a simple, quick recipe to satisfy his imaginary tastebuds and not leave me with a gallon leftover.\",\"ingredients\"\"[\\'cucumber\\', \\'sweet red pepper\\', \\'sweet onion\\', \\'garlic clove\\', \\'spicy hot v8\\', \\'lime juice\\', \\'tabasco sauce\\', \\'salt\\', \\'cilantro\\']\",\"n_ingredients\"9}\\n'"
      ]
     },
     "execution_count": 70,
     "metadata": {},
     "output_type": "execute_result"
    }
   ],
   "source": [
    "#re.sub(':', '', test)"
   ]
  },
  {
   "cell_type": "code",
   "execution_count": 4,
   "metadata": {},
   "outputs": [
    {
     "data": {
      "text/plain": [
       "{'messages': [{'role': 'system',\n",
       "   'content': 'Act as a head chef and create a flavourful recipe from a list of ingredients'},\n",
       "  {'role': 'user',\n",
       "   'content': 'spinach leaves, butter lettuce leaves, romaine leaves, avocados, green onions, parsley, basil, green apple, lemons, extra virgin olive oil, garlic cloves, dijon mustard, kosher salt, cracked black pepper'},\n",
       "  {'role': 'assistant',\n",
       "   'content': '{\"name\":\"gr8 green salad with lemon garlic vinaigrette\",\"minutes\":20,\"tags\":\"[\\'30-minutes-or-less\\', \\'time-to-make\\', \\'course\\', \\'main-ingredient\\', \\'cuisine\\', \\'preparation\\', \\'north-american\\', \\'low-protein\\', \\'salads\\', \\'vegetables\\', \\'american\\', \\'southern-united-states\\', \\'vegan\\', \\'vegetarian\\', \\'salad-dressings\\', \\'dietary\\', \\'low-sodium\\', \\'low-carb\\', \\'low-in-something\\', \\'greens\\', \\'spinach\\', \\'lettuces\\']\",\"nutrition\":\"[278.2, 42.0, 9.0, 1.0, 4.0, 19.0, 3.0]\",\"n_steps\":4,\"steps\":\"[\\'in a container , mix the lemon juice , oil , garlic , dijon and a pinch of salt and pepper\\', \\'shake vigorously\\', \\'in a large salad bowl toss all other salad ingredients and dress , to taste , with the vinaigrette\\', \\'serve\\']\",\"description\":\"so refreshing and healthy and the perfect side dish for any dinner! we had this with oven roasted prime rib, recipe #333367 and recipe #332706 with some crusty italian bread and garlic butter.\",\"ingredients\":\"[\\'spinach leaves\\', \\'butter lettuce leaves\\', \\'romaine leaves\\', \\'avocados\\', \\'green onions\\', \\'parsley\\', \\'basil\\', \\'green apple\\', \\'lemons\\', \\'extra virgin olive oil\\', \\'garlic cloves\\', \\'dijon mustard\\', \\'kosher salt\\', \\'cracked black pepper\\']\",\"n_ingredients\":14}\\n{\"name\":\"joey s quinoa pancakes\",\"minutes\":24,\"tags\":\"[\\'30-minutes-or-less\\', \\'time-to-make\\', \\'course\\', \\'preparation\\', \\'for-1-or-2\\', \\'pancakes-and-waffles\\', \\'breakfast\\', \\'vegan\\', \\'vegetarian\\', \\'dietary\\', \\'number-of-servings\\']\",\"nutrition\":\"[617.9, 74.0, 63.0, 38.0, 15.0, 130.0, 14.0]\",\"n_steps\":10,\"steps\":\"[\\'put the lime juice into the non-dairy milk\\', \\'combine all the dry ingredients in a bowl and mix together well\\', \\'then , add in the sour milk , prepared egg substitute and the oil into the dry ingredients\\', \\'whisk together well\\', \\'fry in a non-stick pan until bubbles form on the top of the pancakes\\', \\'then flip and cook the other side\\', \\'you might have to add a tiny bit more oil for each new batch you cook\\', \\'it depends on the pan\\', \\'serve warm with vegan margarine and maple syrup -- mmmm\\', \\'bon appetit !\\']\",\"description\":\"i\\'ve made these twice now and i have to say i just love the taste!  i made my own corn flour from the hopi corn we grew in our garden.  i think the fact that it was fresh really added to the delicious taste of these pancakes. i got the original recipe from the quinoa flour bag, but changed some of the ingredients to make it vegan. i guesstimated it took about 2-3 minutes per side of pancake, but you will know when the bubbles form and the pancake has risen that it\\'s time to flip it.  you can always peek under the pancake to see if it\\'s golden brown, then it\\'s time to flip it. i doubled this recipe and it turned out just fine.\",\"ingredients\":\"[\\'quinoa flour\\', \\'cornmeal\\', \\'quick-cooking rolled oats\\', \\'raw sugar\\', \\'sea salt\\', \\'sunflower oil\\', \\'baking powder\\', \\'coconut milk\\', \\'lime juice\\', \\'egg substitute\\']\",\"n_ingredients\":10}\\n{\"name\":\"apple and carrots juice\",\"minutes\":5,\"tags\":\"[\\'15-minutes-or-less\\', \\'time-to-make\\', \\'course\\', \\'main-ingredient\\', \\'cuisine\\', \\'preparation\\', \\'occasion\\', \\'north-american\\', \\'for-1-or-2\\', \\'low-protein\\', \\'healthy\\', \\'5-ingredients-or-less\\', \\'beverages\\', \\'fruit\\', \\'vegetables\\', \\'american\\', \\'easy\\', \\'no-cook\\', \\'low-fat\\', \\'spring\\', \\'vegan\\', \\'vegetarian\\', \\'dietary\\', \\'low-sodium\\', \\'low-cholesterol\\', \\'seasonal\\', \\'low-saturated-fat\\', \\'low-calorie\\', \\'healthy-2\\', \\'low-in-something\\', \\'apples\\', \\'carrots\\', \\'taste-mood\\', \\'sweet\\', \\'equipment\\', \\'small-appliance\\', \\'number-of-servings\\', \\'3-steps-or-less\\', \\'technique\\']\",\"nutrition\":\"[243.6, 1.0, 159.0, 7.0, 5.0, 0.0, 20.0]\",\"n_steps\":2,\"steps\":\"[\\'alternating carrots and apples push through the hopper\\', \\'to your health !\\']\",\"description\":\"an apple a day! this is the basic juice that you can add any veggie you like. this base is sweet and healthy. be sure to use organic produce.\",\"ingredients\":\"[\\'apples\\', \\'carrots\\']\",\"n_ingredients\":2}\\n'}]}"
      ]
     },
     "execution_count": 4,
     "metadata": {},
     "output_type": "execute_result"
    }
   ],
   "source": [
    "training_data = []\n",
    "validation_data = []\n",
    "\n",
    "system_message = \"Act as a head chef and create a flavourful recipe from a list of ingredients\"\n",
    "\n",
    "def create_user_message(row):\n",
    "    stripped = row.ingredients.apply(lambda x: str(x).strip(\"[]\").replace(\"'\", \"\"))\n",
    "    return f\"\"\"{stripped.values[0]}\"\"\"\n",
    "\n",
    "def create_assistant_message(row):\n",
    "    json_record = row.to_json(orient='records', lines=True)\n",
    "    return f\"\"\"{json_record}\"\"\"\n",
    "\n",
    "def create_final_message(row):\n",
    "    messages = []\n",
    "    messages.append({\"role\": \"system\", \"content\": system_message})\n",
    "\n",
    "    user_message = create_user_message(row)\n",
    "    messages.append({\"role\": \"user\", \"content\": user_message})\n",
    "\n",
    "    assistant_message = create_assistant_message(row)\n",
    "    messages.append({\"role\": \"assistant\", \"content\": assistant_message})\n",
    "\n",
    "    return {\"messages\": messages}\n",
    "\n",
    "create_final_message(df.iloc[:3])"
   ]
  },
  {
   "cell_type": "code",
   "execution_count": 5,
   "metadata": {},
   "outputs": [],
   "source": [
    "for i in range(1,len(df_recipe_training_set) + 1,1):\n",
    "    # change a = a.append(i) to\n",
    "    output = create_final_message(df_recipe_training_set.iloc[i-1:i])   \n",
    "    training_data.append(output)"
   ]
  },
  {
   "cell_type": "code",
   "execution_count": 6,
   "metadata": {},
   "outputs": [],
   "source": [
    "for i in range(1,len(df_recipe_validation_set) + 1,1):\n",
    "    # change a = a.append(i) to\n",
    "    output = create_final_message(df_recipe_validation_set.iloc[i-1:i])   \n",
    "    validation_data.append(output)"
   ]
  },
  {
   "cell_type": "code",
   "execution_count": 7,
   "metadata": {},
   "outputs": [
    {
     "name": "stdout",
     "output_type": "stream",
     "text": [
      "{'messages': [{'role': 'system', 'content': 'Act as a head chef and create a flavourful recipe from a list of ingredients'}, {'role': 'user', 'content': 'potatoes, chili beans, chili powder, salt, oil, cheese, sour cream'}, {'role': 'assistant', 'content': '{\"name\":\"bean stuffed potatoes\",\"minutes\":85,\"tags\":\"[\\'time-to-make\\', \\'course\\', \\'main-ingredient\\', \\'preparation\\', \\'occasion\\', \\'low-protein\\', \\'healthy\\', \\'lunch\\', \\'side-dishes\\', \\'potatoes\\', \\'vegetables\\', \\'low-fat\\', \\'vegan\\', \\'vegetarian\\', \\'dietary\\', \\'low-sodium\\', \\'low-cholesterol\\', \\'low-saturated-fat\\', \\'low-calorie\\', \\'healthy-2\\', \\'low-in-something\\', \\'brunch\\', \\'4-hours-or-less\\']\",\"nutrition\":\"[211.7, 2.0, 7.0, 9.0, 13.0, 1.0, 14.0]\",\"n_steps\":13,\"steps\":\"[\\'wash potatoes\\', \\'prick several times with a fork\\', \\'bake in the pre heated oven at 180c \\\\/ 375f for 45-60 minutes until potatoes are tender\\', \\'let cool a bit\\', \\'cut off a slice of the long side of the potatoes\\', \\'scrape out flesh , leaving a potato boat , which you can then fill\\', \\'combine beans , 1 tbs of the bean liquid , oil and spices in a bowl\\', \\'add potato flesh\\', \\'mash\\', \\'fill the chunky bean mash into the potato skins\\', \\'top with cheese if desired\\', \\'return to the oven and bake for another 15 minutes\\', \\'serve with a dollop of sour cream on top if you like\\']\",\"description\":\"these potatoes are spicy, full of flavour and also quite good for you as they are packed with proteins.\\\\r\\\\nif you feel like indulging a bit, add some sour cream on top or some shredded cheese.\",\"ingredients\":\"[\\'potatoes\\', \\'chili beans\\', \\'chili powder\\', \\'salt\\', \\'oil\\', \\'cheese\\', \\'sour cream\\']\",\"n_ingredients\":7}\\n'}]}\n"
     ]
    }
   ],
   "source": [
    "for example in training_data[104:105]:\n",
    "    print(example)"
   ]
  },
  {
   "cell_type": "code",
   "execution_count": 8,
   "metadata": {},
   "outputs": [],
   "source": [
    "\n",
    "def write_jsonl(data_list: list, filename: str) -> None:\n",
    "    with open(filename, \"w\") as out:\n",
    "        for ddict in data_list:\n",
    "            jout = json.dumps(ddict) + \"\\n\"\n",
    "            out.write(jout)\n",
    "\n"
   ]
  },
  {
   "cell_type": "code",
   "execution_count": 10,
   "metadata": {},
   "outputs": [],
   "source": [
    "write_jsonl(training_data, \"recipes-training-set.jsonl\")\n",
    "write_jsonl(training_data, \"recipes-validation-set.jsonl\")"
   ]
  },
  {
   "cell_type": "code",
   "execution_count": 12,
   "metadata": {},
   "outputs": [
    {
     "ename": "",
     "evalue": "",
     "output_type": "error",
     "traceback": [
      "\u001b[1;31mThe Kernel crashed while executing code in the current cell or a previous cell. \n",
      "\u001b[1;31mPlease review the code in the cell(s) to identify a possible cause of the failure. \n",
      "\u001b[1;31mClick <a href='https://aka.ms/vscodeJupyterKernelCrash'>here</a> for more info. \n",
      "\u001b[1;31mView Jupyter <a href='command:jupyter.viewOutput'>log</a> for further details."
     ]
    }
   ],
   "source": [
    "#path_output = r\"C:\\Python\\openai-lab\\data\\openfoodfacts.csv\"\n",
    "path_output = r\"C:\\Python\\azure-openai-lab\\data\\recipes_short.csv\" #Change path if required\n",
    "\n",
    "#df_products.to_excel(path_output, sheet_name='Sheet1', index = False)\n",
    "df.to_csv(path_output, sep='\\t', encoding='utf-8', index=False)\n"
   ]
  }
 ],
 "metadata": {
  "kernelspec": {
   "display_name": "Python 3.9.12 64-bit",
   "language": "python",
   "name": "python3"
  },
  "language_info": {
   "codemirror_mode": {
    "name": "ipython",
    "version": 3
   },
   "file_extension": ".py",
   "mimetype": "text/x-python",
   "name": "python",
   "nbconvert_exporter": "python",
   "pygments_lexer": "ipython3",
   "version": "3.10.4"
  },
  "orig_nbformat": 4,
  "vscode": {
   "interpreter": {
    "hash": "8a26a46d41c53cce9d90065d1d22056f0354c9235914921a872714371fb00697"
   }
  }
 },
 "nbformat": 4,
 "nbformat_minor": 2
}
