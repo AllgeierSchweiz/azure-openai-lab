{
 "cells": [
  {
   "cell_type": "code",
   "execution_count": null,
   "metadata": {},
   "outputs": [],
   "source": [
    "#————————————————————\n",
    "\n",
    "# Name: Data Cleansing and Dedulpication of Openfoodfacts (V1)\n",
    "\n",
    "# Purpose:\n",
    "\n",
    "\n",
    "# Company: Allgeier Schweiz AG\n",
    "# Author: Nicolas Rehder (nrehder@allgeier.ch)\n",
    "# Create for: SDSC 2024\n",
    "# Date Created: 22.01.2024\n",
    "# Last Updated: 22.01.2024\n",
    "# Python Version: 3.10.4\n",
    "\n",
    "# General Sources:\n",
    "\n",
    "# Additionals:\n",
    "\n",
    "# Download Python packages (run the below command in terminal if packages have not yet been installed)\n",
    "# pip install -r C:\\Python\\sdsc\\requirements.txt\n",
    "\n",
    "#————————————————————"
   ]
  },
  {
   "cell_type": "code",
   "execution_count": 9,
   "metadata": {},
   "outputs": [],
   "source": [
    "# Import required libraries\n",
    "import os\n",
    "import io\n",
    "import time\n",
    "from io import StringIO\n",
    "import json\n",
    "import numpy as np\n",
    "from pathlib import Path\n",
    "import pandas as pd\n",
    "import requests\n",
    "import random\n",
    "import jsonlines"
   ]
  },
  {
   "cell_type": "code",
   "execution_count": 2,
   "metadata": {},
   "outputs": [],
   "source": [
    "# Import recipes csv\n",
    "\n",
    "path_input = r\"C:\\Python\\openai-lab\\data\\recipes.csv\" #Change path if required\n",
    "df = pd.read_csv(path_input , sep=',', on_bad_lines='skip', low_memory=False)"
   ]
  },
  {
   "cell_type": "code",
   "execution_count": 3,
   "metadata": {},
   "outputs": [],
   "source": [
    "# Remove columns\n",
    "\n",
    "df = df.drop(['id', 'contributor_id', 'submitted'], axis=1)\n",
    "\n",
    "# Remove double whitespaces from name\n",
    "\n",
    "df[\"name\"] = df[\"name\"].str.replace(r'\\s+', ' ', regex=True)\n",
    "\n",
    "# Create subset of data with only vegan recipes\n",
    "df = df[df['tags'].str.contains(\"vegan\")]\n",
    "\n",
    "# Create subset of data\n",
    "df = df.sample(frac = 0.015)\n",
    "\n",
    "# Creating subset of the subset with 70% values of original dataframe\n",
    "df_recipe_training_set = df.sample(frac = 0.7)\n",
    "\n",
    "#Creating dataframe with rest of the 30% values\n",
    "df_recipe_validation_set = df.drop(df_recipe_training_set.index)"
   ]
  },
  {
   "cell_type": "code",
   "execution_count": 66,
   "metadata": {},
   "outputs": [
    {
     "data": {
      "text/plain": [
       "'{\"name\":\"fast fix gazpacho\",\"minutes\":10,\"tags\":\"[\\'15-minutes-or-less\\', \\'time-to-make\\', \\'course\\', \\'cuisine\\', \\'preparation\\', \\'low-protein\\', \\'healthy\\', \\'soups-stews\\', \\'spanish\\', \\'european\\', \\'no-cook\\', \\'low-fat\\', \\'vegan\\', \\'vegetarian\\', \\'food-processor-blender\\', \\'dietary\\', \\'low-cholesterol\\', \\'low-saturated-fat\\', \\'low-calorie\\', \\'low-carb\\', \\'healthy-2\\', \\'low-in-something\\', \\'equipment\\', \\'small-appliance\\', \\'presentation\\', \\'served-cold\\', \\'technique\\']\",\"nutrition\":\"[75.6, 0.0, 45.0, 32.0, 5.0, 0.0, 5.0]\",\"n_steps\":6,\"steps\":\"[\\'coarsely chop cucumber , pepper & onion\\', \\'add half of the veggies to a food processor along with the garlic , 1 cup v8 juice , lime juice , hot sauce & salt\\', \\'puree till smooth\\', \\'pour into a bowl & add remaining 3 cups v8\\', \\'chill\\', \\'serve cold with remaining chopped veggies and cilantro as garnish\\']\",\"description\":\"for some reason, my husband thinks he loves gazpacho.  yet if i make a regular size batch, he eats 1 or 2 bowls & that\\'s it.  no complaints; it simply doesn\\'t taste as good as he thinks it will.  this is a simple, quick recipe to satisfy his imaginary tastebuds and not leave me with a gallon leftover.\",\"ingredients\":\"[\\'cucumber\\', \\'sweet red pepper\\', \\'sweet onion\\', \\'garlic clove\\', \\'spicy hot v8\\', \\'lime juice\\', \\'tabasco sauce\\', \\'salt\\', \\'cilantro\\']\",\"n_ingredients\":9}\\n'"
      ]
     },
     "execution_count": 66,
     "metadata": {},
     "output_type": "execute_result"
    }
   ],
   "source": [
    "#df.iloc[2:3].to_json(orient='records', lines=True).replace('\"\\n\"', '')"
   ]
  },
  {
   "cell_type": "code",
   "execution_count": 70,
   "metadata": {},
   "outputs": [
    {
     "data": {
      "text/plain": [
       "'{\"name\"\"fast fix gazpacho\",\"minutes\"10,\"tags\"\"[\\'15-minutes-or-less\\', \\'time-to-make\\', \\'course\\', \\'cuisine\\', \\'preparation\\', \\'low-protein\\', \\'healthy\\', \\'soups-stews\\', \\'spanish\\', \\'european\\', \\'no-cook\\', \\'low-fat\\', \\'vegan\\', \\'vegetarian\\', \\'food-processor-blender\\', \\'dietary\\', \\'low-cholesterol\\', \\'low-saturated-fat\\', \\'low-calorie\\', \\'low-carb\\', \\'healthy-2\\', \\'low-in-something\\', \\'equipment\\', \\'small-appliance\\', \\'presentation\\', \\'served-cold\\', \\'technique\\']\",\"nutrition\"\"[75.6, 0.0, 45.0, 32.0, 5.0, 0.0, 5.0]\",\"n_steps\"6,\"steps\"\"[\\'coarsely chop cucumber , pepper & onion\\', \\'add half of the veggies to a food processor along with the garlic , 1 cup v8 juice , lime juice , hot sauce & salt\\', \\'puree till smooth\\', \\'pour into a bowl & add remaining 3 cups v8\\', \\'chill\\', \\'serve cold with remaining chopped veggies and cilantro as garnish\\']\",\"description\"\"for some reason, my husband thinks he loves gazpacho.  yet if i make a regular size batch, he eats 1 or 2 bowls & that\\'s it.  no complaints; it simply doesn\\'t taste as good as he thinks it will.  this is a simple, quick recipe to satisfy his imaginary tastebuds and not leave me with a gallon leftover.\",\"ingredients\"\"[\\'cucumber\\', \\'sweet red pepper\\', \\'sweet onion\\', \\'garlic clove\\', \\'spicy hot v8\\', \\'lime juice\\', \\'tabasco sauce\\', \\'salt\\', \\'cilantro\\']\",\"n_ingredients\"9}\\n'"
      ]
     },
     "execution_count": 70,
     "metadata": {},
     "output_type": "execute_result"
    }
   ],
   "source": [
    "#re.sub(':', '', test)"
   ]
  },
  {
   "cell_type": "code",
   "execution_count": 4,
   "metadata": {},
   "outputs": [
    {
     "data": {
      "text/plain": [
       "{'messages': [{'role': 'system',\n",
       "   'content': 'Act as a head chef and create a flavourful recipe from a list of ingredients'},\n",
       "  {'role': 'user',\n",
       "   'content': 'coconut oil, powdered sugar, vanilla, coconut milk, cherry preserves'},\n",
       "  {'role': 'assistant',\n",
       "   'content': '{\"name\":\"natural non dairy pink frosting\",\"minutes\":10,\"tags\":\"[\\'lactose\\', \\'15-minutes-or-less\\', \\'time-to-make\\', \\'course\\', \\'preparation\\', \\'occasion\\', \\'low-protein\\', \\'5-ingredients-or-less\\', \\'desserts\\', \\'easy\\', \\'kosher\\', \\'vegan\\', \\'vegetarian\\', \\'cakes\\', \\'dietary\\', \\'low-sodium\\', \\'cake-fillings-and-frostings\\', \\'free-of-something\\', \\'low-in-something\\', \\'taste-mood\\', \\'sweet\\', \\'equipment\\', \\'small-appliance\\', \\'mixer\\']\",\"nutrition\":\"[2397.3, 188.0, 1277.0, 2.0, 4.0, 529.0, 111.0]\",\"n_steps\":5,\"steps\":\"[\\'cream coconut oil until light\\', \\'add vanilla and sugar\\', \\'mix well\\', \\'add coconut milk and preserves\\', \\'beat on high until creamy\\']\",\"description\":\"this is a quick, delicious frosting recipe that is vegan, pareve and has no trans fats.  i have been experimenting for a while trying to come up with a tasty nondairy recipe for frosting & this is the result.  it goes great on relatively plain cake.  i first used it on recipe #1322.\",\"ingredients\":\"[\\'coconut oil\\', \\'powdered sugar\\', \\'vanilla\\', \\'coconut milk\\', \\'cherry preserves\\']\",\"n_ingredients\":5}\\n{\"name\":\"indian style vegetables and rice\",\"minutes\":46,\"tags\":\"[\\'60-minutes-or-less\\', \\'time-to-make\\', \\'course\\', \\'main-ingredient\\', \\'preparation\\', \\'low-protein\\', \\'healthy\\', \\'main-dish\\', \\'rice\\', \\'vegetables\\', \\'low-fat\\', \\'vegan\\', \\'vegetarian\\', \\'dietary\\', \\'one-dish-meal\\', \\'low-sodium\\', \\'low-cholesterol\\', \\'low-saturated-fat\\', \\'low-calorie\\', \\'inexpensive\\', \\'healthy-2\\', \\'low-in-something\\', \\'pasta-rice-and-grains\\', \\'brown-rice\\', \\'carrots\\', \\'cauliflower\\']\",\"nutrition\":\"[199.2, 1.0, 64.0, 15.0, 13.0, 0.0, 14.0]\",\"n_steps\":13,\"steps\":\"[\\'cook the brown rice according to package directions , except omit any salt\\', \\'meanwhile , spray an unheated 4 1 \\\\/ 2-quart dutch oven with nonstick coating\\', \\'preheat over medium-high heat\\', \\'add onion and garlic\\', \\'cook and stir until onion is tender\\', \\'carefully add the water , apple juice , potatoes , carrot , soy sauce , curry powder , gingerroot , cardamom , and cinnamon\\', \\'bring to boiling\\', \\'reduce heat\\', \\'simmer , covered , for 10 minutes\\', \\'add the cauliflower , zucchini , peas , and raisins to the dutch oven\\', \\'simmer , covered , for 10 minutes more or until cauliflower is tender\\', \\'serve over hot cooked brown rice\\', \\'if desired , serve with chutney\\']\",\"description\":\"great vegan recipe from better homes and garden!\",\"ingredients\":\"[\\'nonstick cooking spray\\', \\'garlic cloves\\', \\'water\\', \\'apple juice\\', \\'potatoes\\', \\'carrot\\', \\'low sodium soy sauce\\', \\'curry powder\\', \\'gingerroot\\', \\'cardamom\\', \\'cinnamon\\', \\'cauliflower florets\\', \\'zucchini\\', \\'frozen peas\\', \\'golden raisin\\', \\'chutney\\']\",\"n_ingredients\":16}\\n{\"name\":\"banana black bean salad\",\"minutes\":15,\"tags\":\"[\\'15-minutes-or-less\\', \\'time-to-make\\', \\'course\\', \\'main-ingredient\\', \\'cuisine\\', \\'preparation\\', \\'occasion\\', \\'north-american\\', \\'south-west-pacific\\', \\'healthy\\', \\'salads\\', \\'side-dishes\\', \\'beans\\', \\'fruit\\', \\'american\\', \\'easy\\', \\'no-cook\\', \\'beginner-cook\\', \\'dinner-party\\', \\'kosher\\', \\'low-fat\\', \\'summer\\', \\'vegan\\', \\'vegetarian\\', \\'south-american\\', \\'dietary\\', \\'low-sodium\\', \\'low-cholesterol\\', \\'seasonal\\', \\'low-saturated-fat\\', \\'low-calorie\\', \\'californian\\', \\'inexpensive\\', \\'black-beans\\', \\'healthy-2\\', \\'low-in-something\\', \\'tropical-fruit\\', \\'bananas\\', \\'mango\\', \\'technique\\']\",\"nutrition\":\"[105.7, 0.0, 15.0, 0.0, 11.0, 0.0, 7.0]\",\"n_steps\":7,\"steps\":\"[\\'cook black beans\\', \\'mince tomatoes , pepper , onion and cilantro\\', \\'combine all of the above in a bowl and mix well\\', \\'chop banana into small but substantial square pieces\\', \\'fold banana pieces into the mixture gently so as not to bruise the bananas\\', \\'add salt \\\\/ pepper to taste and lemon and orange juices folding them gently into the mixture\\', \\'chill and serve cold\\']\",\"description\":\"a fresh\\\\/zippy salad that can be made well in advance and served with a dollop of sour cream and chives\\\\/parsley\\\\/cilantro as a garnish or alongside fish, rice or something else fun.\\\\r\\\\n\\\\r\\\\nmango may be used in addition to or in place of the banana.\\\\r\\\\n\\\\r\\\\ni developed this recipe to combine the delicious flavors of island and latin food with californian cuisene.\",\"ingredients\":\"[\\'black beans\\', \\'tomatoes\\', \\'onion\\', \\'red pepper\\', \\'fresh cilantro\\', \\'lemon juice\\', \\'orange juice\\', \\'firm banana\\', \\'salt\\', \\'black pepper\\']\",\"n_ingredients\":10}\\n'}]}"
      ]
     },
     "execution_count": 4,
     "metadata": {},
     "output_type": "execute_result"
    }
   ],
   "source": [
    "training_data = []\n",
    "validation_data = []\n",
    "\n",
    "system_message = \"Act as a head chef and create a flavourful recipe from a list of ingredients\"\n",
    "\n",
    "def create_user_message(row):\n",
    "    stripped = row.ingredients.apply(lambda x: str(x).strip(\"[]\").replace(\"'\", \"\"))\n",
    "    return f\"\"\"{stripped.values[0]}\"\"\"\n",
    "\n",
    "def create_assistant_message(row):\n",
    "    json_record = row.to_json(orient='records', lines=True)\n",
    "    return f\"\"\"{json_record}\"\"\"\n",
    "\n",
    "def create_final_message(row):\n",
    "    messages = []\n",
    "    messages.append({\"role\": \"system\", \"content\": system_message})\n",
    "\n",
    "    user_message = create_user_message(row)\n",
    "    messages.append({\"role\": \"user\", \"content\": user_message})\n",
    "\n",
    "    assistant_message = create_assistant_message(row)\n",
    "    messages.append({\"role\": \"assistant\", \"content\": assistant_message})\n",
    "\n",
    "    return {\"messages\": messages}\n",
    "\n",
    "create_final_message(df.iloc[:3])"
   ]
  },
  {
   "cell_type": "code",
   "execution_count": 5,
   "metadata": {},
   "outputs": [],
   "source": [
    "for i in range(1,len(df_recipe_training_set) + 1,1):\n",
    "    # change a = a.append(i) to\n",
    "    output = create_final_message(df_recipe_training_set.iloc[i-1:i])   \n",
    "    training_data.append(output)"
   ]
  },
  {
   "cell_type": "code",
   "execution_count": 6,
   "metadata": {},
   "outputs": [],
   "source": [
    "for i in range(1,len(df_recipe_validation_set) + 1,1):\n",
    "    # change a = a.append(i) to\n",
    "    output = create_final_message(df_recipe_validation_set.iloc[i-1:i])   \n",
    "    validation_data.append(output)"
   ]
  },
  {
   "cell_type": "code",
   "execution_count": 7,
   "metadata": {},
   "outputs": [
    {
     "name": "stdout",
     "output_type": "stream",
     "text": [
      "{'messages': [{'role': 'system', 'content': 'Act as a head chef and create a flavourful recipe from a list of ingredients'}, {'role': 'user', 'content': 'potatoes, chili beans, chili powder, salt, oil, cheese, sour cream'}, {'role': 'assistant', 'content': '{\"name\":\"bean stuffed potatoes\",\"minutes\":85,\"tags\":\"[\\'time-to-make\\', \\'course\\', \\'main-ingredient\\', \\'preparation\\', \\'occasion\\', \\'low-protein\\', \\'healthy\\', \\'lunch\\', \\'side-dishes\\', \\'potatoes\\', \\'vegetables\\', \\'low-fat\\', \\'vegan\\', \\'vegetarian\\', \\'dietary\\', \\'low-sodium\\', \\'low-cholesterol\\', \\'low-saturated-fat\\', \\'low-calorie\\', \\'healthy-2\\', \\'low-in-something\\', \\'brunch\\', \\'4-hours-or-less\\']\",\"nutrition\":\"[211.7, 2.0, 7.0, 9.0, 13.0, 1.0, 14.0]\",\"n_steps\":13,\"steps\":\"[\\'wash potatoes\\', \\'prick several times with a fork\\', \\'bake in the pre heated oven at 180c \\\\/ 375f for 45-60 minutes until potatoes are tender\\', \\'let cool a bit\\', \\'cut off a slice of the long side of the potatoes\\', \\'scrape out flesh , leaving a potato boat , which you can then fill\\', \\'combine beans , 1 tbs of the bean liquid , oil and spices in a bowl\\', \\'add potato flesh\\', \\'mash\\', \\'fill the chunky bean mash into the potato skins\\', \\'top with cheese if desired\\', \\'return to the oven and bake for another 15 minutes\\', \\'serve with a dollop of sour cream on top if you like\\']\",\"description\":\"these potatoes are spicy, full of flavour and also quite good for you as they are packed with proteins.\\\\r\\\\nif you feel like indulging a bit, add some sour cream on top or some shredded cheese.\",\"ingredients\":\"[\\'potatoes\\', \\'chili beans\\', \\'chili powder\\', \\'salt\\', \\'oil\\', \\'cheese\\', \\'sour cream\\']\",\"n_ingredients\":7}\\n'}]}\n"
     ]
    }
   ],
   "source": [
    "for example in training_data[104:105]:\n",
    "    print(example)"
   ]
  },
  {
   "cell_type": "code",
   "execution_count": 8,
   "metadata": {},
   "outputs": [],
   "source": [
    "\n",
    "def write_jsonl(data_list: list, filename: str) -> None:\n",
    "    with open(filename, \"w\") as out:\n",
    "        for ddict in data_list:\n",
    "            jout = json.dumps(ddict) + \"\\n\"\n",
    "            out.write(jout)\n",
    "\n"
   ]
  },
  {
   "cell_type": "code",
   "execution_count": 10,
   "metadata": {},
   "outputs": [],
   "source": [
    "write_jsonl(training_data, \"recipes-training-set.jsonl\")\n",
    "write_jsonl(training_data, \"recipes-validation-set.jsonl\")"
   ]
  },
  {
   "cell_type": "code",
   "execution_count": 5,
   "metadata": {},
   "outputs": [],
   "source": [
    "#path_output = r\"C:\\Python\\openai-lab\\data\\openfoodfacts.csv\"\n",
    "path_output = r\"C:\\Python\\openai-lab\\data\\recipes_short.csv\" #Change path if required\n",
    "\n",
    "#df_products.to_excel(path_output, sheet_name='Sheet1', index = False)\n",
    "df.to_csv(path_output, sep='\\t', encoding='utf-8', index=False)\n"
   ]
  }
 ],
 "metadata": {
  "kernelspec": {
   "display_name": "Python 3.9.12 64-bit",
   "language": "python",
   "name": "python3"
  },
  "language_info": {
   "codemirror_mode": {
    "name": "ipython",
    "version": 3
   },
   "file_extension": ".py",
   "mimetype": "text/x-python",
   "name": "python",
   "nbconvert_exporter": "python",
   "pygments_lexer": "ipython3",
   "version": "3.10.4"
  },
  "orig_nbformat": 4,
  "vscode": {
   "interpreter": {
    "hash": "8a26a46d41c53cce9d90065d1d22056f0354c9235914921a872714371fb00697"
   }
  }
 },
 "nbformat": 4,
 "nbformat_minor": 2
}
