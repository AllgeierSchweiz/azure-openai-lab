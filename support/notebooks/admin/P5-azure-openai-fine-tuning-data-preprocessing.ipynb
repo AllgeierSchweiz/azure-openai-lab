{
 "cells": [
  {
   "cell_type": "code",
   "execution_count": null,
   "metadata": {},
   "outputs": [],
   "source": [
    "#————————————————————\n",
    "\n",
    "# Name: Data Pre-Processing\n",
    "\n",
    "# Purpose: Prepare the JSONL validation and training datasets for Fine-Tuning using pandas. This is the non-ai-generative approach to preparing these files.\n",
    "\n",
    "# Company: Allgeier Schweiz AG\n",
    "# Author: Nicolas Rehder (nrehder@allgeier.ch), Alex Dean (adean@allgeier.ch)\n",
    "# Create for: SDSC 2024\n",
    "# Date Created: 22.01.2024\n",
    "# Last Updated: 19.05.2024\n",
    "# Python Version: 3.10.4\n",
    "\n",
    "\n",
    "# If necessary, download Python packages (run the below command in terminal if packages have not yet been installed)\n",
    "# pip install -r C:\\Python\\sdsc\\requirements.txt\n",
    "\n",
    "#————————————————————"
   ]
  },
  {
   "cell_type": "code",
   "execution_count": 1,
   "metadata": {},
   "outputs": [],
   "source": [
    "# Import required libraries\n",
    "import os\n",
    "import io\n",
    "import time\n",
    "from io import StringIO\n",
    "import json\n",
    "import numpy as np\n",
    "from pathlib import Path\n",
    "import pandas as pd\n",
    "import requests\n",
    "import random"
   ]
  },
  {
   "cell_type": "code",
   "execution_count": 6,
   "metadata": {},
   "outputs": [],
   "source": [
    "# Import recipes csv\n",
    "\n",
    "path_input = r\"C:\\Python\\data\\recipes.csv\" #Change path if required\n",
    "df = pd.read_csv(path_input , sep=',', on_bad_lines='skip', low_memory=False)"
   ]
  },
  {
   "cell_type": "code",
   "execution_count": 7,
   "metadata": {},
   "outputs": [],
   "source": [
    "# Remove columns\n",
    "\n",
    "df = df.drop(['id', 'contributor_id', 'submitted'], axis=1)\n",
    "\n",
    "# Create subset of data with only vegan recipes\n",
    "df = df[df['tags'].str.contains(\"vegan\")]\n",
    "\n",
    "# Remove double whitespaces from name\n",
    "df[\"name\"] = df[\"name\"].str.replace(r'\\s+', ' ', regex=True)\n",
    "\n",
    "# Create subset of data\n",
    "df_sample = df.sample(frac = 0.01)\n",
    "\n",
    "# Creating subset of the subset with 70% values of original dataframe\n",
    "df_recipe_training_set = df_sample.sample(frac = 0.7)\n",
    "\n",
    "#Creating dataframe with rest of the 30% values\n",
    "df_recipe_validation_set = df_sample.drop(df_recipe_training_set.index)\n"
   ]
  },
  {
   "cell_type": "code",
   "execution_count": 10,
   "metadata": {},
   "outputs": [
    {
     "data": {
      "text/plain": [
       "{'messages': [{'role': 'system',\n",
       "   'content': 'This is a recipe generator. The recipe generated should be output as a JSON object.'},\n",
       "  {'role': 'user',\n",
       "   'content': 'Create a flavourful recipe from a list of ingredients and provide the output as a JSON object'},\n",
       "  {'role': 'user',\n",
       "   'content': 'fennel seeds, green olives, ripe olives, garlic, peppercorn, orange rind, orange juice, red chile, extra virgin olive oil'},\n",
       "  {'role': 'assistant',\n",
       "   'content': '{\"name\":\"aww marinated olives\",\"minutes\":15,\"tags\":\"[\\'15-minutes-or-less\\', \\'time-to-make\\', \\'course\\', \\'main-ingredient\\', \\'cuisine\\', \\'preparation\\', \\'occasion\\', \\'north-american\\', \\'appetizers\\', \\'fruit\\', \\'canadian\\', \\'dinner-party\\', \\'vegan\\', \\'vegetarian\\', \\'freezer\\', \\'dietary\\', \\'equipment\\', \\'number-of-servings\\']\",\"nutrition\":\"[380.7, 53.0, 7.0, 24.0, 6.0, 24.0, 6.0]\",\"n_steps\":4,\"steps\":\"[\\'toast the fennel seeds and lightly crush them\\', \\'place all the ingredients in a bowl , stir well\\', \\'cover and leave to marinate\\', \\'keep refrigerated and use within 1 to 2 days\\']\",\"description\":\"my italian mil was thoroughly impressed by my non-italian treatment of her olives. they are great appetizers and condiments to your fav pasta.(from the vancouver sun) ps. cook time include fridge time\",\"ingredients\":\"[\\'fennel seeds\\', \\'green olives\\', \\'ripe olives\\', \\'garlic\\', \\'peppercorn\\', \\'orange rind\\', \\'orange juice\\', \\'red chile\\', \\'extra virgin olive oil\\']\",\"n_ingredients\":9}\\n{\"name\":\"cream of cauliflower soup vegan\",\"minutes\":110,\"tags\":\"[\\'lactose\\', \\'weeknight\\', \\'time-to-make\\', \\'course\\', \\'main-ingredient\\', \\'cuisine\\', \\'preparation\\', \\'occasion\\', \\'north-american\\', \\'bisques-cream-soups\\', \\'soups-stews\\', \\'potatoes\\', \\'vegetables\\', \\'american\\', \\'spring\\', \\'vegan\\', \\'vegetarian\\', \\'food-processor-blender\\', \\'stove-top\\', \\'dietary\\', \\'seasonal\\', \\'free-of-something\\', \\'cauliflower\\', \\'equipment\\', \\'small-appliance\\', \\'4-hours-or-less\\']\",\"nutrition\":\"[174.2, 4.0, 24.0, 1.0, 15.0, 1.0, 10.0]\",\"n_steps\":10,\"steps\":\"[\\'heat the oil or margarine in a soup pot and add the onion and garlic\\', \\'saute over medium heat until the onion is golden , about 10 minutes\\', \\'add the cauliflower , potatoes , water , and seasonings\\', \\'there should be enough broth to cover all but about an inch of the veggies\\', \\'bring to a simmer , then simmer gently covered until the veggies are tender , about 25 minutes\\', \\'remove from the heat transfer the vegetables from the soup pot to a food processor or blender and puree in batches until smooth\\', \\'puree about half of the beans with each of the two batches of vegetables\\', \\'transfer the puree back into the soup pot , stirring it back into whatever liquid remained\\', \\'let the soup stand for 1-2 hours before serving , then heat through as needed\\', \\'ladle into soup bowls and garnish the tops with 2-3 garnishes\\']\",\"description\":\"this is a dairy free \",\"ingredients\":\"[\\'canola oil\\', \\'onion\\', \\'garlic\\', \\'cauliflower\\', \\'potatoes\\', \\'vegetable bouillon cubes\\', \\'water\\', \\'salt free herb and spice seasoning mix\\', \\'ground coriander\\', \\'great northern bean\\', \\'salt and pepper\\', \\'broccoli floret\\', \\'escarole\\', \\'green peas\\', \\'red bell pepper\\', \\'fresh herb\\']\",\"n_ingredients\":16}\\n{\"name\":\"cream of spinach soup vegan\",\"minutes\":55,\"tags\":\"[\\'60-minutes-or-less\\', \\'time-to-make\\', \\'course\\', \\'main-ingredient\\', \\'preparation\\', \\'occasion\\', \\'bisques-cream-soups\\', \\'main-dish\\', \\'soups-stews\\', \\'vegetables\\', \\'vegan\\', \\'vegetarian\\', \\'stove-top\\', \\'dietary\\', \\'one-dish-meal\\', \\'low-cholesterol\\', \\'low-saturated-fat\\', \\'low-calorie\\', \\'comfort-food\\', \\'low-in-something\\', \\'taste-mood\\', \\'equipment\\']\",\"nutrition\":\"[64.8, 3.0, 13.0, 54.0, 4.0, 2.0, 3.0]\",\"n_steps\":10,\"steps\":\"[\\'in a 3 qt saucepan over medium high heat , saute the onions and scallions in the apple juice and oil for 5 minutes , stirring frequently\\', \\'add the spinach , parsley and celery\\', \\'cook for 5-7 minutes , stirring occasionally add the broth , oats , salt , thyme and pepper\\', \\'bring to a boil , then lower the heat to medium\\', \\'cover and simmer for 20 minutes\\', \\'remove from the heat\\', \\'let the soup cool for 10 minutes\\', \\'working in batches , puree in a blender until thick and smooth\\', \\'return to the pot\\', \\'reheat and serve\\']\",\"description\":\"thickened with a mix of cooked oats and vegies, this soup has all the flavor of the original with a fraction of the fat stuff. low in cholestorol too!\",\"ingredients\":\"[\\'onion\\', \\'scallion\\', \\'apple juice\\', \\'olive oil\\', \\'spinach\\', \\'fresh parsley\\', \\'celery\\', \\'broth\\', \\'rolled oats\\', \\'salt\\', \\'dried thyme\\', \\'white pepper\\']\",\"n_ingredients\":12}\\n'}]}"
      ]
     },
     "execution_count": 10,
     "metadata": {},
     "output_type": "execute_result"
    }
   ],
   "source": [
    "training_data = []\n",
    "validation_data = []\n",
    "\n",
    "system_message = \"This is a recipe generator. The recipe generated should be output as a JSON object.\"\n",
    "user_message_fix = \"Create a flavourful recipe from a list of ingredients and provide the output as a JSON object\"\n",
    "\n",
    "def create_user_message(row):\n",
    "    stripped = row.ingredients.apply(lambda x: str(x).strip(\"[]\").replace(\"'\", \"\"))\n",
    "    return f\"\"\"{stripped.values[0]}\"\"\"\n",
    "\n",
    "def create_assistant_message(row):\n",
    "    json_record = row.to_json(orient='records', lines=True)\n",
    "    return f\"\"\"{json_record}\"\"\"\n",
    "\n",
    "def create_final_message(row):\n",
    "    messages = []\n",
    "\n",
    "    messages.append({\"role\": \"system\", \"content\": system_message})\n",
    "\n",
    "    messages.append({\"role\": \"user\", \"content\": user_message_fix})\n",
    "\n",
    "    user_message = create_user_message(row)\n",
    "    messages.append({\"role\": \"user\", \"content\": user_message})\n",
    "\n",
    "    assistant_message = create_assistant_message(row)\n",
    "    messages.append({\"role\": \"assistant\", \"content\": assistant_message})\n",
    "\n",
    "    return {\"messages\": messages}\n",
    "\n",
    "create_final_message(df.iloc[:3])"
   ]
  },
  {
   "cell_type": "code",
   "execution_count": 11,
   "metadata": {},
   "outputs": [],
   "source": [
    "for i in range(1,len(df_recipe_training_set) + 1,1):\n",
    "    # change a = a.append(i) to\n",
    "    output = create_final_message(df_recipe_training_set.iloc[i-1:i])   \n",
    "    training_data.append(output)"
   ]
  },
  {
   "cell_type": "code",
   "execution_count": 12,
   "metadata": {},
   "outputs": [],
   "source": [
    "for i in range(1,len(df_recipe_validation_set) + 1,1):\n",
    "    # change a = a.append(i) to\n",
    "    output = create_final_message(df_recipe_validation_set.iloc[i-1:i])   \n",
    "    validation_data.append(output)"
   ]
  },
  {
   "cell_type": "code",
   "execution_count": 15,
   "metadata": {},
   "outputs": [
    {
     "name": "stdout",
     "output_type": "stream",
     "text": [
      "{'messages': [{'role': 'system', 'content': 'This is a recipe generator. The recipe generated should be output as a JSON object.'}, {'role': 'user', 'content': 'Create a flavourful recipe from a list of ingredients and provide the output as a JSON object'}, {'role': 'user', 'content': 'cilantro leaves, blanched slivered almond, garlic cloves, salt, olive oil'}, {'role': 'assistant', 'content': '{\"name\":\"vegan cilantro pesto\",\"minutes\":15,\"tags\":\"[\\'15-minutes-or-less\\', \\'time-to-make\\', \\'course\\', \\'preparation\\', \\'for-large-groups\\', \\'5-ingredients-or-less\\', \\'condiments-etc\\', \\'easy\\', \\'vegan\\', \\'vegetarian\\', \\'dietary\\', \\'number-of-servings\\', \\'3-steps-or-less\\']\",\"nutrition\":\"[174.0, 27.0, 1.0, 12.0, 4.0, 11.0, 0.0]\",\"n_steps\":3,\"steps\":\"[\\'combine cilantro , almonds , garlic and salt in food processor and process intil smooth\\', \\'with machine still running , add olive oil through feed tube and process into a smooth paste\\', \\'if not freezing , store tightly covered in refrigerator with thin layer of olive oil on top to prevent discoloration\\']\",\"description\":\"yummy to use in anything you would associate with cilantro...i like to stir it into black bean soup and chili! make extra to freeze!\",\"ingredients\":\"[\\'cilantro leaves\\', \\'blanched slivered almond\\', \\'garlic cloves\\', \\'salt\\', \\'olive oil\\']\",\"n_ingredients\":5}\\n'}]}\n"
     ]
    }
   ],
   "source": [
    "for example in training_data[50:51]:\n",
    "    print(example)"
   ]
  },
  {
   "cell_type": "code",
   "execution_count": 16,
   "metadata": {},
   "outputs": [],
   "source": [
    "\n",
    "def write_jsonl(data_list: list, filename: str) -> None:\n",
    "    with open(filename, \"w\") as out:\n",
    "        for ddict in data_list:\n",
    "            jout = json.dumps(ddict) + \"\\n\"\n",
    "            out.write(jout)"
   ]
  },
  {
   "cell_type": "code",
   "execution_count": 17,
   "metadata": {},
   "outputs": [],
   "source": [
    "output_path = r\"C:\\\\Python\\\\azure-openai-lab\\\\data\\\\generated_output\\\\\"\n",
    "\n",
    "write_jsonl(training_data, output_path + \"recipes-training-set.jsonl\")\n",
    "write_jsonl(validation_data, output_path + \"recipes-validation-set.jsonl\")"
   ]
  }
 ],
 "metadata": {
  "kernelspec": {
   "display_name": "Python 3.9.12 64-bit",
   "language": "python",
   "name": "python3"
  },
  "language_info": {
   "codemirror_mode": {
    "name": "ipython",
    "version": 3
   },
   "file_extension": ".py",
   "mimetype": "text/x-python",
   "name": "python",
   "nbconvert_exporter": "python",
   "pygments_lexer": "ipython3",
   "version": "3.10.4"
  },
  "orig_nbformat": 4,
  "vscode": {
   "interpreter": {
    "hash": "8a26a46d41c53cce9d90065d1d22056f0354c9235914921a872714371fb00697"
   }
  }
 },
 "nbformat": 4,
 "nbformat_minor": 2
}
