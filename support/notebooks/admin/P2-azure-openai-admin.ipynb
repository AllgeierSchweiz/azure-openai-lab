{
 "cells": [
  {
   "cell_type": "code",
   "execution_count": null,
   "metadata": {},
   "outputs": [],
   "source": [
    "#————————————————————\n",
    "\n",
    "# Name: Azure OpenAI Admin\n",
    "\n",
    "# Purpose:  This notebook has useful commands to clean up or troubleshoot the Azure OpenAI environment.\n",
    "\n",
    "# Company: Allgeier Schweiz AG\n",
    "# Author: Nicolas Rehder (nrehder@allgeier.ch), Alex Dean (adean@allgeier.ch)\n",
    "# Create for: SDSC 2024\n",
    "# Date Created: 22.01.2024\n",
    "# Last Updated: 19.05.2024\n",
    "# Python Version: 3.10.4\n",
    "\n",
    "# If necessary, download Python packages (run the below command in terminal if packages have not yet been installed)\n",
    "# pip install -r C:\\Python\\sdsc\\requirements.txt\n",
    "\n",
    "#————————————————————"
   ]
  },
  {
   "cell_type": "code",
   "execution_count": 1,
   "metadata": {},
   "outputs": [],
   "source": [
    "# Import Python packages\n",
    "import os\n",
    "import io\n",
    "import time\n",
    "from io import StringIO\n",
    "import json\n",
    "from dotenv import load_dotenv\n",
    "from pathlib import Path\n",
    "import pandas as pd\n",
    "from openai import AzureOpenAI"
   ]
  },
  {
   "cell_type": "code",
   "execution_count": 2,
   "metadata": {},
   "outputs": [],
   "source": [
    "# Load required variables from env file.\n",
    "load_dotenv(dotenv_path=Path(\"C:\\\\Python\\\\azure-openai-lab\\\\.venv\\\\.env\")) #Error sometimes due to \\ or \\\\. Try one or the other. /workspaces/azure-openai-lab/.venv/.env\n",
    "\n",
    "# Load Azure OpenAI Key and Endpoint. These values can be found within the Azure OpenAI Service resource in portal.azure.com under Keys and Endpoint\n",
    "azure_oai_key = os.environ['AZURE_OPENAI_KEY']\n",
    "azure_oai_endpoint = os.environ['AZURE_OPENAI_ENDPOINT']"
   ]
  },
  {
   "cell_type": "code",
   "execution_count": 3,
   "metadata": {},
   "outputs": [],
   "source": [
    "# Initialize the Azure OpenAI client\n",
    "client = AzureOpenAI(\n",
    "    api_key = azure_oai_key,  \n",
    "    api_version = \"2024-02-15-preview\",\n",
    "    azure_endpoint = azure_oai_endpoint\n",
    "    )"
   ]
  },
  {
   "cell_type": "code",
   "execution_count": 4,
   "metadata": {},
   "outputs": [
    {
     "name": "stdout",
     "output_type": "stream",
     "text": [
      "FileObject(id='assistant-EkY8qdvtcojHcDHMuaenNbTh', bytes=2915453, created_at=1716445237, filename='recipes.csv', object='file', purpose='assistants', status='processed', status_details=None)\n"
     ]
    }
   ],
   "source": [
    "# Upload file into Azure OpenAI Service\n",
    "path_input = r\"C:\\Python\\azure-openai-lab\\data\\recipes.csv\" #Change path if required\n",
    "\n",
    "# send the csv file to the assistant purpose files\n",
    "response = client.files.create(\n",
    "  file=open(path_input, \"rb\"),\n",
    "  purpose=\"assistants\"\n",
    ")\n",
    "print(response)\n",
    "file__id = response.id"
   ]
  },
  {
   "cell_type": "code",
   "execution_count": 5,
   "metadata": {},
   "outputs": [
    {
     "name": "stdout",
     "output_type": "stream",
     "text": [
      "FileObject(id='assistant-4sayMlfst6QVmG1NwYysriyo', bytes=107440, created_at=1716445246, filename='recipes-preprocessed.csv', object='file', purpose='assistants', status='processed', status_details=None)\n"
     ]
    }
   ],
   "source": [
    "# Upload file into Azure OpenAI Service\n",
    "path_input = r\"C:\\Python\\azure-openai-lab\\data\\recipes-preprocessed.csv\" #Change path if required\n",
    "\n",
    "# send the csv file to the assistant purpose files\n",
    "response = client.files.create(\n",
    "  file=open(path_input, \"rb\"),\n",
    "  purpose=\"assistants\"\n",
    ")\n",
    "print(response)\n",
    "file__id = response.id"
   ]
  },
  {
   "cell_type": "code",
   "execution_count": 4,
   "metadata": {},
   "outputs": [
    {
     "name": "stdout",
     "output_type": "stream",
     "text": [
      "Training file ID: file-95ff23aec625493d8758e938c1bec3f7\n",
      "Validation file ID: file-27c02b9e34814436bc3105b2c4363950\n"
     ]
    }
   ],
   "source": [
    "# Upload the training and validation dataset files to Azure OpenAI with the SDK.\n",
    "training_file_path = r\"C:\\Python\\azure-openai-lab\\data\\recipes-training-set.jsonl\"\n",
    "validation_file_path = r\"C:\\Python\\azure-openai-lab\\data\\recipes-validation-set.jsonl\"\n",
    "\n",
    "training_response = client.files.create(\n",
    "    file=open(training_file_path, \"rb\"), purpose=\"fine-tune\"\n",
    ")\n",
    "training_file_id = training_response.id\n",
    "\n",
    "validation_response = client.files.create(\n",
    "    file=open(validation_file_path, \"rb\"), purpose=\"fine-tune\"\n",
    ")\n",
    "validation_file_id = validation_response.id\n",
    "\n",
    "print(\"Training file ID:\", training_file_id)\n",
    "print(\"Validation file ID:\", validation_file_id)"
   ]
  },
  {
   "cell_type": "code",
   "execution_count": 4,
   "metadata": {},
   "outputs": [
    {
     "name": "stdout",
     "output_type": "stream",
     "text": [
      "assistant-rkRgo4cBcZwAG05AnplGlfM7\n"
     ]
    }
   ],
   "source": [
    "# Call existing uploaded file on Azure OpenAI Service\n",
    "for i in client.files.list():\n",
    "    if \"recipes_preprocessed\" in i.filename:\n",
    "        file__id = i.id\n",
    "        print(i.id)"
   ]
  },
  {
   "cell_type": "code",
   "execution_count": null,
   "metadata": {},
   "outputs": [],
   "source": [
    "# Clean up environment. Delete created Azure OpenAI assistants, threads and uploaded data files\n",
    "for i in client.beta.assistants.list():\n",
    "    client.beta.assistants.delete(i.id)\n",
    "for i in client.beta.threads.list():\n",
    "    client.beta.threads.delete(i.id)\n",
    "for i in client.files.list():\n",
    "    client.files.delete(i.id)"
   ]
  },
  {
   "cell_type": "code",
   "execution_count": 25,
   "metadata": {},
   "outputs": [],
   "source": [
    "#Test run 50 people\n",
    "\n",
    "for i in range(50):\n",
    "\n",
    "    # Load data\n",
    "    path_input = r\"C:\\Python\\azure-openai-lab\\data\\recipes_preprocessed.csv\" #Change path if required\n",
    "\n",
    "    # send the csv file to the assistant purpose files\n",
    "    response = client.files.create(\n",
    "    file=open(path_input, \"rb\"),\n",
    "    purpose=\"assistants\"\n",
    "    )\n",
    "\n",
    "    file__id = response.id\n",
    "\n",
    "    # Create an assistant\n",
    "    assistant = client.beta.assistants.create(\n",
    "        name = \"data analyst assistant \" + str(i),\n",
    "        instructions = instructions,\n",
    "        tools = [{\"type\": \"code_interpreter\"}],\n",
    "        model = \"gpt-4-1106-preview\", #You must replace this value with the deployment name for your model.\n",
    "        file_ids=[file__id]\n",
    "    )\n",
    "\n",
    "    fileId = assistant.file_ids[0]\n",
    "\n",
    "    thread = client.beta.threads.create()\n",
    "\n",
    "    prompt = \"Please execute your ACTIONS on the data stored in the xlsx file \" + fileId\n",
    "\n",
    "    message = client.beta.threads.messages.create(\n",
    "        thread_id = thread.id,\n",
    "        role = \"user\",\n",
    "        content = prompt\n",
    "    )\n",
    "\n",
    "    run = client.beta.threads.runs.create(\n",
    "    thread_id=thread.id,\n",
    "    assistant_id=assistant.id,\n",
    "    #instructions=\"New instructions\" #You can optionally provide new instructions but these will override the default instructions\n",
    "    )\n",
    "    "
   ]
  }
 ],
 "metadata": {
  "kernelspec": {
   "display_name": ".venv",
   "language": "python",
   "name": "python3"
  },
  "language_info": {
   "codemirror_mode": {
    "name": "ipython",
    "version": 3
   },
   "file_extension": ".py",
   "mimetype": "text/x-python",
   "name": "python",
   "nbconvert_exporter": "python",
   "pygments_lexer": "ipython3",
   "version": "3.10.4"
  }
 },
 "nbformat": 4,
 "nbformat_minor": 2
}
