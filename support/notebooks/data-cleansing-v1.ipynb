{
 "cells": [
  {
   "cell_type": "code",
   "execution_count": 1,
   "metadata": {},
   "outputs": [
    {
     "name": "stdout",
     "output_type": "stream",
     "text": [
      "hello\n"
     ]
    }
   ],
   "source": [
    "#————————————————————\n",
    "\n",
    "# Name: OpenAI Fine-Tuning(V1)\n",
    "# Purpose: Create a fine-tuned openai GPT model that assist in the classification of products.\n",
    "# Company: Allgeier Schweiz AG\n",
    "# Author: Nicolas Rehder (nrehder@allgeier.ch)\n",
    "# Create for: SDSC 2024\n",
    "# Date Created: 10.01.2024\n",
    "# Last Updated: 10.01.2024\n",
    "# Python Version: 3.10.4\n",
    "\n",
    "#General Sources:\n",
    "#https://platform.openai.com/docs/api-reference?lang=python\n",
    "\n",
    "#Openai Usage:\n",
    "#https://platform.openai.com/usage\n",
    "\n",
    "#Additionals:\n",
    "\n",
    "#https://world.openfoodfacts.org/data\n",
    "\n",
    "# Download Python packages (run the below command in terminal if packages have not yet been installed)\n",
    "#pip install -r C:\\Python\\openai-lab\\support\\requirements\\requirements.txt\n",
    "\n",
    "#————————————————————"
   ]
  },
  {
   "cell_type": "code",
   "execution_count": 1,
   "metadata": {},
   "outputs": [],
   "source": [
    "# Import required libraries\n",
    "import pandas as pd\n"
   ]
  },
  {
   "cell_type": "code",
   "execution_count": 11,
   "metadata": {},
   "outputs": [],
   "source": [
    "# Create assistant description (prompt / instructions)\n",
    "\n",
    "path_input = r\"C:\\Python\\data\\en.openfoodfacts.org.products.csv\" #Change path if required\n",
    "df = pd.read_csv(path_input , sep='\\t', on_bad_lines='skip', low_memory=False)"
   ]
  },
  {
   "cell_type": "code",
   "execution_count": 12,
   "metadata": {},
   "outputs": [],
   "source": [
    "df_products = df[[\"product_name\", \"categories_tags\", \"countries_en\"]]\n",
    "df_products = df_products[df_products.countries_en.isin([\"United States\"])]\n",
    "df_products = df_products[[\"product_name\", \"categories_tags\"]]\n",
    "df_products = df_products.dropna(subset=['product_name'])\n",
    "df_products = df_products.drop_duplicates(subset ='product_name')\n",
    "df_products = df_products.dropna(subset=['categories_tags'])\n",
    "df_products = df_products.loc[df_products['categories_tags'].str.match(\"^[^,\\n]*((,[^,\\n]*){3}$)\")] #only show rows with category tags with 3 levels, i.e. must have 3 commas.\n",
    "df_products = df_products.reset_index(drop=True)"
   ]
  },
  {
   "cell_type": "code",
   "execution_count": 4,
   "metadata": {},
   "outputs": [],
   "source": [
    "categories_tags = df_products[\"categories_tags\"].str.split(\",\", n = 5, expand = True)\n",
    "categories_tags = categories_tags[[0,1,2]]\n",
    "categories_tags.rename(columns = {0:'level_1', 1:'level_2', 2:'level_3'}, inplace = True)\n",
    "\n",
    "categories_tags[\"level_1\"] = categories_tags[\"level_1\"].str.replace(r'^en:', '', regex=True)\n",
    "categories_tags[\"level_2\"] = categories_tags[\"level_2\"].str.replace(r'^en:', '', regex=True)\n",
    "categories_tags[\"level_3\"] = categories_tags[\"level_3\"].str.replace(r'^en:', '', regex=True)"
   ]
  },
  {
   "cell_type": "code",
   "execution_count": 5,
   "metadata": {},
   "outputs": [],
   "source": [
    "df_products = df_products.join(categories_tags)\n",
    "df_products = df_products.drop([\"categories_tags\"], axis = 1)"
   ]
  },
  {
   "cell_type": "code",
   "execution_count": 12,
   "metadata": {},
   "outputs": [],
   "source": [
    "# Reduce size due to openai limitations\n",
    "\n",
    "df_products = df[df.countries_en.isin([\"United States\"])]\n",
    "df_products = df_products.iloc[:100000]\n",
    "# df_products = df_products.dropna(subset=['product_name'])\n",
    "# df_products = df_products.drop_duplicates(subset ='product_name')"
   ]
  },
  {
   "cell_type": "code",
   "execution_count": 13,
   "metadata": {},
   "outputs": [],
   "source": [
    "#path_output = r\"C:\\Python\\openai-lab\\data\\openfoodfacts.csv\"\n",
    "path_output = r\"C:\\Python\\data\\openfoodfacts.csv\" #Change path if required\n",
    "\n",
    "#df_products.to_excel(path_output, sheet_name='Sheet1', index = False)\n",
    "df_products.to_csv(path_output, sep='\\t', encoding='utf-8', index=False)"
   ]
  }
 ],
 "metadata": {
  "kernelspec": {
   "display_name": ".venv",
   "language": "python",
   "name": "python3"
  },
  "language_info": {
   "codemirror_mode": {
    "name": "ipython",
    "version": 3
   },
   "file_extension": ".py",
   "mimetype": "text/x-python",
   "name": "python",
   "nbconvert_exporter": "python",
   "pygments_lexer": "ipython3",
   "version": "3.10.4"
  }
 },
 "nbformat": 4,
 "nbformat_minor": 2
}
