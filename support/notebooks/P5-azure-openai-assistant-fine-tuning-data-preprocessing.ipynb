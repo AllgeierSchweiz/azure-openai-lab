{
 "cells": [
  {
   "cell_type": "code",
   "execution_count": null,
   "metadata": {},
   "outputs": [],
   "source": [
    "#————————————————————\n",
    "\n",
    "# Name: Azure OpenAI Assistant API, Data Pre-processing for Fine-Tuning\n",
    "\n",
    "# Purpose:  This notebook will use the Azure OpenAI Assistant API to conduct data pre-processing steps on the recipes CSV for fine-tuning.\n",
    "\n",
    "# Company: Allgeier Schweiz AG\n",
    "# Author: Nicolas Rehder (nrehder@allgeier.ch), Alex Dean (adean@allgeier.ch)\n",
    "# Create for: SDSC 2024\n",
    "# Date Created: 22.01.2024\n",
    "# Last Updated: 25.05.2024\n",
    "# Python Version: 3.10.4\n",
    "\n",
    "# Troubleshooting:\n",
    "# \n",
    "\n",
    "# Download Python packages (run the below command in terminal if packages have not yet been installed)\n",
    "# pip install -r C:\\Python\\sdsc\\requirements.txt\n",
    "\n",
    "#————————————————————"
   ]
  },
  {
   "cell_type": "code",
   "execution_count": 1,
   "metadata": {},
   "outputs": [],
   "source": [
    "# Import Python packages\n",
    "import os\n",
    "import io\n",
    "import time\n",
    "from io import StringIO\n",
    "import json\n",
    "from dotenv import load_dotenv\n",
    "from pathlib import Path\n",
    "import pandas as pd\n",
    "from openai import AzureOpenAI"
   ]
  },
  {
   "cell_type": "code",
   "execution_count": 2,
   "metadata": {},
   "outputs": [],
   "source": [
    "# Load required variables from env file.\n",
    "load_dotenv(dotenv_path=Path(\"/workspaces/azure-openai-lab/.venv/.env\")) #Error sometimes due to \\ or \\\\. Try one or the other. \"C:\\\\Python\\\\azure-openai-lab\\\\.venv\\\\.env\"\n",
    "\n",
    "# Load Azure OpenAI Key and Endpoint. These values can be found within the Azure OpenAI Service resource in portal.azure.com under Keys and Endpoint\n",
    "azure_oai_key = os.environ['AZURE_OPENAI_KEY_P34']\n",
    "azure_oai_endpoint = os.environ['AZURE_OPENAI_ENDPOINT_P34']"
   ]
  },
  {
   "cell_type": "code",
   "execution_count": 10,
   "metadata": {},
   "outputs": [],
   "source": [
    "# Initialize the Azure OpenAI client\n",
    "client = AzureOpenAI(\n",
    "    api_key = azure_oai_key,  \n",
    "    api_version = \"2024-02-15-preview\",\n",
    "    azure_endpoint = azure_oai_endpoint\n",
    "    )"
   ]
  },
  {
   "cell_type": "code",
   "execution_count": 4,
   "metadata": {},
   "outputs": [
    {
     "name": "stdout",
     "output_type": "stream",
     "text": [
      "FileObject(id='assistant-yJjDRA4iOizy89uOxKD9jUGR', bytes=107440, created_at=1716316089, filename='recipes-preprocessed.csv', object='file', purpose='assistants', status='processed', status_details=None)\n"
     ]
    }
   ],
   "source": [
    "# Upload file into Azure OpenAI Service\n",
    "path_input = r\"/workspaces/azure-openai-lab/data/recipes-preprocessed.csv\" #Change path if required\n",
    "\n",
    "# send the csv file to the assistant purpose files\n",
    "response = client.files.create(\n",
    "  file=open(path_input, \"rb\"),\n",
    "  purpose=\"assistants\"\n",
    ")\n",
    "print(response)\n",
    "file__id = response.id"
   ]
  },
  {
   "cell_type": "code",
   "execution_count": 4,
   "metadata": {},
   "outputs": [
    {
     "name": "stdout",
     "output_type": "stream",
     "text": [
      "assistant-yJjDRA4iOizy89uOxKD9jUGR\n"
     ]
    }
   ],
   "source": [
    "# Import existing uploaded file on Azure OpenAI Service\n",
    "# for i in client.files.list():\n",
    "#     if \"recipes-preprocessed\" in i.filename:\n",
    "#         file__id = i.id\n",
    "#         print(i.id)"
   ]
  },
  {
   "cell_type": "code",
   "execution_count": 11,
   "metadata": {},
   "outputs": [],
   "source": [
    "# Create data transformation instructions\n",
    "instructions = '''\n",
    "### INSTRUCTIONS\n",
    "You are a senior data analyst who will work with data in an csv file.\n",
    "You have access to a sandboxed environment for writing python code.\n",
    "The objective is to create a datset for fine-tuning. The dataset must be formatted in the conversational format that is used by the Chat completions API.\n",
    "An example of the conversational format is available in the EXAMPLES section.\n",
    "When the user asks you to perform your actions, you will use the provided csv file and examples in the EXAMPLE section.\n",
    "Execute each of the steps listed below in your ACTIONS section.\n",
    "\n",
    "---\n",
    "\n",
    "### EXAMPLES:\n",
    "\n",
    "{\"messages\": [{\"role\": \"system\", \"content\": \"This is a vegan recipe generator. The vegan recipe generated should be output as a JSON object in the format:{\\\"name\\\":\\\"\\\",\\\"minutes\\\":,\\\"tags\\\":\\\"[]\\\",\\\"nutrition\\\":\\\"[]\\\",\\\"n_steps\\\":\\\"\\\",\\\"steps\\\":\\\"[]\\\",\\\"description\\\":\\\"\\\",\\\"ingredients\\\":\\\"[]\\\", \\\"n_ingredients\\\":}\"}, {\"role\": \"user\", \"content\": \"Create well-thought-out and flavourful recipes from a list of ingredients implementing classic culinary techniques.\"}, {\"role\": \"user\", \"content\": \"fresh snow peas, sesame oil, minced garlic cloves, salt & pepper\"}, {\"role\": \"assistant\", \"content\": \"{\\\"name\\\":\\\"garlic snow peas\\\",\\\"minutes\\\":5,\\\"tags\\\":\\\"['15-minutes-or-less', 'time-to-make', 'course', 'main-ingredient', 'cuisine', 'preparation', 'occasion', 'low-protein', 'healthy', '5-ingredients-or-less', 'appetizers', 'side-dishes', 'vegetables', 'asian', 'chinese', 'easy', 'dinner-party', 'romantic', 'vegan', 'vegetarian', 'dietary', 'low-sodium', 'low-cholesterol', 'stir-fry', 'comfort-food', 'low-carb', 'inexpensive', 'healthy-2', 'low-in-something', 'taste-mood', 'presentation', 'served-hot', 'technique']\\\",\\\"nutrition\\\":\\\"[46.6, 5.0, 5.0, 0.0, 2.0, 2.0, 1.0]\\\",\\\"n_steps\\\":6,\\\"steps\\\":\\\"['heat wok on medium-hi heat', 'add oil get it hot , dump in peas', 'about 1 minute after stir frying add garlic and seasoning', 'quick fry just till bright green and still crisp', 'cooking time is an estimate -- do not over cook or they will turn a dull green and go limp', 'remove and serve while still hot']\\\",\\\"description\\\":\\\"i love the ones at p f changs..so this is my version\\\",\\\"ingredients\\\":\\\"['fresh snow peas', 'sesame oil', 'minced garlic cloves', 'salt & pepper']\\\",\\\"n_ingredients\\\":4}\\n\"}]}\n",
    "{\"messages\": [{\"role\": \"system\", \"content\": \"This is a vegan recipe generator. The vegan recipe generated should be output as a JSON object in the format:{\\\"name\\\":\\\"\\\",\\\"minutes\\\":,\\\"tags\\\":\\\"[]\\\",\\\"nutrition\\\":\\\"[]\\\",\\\"n_steps\\\":\\\"\\\",\\\"steps\\\":\\\"[]\\\",\\\"description\\\":\\\"\\\",\\\"ingredients\\\":\\\"[]\\\", \\\"n_ingredients\\\":}\"}, {\"role\": \"user\", \"content\": \"Create well-thought-out and flavourful recipes from a list of ingredients implementing classic culinary techniques.\"}, {\"role\": \"user\", \"content\": \"peaches, dates, ground cinnamon, water, almonds, coconut oil\"}, {\"role\": \"assistant\", \"content\": \"{\\\"name\\\":\\\"summertime peach crumble raw food\\\",\\\"minutes\\\":5,\\\"tags\\\":\\\"['15-minutes-or-less', 'time-to-make', 'course', 'main-ingredient', 'preparation', 'cobblers-and-crisps', 'desserts', 'fruit', 'easy', 'vegan', 'vegetarian', 'food-processor-blender', 'dietary', 'low-sodium', 'low-in-something', 'pitted-fruit', 'peaches', 'equipment', 'small-appliance']\\\",\\\"nutrition\\\":\\\"[330.8, 32.0, 108.0, 3.0, 15.0, 34.0, 11.0]\\\",\\\"n_steps\\\":5,\\\"steps\\\":\\\"['for the base ~ place chopped peaches in large bowl & set aside', 'in blender or food processor , blend 5 dates , cinnamon & enough water to get a syrupy consistency', 'pour this date syrup over peaches & refrigerate at least 1 hour', 'for the topping ~ when peach \\\\/ date mixture has chilled , in a food processor , blend almonds , 4 dates & coconut oil to desired consistency', 'top peach \\\\/ date mixture with this topping & enjoy']\\\",\\\"description\\\":\\\"this recipe comes the goneraw internet site.\\\",\\\"ingredients\\\":\\\"['peaches', 'dates', 'ground cinnamon', 'water', 'almonds', 'coconut oil']\\\",\\\"n_ingredients\\\":6}\\n\"}]}\n",
    "{\"messages\": [{\"role\": \"system\", \"content\": \"This is a vegan recipe generator. The vegan recipe generated should be output as a JSON object in the format:{\\\"name\\\":\\\"\\\",\\\"minutes\\\":,\\\"tags\\\":\\\"[]\\\",\\\"nutrition\\\":\\\"[]\\\",\\\"n_steps\\\":\\\"\\\",\\\"steps\\\":\\\"[]\\\",\\\"description\\\":\\\"\\\",\\\"ingredients\\\":\\\"[]\\\", \\\"n_ingredients\\\":}\"}, {\"role\": \"user\", \"content\": \"Create well-thought-out and flavourful recipes from a list of ingredients implementing classic culinary techniques.\"}, {\"role\": \"user\", \"content\": \"grape-nuts cereal, apple juice concentrate\"}, {\"role\": \"assistant\", \"content\": \"{\\\"name\\\":\\\"fat free pie crust\\\",\\\"minutes\\\":13,\\\"tags\\\":\\\"['15-minutes-or-less', 'time-to-make', 'course', 'cuisine', 'preparation', 'north-american', 'healthy', '5-ingredients-or-less', 'pies-and-tarts', 'desserts', 'american', 'easy', 'low-fat', 'vegan', 'vegetarian', 'pies', 'dietary', 'low-cholesterol', 'low-saturated-fat', 'healthy-2', 'low-in-something']\\\",\\\"nutrition\\\":\\\"[88.9, 0.0, 27.0, 5.0, 4.0, 0.0, 6.0]\\\",\\\"n_steps\\\":6,\\\"steps\\\":\\\"['preheat the oven to 350 f \\\\/ 180 deg c', 'mix together the grape nuts and apple juice concentrate', 'pat into a thin layer on the bottom and sides of a 9 pie pan', \\\\\\\"don't worry if there are some gaps\\\\\\\", 'bake for 8 minutes', 'cool before filling']\\\",\\\"description\\\":\\\"from the table of the physicians committee for responsible medicine\\\",\\\"ingredients\\\":\\\"['grape-nuts cereal', 'apple juice concentrate']\\\",\\\"n_ingredients\\\":2}\\n\"}]}\n",
    "{\"messages\": [{\"role\": \"system\", \"content\": \"This is a vegan recipe generator. The vegan recipe generated should be output as a JSON object in the format:{\\\"name\\\":\\\"\\\",\\\"minutes\\\":,\\\"tags\\\":\\\"[]\\\",\\\"nutrition\\\":\\\"[]\\\",\\\"n_steps\\\":\\\"\\\",\\\"steps\\\":\\\"[]\\\",\\\"description\\\":\\\"\\\",\\\"ingredients\\\":\\\"[]\\\", \\\"n_ingredients\\\":}\"}, {\"role\": \"user\", \"content\": \"Create well-thought-out and flavourful recipes from a list of ingredients implementing classic culinary techniques.\"}, {\"role\": \"user\", \"content\": \"lemon juice, granulated sugar, water, lemon slice\"}, {\"role\": \"assistant\", \"content\": \"{\\\"name\\\":\\\"refreshing lemonade\\\",\\\"minutes\\\":5,\\\"tags\\\":\\\"['15-minutes-or-less', 'time-to-make', 'course', 'preparation', 'occasion', 'low-protein', 'healthy', '5-ingredients-or-less', 'beverages', 'easy', 'beginner-cook', 'low-fat', 'summer', 'vegan', 'vegetarian', 'dietary', 'low-sodium', 'low-cholesterol', 'seasonal', 'low-saturated-fat', 'low-calorie', 'inexpensive', 'low-in-something', 'presentation', 'served-cold']\\\",\\\"nutrition\\\":\\\"[116.5, 0.0, 115.0, 0.0, 0.0, 0.0, 10.0]\\\",\\\"n_steps\\\":4,\\\"steps\\\":\\\"['mix the lemon juice and sugar in a 2 quart pitcher', 'fill the container up with water until it reaches 2 quarts', 'float the lemon slices on top', 'chill , then enjoy !']\\\",\\\"description\\\":\\\"this is a really easy lemonade recipe.  i use bottled lemon juice because it's cheaper, but you could definately use fresh.\\\",\\\"ingredients\\\":\\\"['lemon juice', 'granulated sugar', 'water', 'lemon slice']\\\",\\\"n_ingredients\\\":4}\\n\"}]}\n",
    "\n",
    "---\n",
    "\n",
    "### ACTIONS:\n",
    "\n",
    "1. Read the tab separated comma file data\n",
    "2. Transform the data and create a jsonl file formatted in the conversational format as shown in the EXAMPLES section\n",
    "3. The conversational format has a system role, user role and assistant role, each with text content stored inside an array of dictionaries\n",
    "4. The first system role content is always: \"This is a vegan recipe generator. The vegan recipe generated should be output as a JSON object in the format: {\"name\":\"\",\"minutes\":,\"tags\":\"[]\",\"nutrition\":\"[]\",\"n_steps\":\"\",\"steps\":\"[]\",\"description\":\"\",\"ingredients\":\"[]\", \"n_ingredients\":}\"\n",
    "5. The first user role content is always: \"Create well-thought-out and flavourful vegan recipes from a list of ingredients implementing classic culinary techniques\"\n",
    "6. The subsequent user role content takes the list of ingredients in the column \"ingredients\" of the CSV file\n",
    "7. The assistant role content uses all the column values of the CSV file as a JSON object with the format: {\"name\":\"\",\"minutes\":,\"tags\":\"[]\",\"nutrition\":\"[]\",\"n_steps\":\"\",\"steps\":\"[]\",\"description\":\"\",\"ingredients\":\"[]\", \"n_ingredients\":}\n",
    "8. Split the data set into training and testing data sets with a \"75%\" and \"25%\" split respectively\n",
    "9. Make sure both data sets have the same format provided by the EXAMPLES section\n",
    "10. Name the data set with \"75%\" of the data \"recipes-training-set\"\n",
    "11. Name the data set with \"25%\" of the data \"recipes-validation-set\"\n",
    "12. Prepare both data sets as a jsonl file for download by the user\n",
    "\n",
    "---\n",
    "\n",
    "### DO NOT:\n",
    "1. Do not return any images. \n",
    "2. Do not return any other file types.\n",
    "'''"
   ]
  },
  {
   "cell_type": "code",
   "execution_count": 13,
   "metadata": {},
   "outputs": [],
   "source": [
    "# Create an Azure OpenAI Assistant\n",
    "assistant = client.beta.assistants.create(\n",
    "    name = \"data analyst assistant\",\n",
    "    instructions = instructions,\n",
    "    tools = [{\"type\": \"code_interpreter\"}],\n",
    "    model = \"gpt-4-1106-preview\", #\"gpt-4-0125-preview\", #You must replace this value with the deployment name for your model.\n",
    "    file_ids=[file__id]\n",
    ")\n",
    "\n",
    "# Get the file id\n",
    "fileId = assistant.file_ids[0]\n",
    "\n",
    "# Create a thread\n",
    "thread = client.beta.threads.create()"
   ]
  },
  {
   "cell_type": "code",
   "execution_count": 14,
   "metadata": {},
   "outputs": [],
   "source": [
    "# Initalize thread and start data transformation using the Azure OpenAI Assistant Code Interpreter\n",
    "prompt = \"Please execute the INSTRUCTIONS and ACTIONS on the data stored in the CSV file using the EXAMPLES as reference for the output format \" + fileId\n",
    "\n",
    "message = client.beta.threads.messages.create(\n",
    "    thread_id = thread.id,\n",
    "    role = \"user\",\n",
    "    content = prompt\n",
    ")"
   ]
  },
  {
   "cell_type": "code",
   "execution_count": 15,
   "metadata": {},
   "outputs": [],
   "source": [
    "# Run the Azure OpenAI Assistant\n",
    "run = client.beta.threads.runs.create(\n",
    "  thread_id=thread.id,\n",
    "  assistant_id=assistant.id,\n",
    "  #instructions=\"New instructions\" #You can optionally provide new instructions but these will override the default instructions\n",
    ")"
   ]
  },
  {
   "cell_type": "code",
   "execution_count": 16,
   "metadata": {},
   "outputs": [
    {
     "name": "stdout",
     "output_type": "stream",
     "text": [
      "in progress...\n",
      "Assistant: The data has been successfully processed and formatted into the conversational JSON line-format. Two dataset files have been created: \n",
      "\n",
      "- The training set, named \"recipes-training-set.jsonl\"\n",
      "- The validation set, named \"recipes-validation-set.jsonl\"\n",
      "\n",
      "Both files are ready for download:\n",
      "\n",
      "- [Download the training set](sandbox:/mnt/data/recipes-training-set.jsonl)\n",
      "- [Download the validation set](sandbox:/mnt/data/recipes-validation-set.jsonl)\n",
      "Assistant: There seems to be an issue with the JSON decoding process for the 'ingredients' column. I will investigate and properly clean this data before attempting to reformat it into the conversational JSON line-format. Let's correct this and process the data again.\n",
      "Assistant: The structure of the data from the CSV file has been successfully loaded, and we can see that it contains the following columns: 'name', 'minutes', 'tags', 'nutrition', 'n_steps', 'steps', 'description', 'ingredients', 'n_ingredients', and 'dense_feature'. We will format this data into the conversational JSON line-format and then split it into training and validation sets. Let's proceed with transforming the data.\n",
      "User: Please execute the INSTRUCTIONS and ACTIONS on the data stored in the CSV file using the EXAMPLES as reference for the output format assistant-yJjDRA4iOizy89uOxKD9jUGR\n"
     ]
    }
   ],
   "source": [
    "# Check status of Azure OpenAI Assistant run\n",
    "while True:\n",
    "    sec = 30\n",
    "    # Wait for 30 seconds\n",
    "    time.sleep(sec)  \n",
    "    # Retrieve the run status\n",
    "    run_status = client.beta.threads.runs.retrieve(\n",
    "        thread_id=thread.id,\n",
    "        run_id=run.id\n",
    "    )\n",
    "    # If run is completed, get messages\n",
    "    if run_status.status == 'completed':\n",
    "        messages = client.beta.threads.messages.list(\n",
    "            thread_id=thread.id\n",
    "        )\n",
    "        # Loop through messages and print content based on role\n",
    "        for msg in messages.data:\n",
    "            role = msg.role\n",
    "            try:\n",
    "                content = msg.content[0].text.value\n",
    "                print(f\"{role.capitalize()}: {content}\")\n",
    "            except AttributeError:\n",
    "                # This will execute if .text does not exist\n",
    "                print(f\"{role.capitalize()}: [Non-text content, possibly an image or other file type]\")\n",
    "        break\n",
    "    elif run.status == \"requires_action\":\n",
    "        # handle function calling and continue with the execution\n",
    "        pass\n",
    "    elif run.status == \"expired\" or run.status==\"failed\" or run.status==\"cancelled\":\n",
    "        # run failed, expired, or was cancelled\n",
    "        break   \n",
    "    # elif run.last_error != \"None\":\n",
    "    #     # run failed, expired, or was cancelled\n",
    "    #     break  \n",
    "    else:\n",
    "        print(\"in progress...\")"
   ]
  },
  {
   "cell_type": "code",
   "execution_count": 19,
   "metadata": {},
   "outputs": [
    {
     "name": "stdout",
     "output_type": "stream",
     "text": [
      "['assistant-xtRZ3tMzHBNgCwmifE1uuazW', 'assistant-6XrrXUnP87zKQWxUCTyCt6t4']\n"
     ]
    }
   ],
   "source": [
    "# Functions to read xlsx files from Azure Openai\n",
    "\n",
    "output_path = r\"/workspaces/azure-openai-lab/data/generated_output/\" #r\"C:\\\\Python\\\\azure-openai-lab\\\\data\\\\generated_output\\\\\"\n",
    "\n",
    "# Write to jsonl\n",
    "def write_jsonl(data_list: list, filename: str) -> None:\n",
    "    with open(filename, \"w\") as out:\n",
    "        for ddict in data_list:\n",
    "            jout = json.dumps(ddict) + \"\\n\"\n",
    "            out.write(jout)\n",
    "\n",
    "\n",
    "def read_and_save_file(first_file_id, file_name, output_path):   \n",
    "    # its binary, so read it and then make it a file like object\n",
    "    file_data = client.files.content(first_file_id)\n",
    "    file_data_bytes = file_data.read()\n",
    "    file_data_decoded = file_data_bytes.decode('utf8').replace(\"'\", '\"')\n",
    "    file_data_list = file_data_decoded.splitlines()\n",
    "    write_jsonl(file_data_list, output_path + file_name)\n",
    "\n",
    "    \n",
    "def files_from_messages():\n",
    "    messages = client.beta.threads.messages.list(\n",
    "            thread_id=thread.id\n",
    "        )\n",
    "    first_thread_message = messages.data[0]  # Accessing the first ThreadMessage\n",
    "    message_ids = first_thread_message.file_ids\n",
    "    print(message_ids)\n",
    "    # Loop through each file ID and save the file with a sequential name\n",
    "    for i, file_id in enumerate(message_ids):\n",
    "        if i == 1:\n",
    "            file_name = f\"recipes-training-set.jsonl\"  # Generate a sequential file name\n",
    "            read_and_save_file(file_id, file_name, output_path)\n",
    "        else:\n",
    "            file_name = f\"recipes-validation-set.jsonl\"  # Generate a sequential file name\n",
    "            read_and_save_file(file_id, file_name, output_path)\n",
    "\n",
    "# Extract the file names from the response, retrieve the content and save the data as a jsonl file\n",
    "files_from_messages()"
   ]
  },
  {
   "cell_type": "code",
   "execution_count": 20,
   "metadata": {},
   "outputs": [],
   "source": [
    "#Clean up Azure OpenAI environment\n",
    "client.beta.assistants.delete(assistant.id)\n",
    "client.beta.threads.delete(thread.id)\n",
    "for i in range(0, 2):\n",
    "    client.files.delete(messages.data[0].file_ids[i])"
   ]
  }
 ],
 "metadata": {
  "kernelspec": {
   "display_name": ".venv",
   "language": "python",
   "name": "python3"
  },
  "language_info": {
   "codemirror_mode": {
    "name": "ipython",
    "version": 3
   },
   "file_extension": ".py",
   "mimetype": "text/x-python",
   "name": "python",
   "nbconvert_exporter": "python",
   "pygments_lexer": "ipython3",
   "version": "3.10.4"
  }
 },
 "nbformat": 4,
 "nbformat_minor": 2
}
