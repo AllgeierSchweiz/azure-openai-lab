{
 "cells": [
  {
   "cell_type": "code",
   "execution_count": null,
   "metadata": {},
   "outputs": [],
   "source": [
    "#————————————————————\n",
    "\n",
    "# Name: Azure OpenAI Fine Tuning (V1)\n",
    "\n",
    "# Purpose:\n",
    "\n",
    "\n",
    "# Company: Allgeier Schweiz AG\n",
    "# Author: Nicolas Rehder (nrehder@allgeier.ch)\n",
    "# Create for: SDSC 2024\n",
    "# Date Created: 22.01.2024\n",
    "# Last Updated: 22.01.2024\n",
    "# Python Version: 3.10.4\n",
    "\n",
    "# General Sources:\n",
    "\n",
    "# Azure Authentication Token\n",
    "# https://learn.microsoft.com/en-us/cli/azure/account?view=azure-cli-latest#az-account-get-access-token()\n",
    "\n",
    "# Azure Openai Usage:\n",
    "# https://learn.microsoft.com/en-us/azure/ai-services/openai/tutorials/fine-tune?tabs=python-new%2Ccommand-line\n",
    "# https://learn.microsoft.com/en-us/azure/ai-services/openai/how-to/fine-tuning?tabs=turbo%2Cpython&pivots=programming-language-python\n",
    "# https://learn.microsoft.com/en-us/azure/ai-services/openai/how-to/chatgpt?tabs=python&pivots=programming-language-chat-completions#few-shot-learning-with-chat-completion\n",
    "\n",
    "# Additionals:\n",
    "# https://learn.microsoft.com/en-us/azure/ai-services/openai/concepts/models\n",
    "# https://towardsdatascience.com/how-to-convert-json-into-a-pandas-dataframe-100b2ae1e0d8\n",
    "\n",
    "# Download Python packages (run the below command in terminal if packages have not yet been installed)\n",
    "# pip install -r C:\\Python\\sdsc\\requirements.txt\n",
    "\n",
    "#————————————————————"
   ]
  },
  {
   "cell_type": "code",
   "execution_count": 2,
   "metadata": {},
   "outputs": [],
   "source": [
    "# Import required libraries\n",
    "import os\n",
    "import io\n",
    "import time\n",
    "from io import StringIO\n",
    "import json\n",
    "from dotenv import load_dotenv\n",
    "from pathlib import Path\n",
    "import pandas as pd\n",
    "from openai import AzureOpenAI\n",
    "import json\n",
    "from IPython.display import clear_output\n",
    "from IPython.core.display import HTML\n",
    "import requests\n",
    "import random"
   ]
  },
  {
   "cell_type": "code",
   "execution_count": 3,
   "metadata": {},
   "outputs": [],
   "source": [
    "# Load required variables from env file.\n",
    "load_dotenv(dotenv_path=Path(\"C:\\Python\\openai-lab\\.venv\\.env\"))\n",
    "\n",
    "# Load Azure OpenAI Key and Endpoint. These values can be found within the Azure OpenAI Service resource in portal.azure.com under Keys and Endpoint\n",
    "azure_oai_key = os.environ['AZURE_OPENAI_KEY']\n",
    "azure_oai_endpoint = os.environ['AZURE_OPENAI_ENDPOINT']"
   ]
  },
  {
   "cell_type": "code",
   "execution_count": 4,
   "metadata": {},
   "outputs": [],
   "source": [
    "# Initialize the Azure OpenAI client\n",
    "client = AzureOpenAI(\n",
    "    api_key = azure_oai_key,  \n",
    "    api_version = \"2024-02-15-preview\",\n",
    "    azure_endpoint = azure_oai_endpoint\n",
    "    )"
   ]
  },
  {
   "cell_type": "code",
   "execution_count": 40,
   "metadata": {},
   "outputs": [],
   "source": [
    "recipe = 'Recipe: Asian-Inspired Tofu Avocado Curry\\n\\nIngredients:\\n- 1 ripe avocado, pitted and sliced\\n- 1 can of coconut milk\\n- 200g tofu, cubed\\n- 2 tablespoons soy sauce\\n- 1 tablespoon olive oil\\n- 1 onion, thinly sliced\\n- 2 cloves garlic, minced\\n- 1 teaspoon ginger, grated\\n- 1 teaspoon curry powder\\n- 1 teaspoon turmeric\\n- 1 teaspoon paprika\\n- Fresh cilantro, chopped for garnish\\n- Steamed rice, for serving\\n\\nInstructions:\\n1. In a large deep skillet or wok, heat olive oil over medium heat. Add onion, garlic, and ginger. Sauté until the onion becomes translucent.\\n2. Add the tofu cubes to the skillet and cook until slightly browned on all sides.\\n3. Add curry powder, turmeric, and paprika. Stir to evenly coat tofu and vegetables.\\n4. Pour in the coconut milk and bring to a gentle simmer. Allow the flavors to meld for about 5 minutes.\\n5. Season with soy sauce and stir well.\\n6. Gently fold in avocado slices and cook for an additional 2 minutes.\\n7. Serve over steamed rice and garnish with fresh cilantro.\\n\\nNote: This dish can be made spicier by adding a few slices of red chili or a sprinkle of chili flakes. A side of naan bread or roti can also be added for sopping up the rich sauce.'"
   ]
  },
  {
   "cell_type": "code",
   "execution_count": 41,
   "metadata": {},
   "outputs": [],
   "source": [
    "entity_extraction = client.chat.completions.create(\n",
    "    model=\"gpt-35-turbo\", # model = \"deployment_name\".\n",
    "    messages=[{\"role\":\"system\",\"content\":'''You are an assistant designed to extract entities from text. Users will paste in a string of text and you will respond with entities you've extracted from the text as a JSON object. Here's an example of your output format:{\"recipe_name\": \"\", \"ingredients\": [{\"name\": \"\",\"amount\": \"\" ,\"unit\": \"\"},{\"name\": \"\",\"amount\": \"\" ,\"unit\": \"\"}]}'''},\n",
    "                {\"role\":\"user\",\"content\":\"Ingredients:\\n- 1 cucumber\\n- 1 capsicum (any color)\\n- 1 cup flour (or gluten-free flour)\\n- 2 tablespoons soy sauce\\n- Oil for frying\\n\\nInstructions:\\n1. Prepare the vegetables:\\n   - Slice the cucumber and capsicum into thin, even strips.\\n   - Set them aside.\\n\\n2. Make the batter:\\n   - In a mixing bowl, combine the flour and soy sauce.\\n   - Gradually add water until a thick, smooth batter forms.\\n   - Dip the cucumber and capsicum strips into the batter, ensuring they are evenly coated.\\n\\n3. Fry the vegetables:\\n   - Heat oil in a deep pan or skillet.\\n   - Fry the battered cucumber and capsicum strips until they turn golden brown and crispy.\\n   - Remove from oil and drain on a paper towel to remove excess oil.\\n\\n4. Serve:\\n   - Arrange the fried cucumber and capsicum strips on a serving platter.\\n   - Sprinkle with a little sea salt for extra flavor.\\n   - Serve with a side of soy sauce or your favorite dipping sauce.\\n\\nEnjoy this Asian-inspired vegan appetizer of crispy battered cucumber and capsicum that combines texture and flavor for a heavenly first course!\"},\n",
    "                {\"role\":\"assistant\",\"content\":'''{\"recipe_name\": \"Asian-inspired vegan appetizer\", \"ingredients\": [{\"name\": \"cucumber\",\"amount\": \"1\" ,\"unit\": \"item\"},{\"name\": \"capsicum\",\"amount\": \"1\" ,\"unit\": \"item\"},{\"name\": \"flour\",\"amount\": \"1\" ,\"unit\": \"cup\"},{\"name\": \"soy sauce\",\"amount\": \"1\" ,\"unit\": \"tablespoon\"},{\"name\": \"oil\",\"amount\": \"1\" ,\"unit\": \"not specified\"},{\"name\": \"water\",\"amount\": \"1\" ,\"unit\": \"not specified\"},{\"name\": \"sea salt\",\"amount\": \"1\" ,\"unit\": \"not specified\"}]}'''},\n",
    "                {\"role\": \"user\", \"content\": recipe}\n",
    "\t\t\t\t]\n",
    ")"
   ]
  },
  {
   "cell_type": "code",
   "execution_count": 42,
   "metadata": {},
   "outputs": [],
   "source": [
    "recipe_extraction_json = json.loads(entity_extraction.choices[0].message.content)"
   ]
  },
  {
   "cell_type": "code",
   "execution_count": 43,
   "metadata": {},
   "outputs": [],
   "source": [
    "recipe_extraction = pd.json_normalize(recipe_extraction_json, record_path =['ingredients'])"
   ]
  },
  {
   "cell_type": "code",
   "execution_count": null,
   "metadata": {},
   "outputs": [],
   "source": [
    "#path_output = r\"C:\\Python\\openai-lab\\data\\openfoodfacts.csv\"\n",
    "# path_output = r\"C:\\Python\\data\\openfoodfacts.csv\" #Change path if required\n",
    "path_output = r\"C:\\Python\\openai-lab\\support\\notebooks\\recipe_extraction.csv\" #Change path if required\n",
    "\n",
    "#df_products.to_excel(path_output, sheet_name='Sheet1', index = False)\n",
    "recipe_extraction.to_csv(path_output, sep='\\t', encoding='utf-8', index=False)"
   ]
  }
 ],
 "metadata": {
  "kernelspec": {
   "display_name": ".venv",
   "language": "python",
   "name": "python3"
  },
  "language_info": {
   "codemirror_mode": {
    "name": "ipython",
    "version": 3
   },
   "file_extension": ".py",
   "mimetype": "text/x-python",
   "name": "python",
   "nbconvert_exporter": "python",
   "pygments_lexer": "ipython3",
   "version": "3.10.4"
  }
 },
 "nbformat": 4,
 "nbformat_minor": 2
}
