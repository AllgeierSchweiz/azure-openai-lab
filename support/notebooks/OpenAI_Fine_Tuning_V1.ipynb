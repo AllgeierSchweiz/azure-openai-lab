{
 "cells": [
  {
   "cell_type": "code",
   "execution_count": 1,
   "metadata": {},
   "outputs": [
    {
     "name": "stdout",
     "output_type": "stream",
     "text": [
      "hello\n"
     ]
    }
   ],
   "source": [
    "#————————————————————\n",
    "\n",
    "# Name: OpenAI Fine-Tuning(V1)\n",
    "# Purpose: Create a fine-tuned openai GPT model that assist in the classification of product categories.\n",
    "# Company: Allgeier Schweiz AG\n",
    "# Author: Nicolas Rehder (nrehder@allgeier.ch)\n",
    "# Create for: SDSC 2024\n",
    "# Date Created: 10.01.2024\n",
    "# Last Updated: 10.01.2024\n",
    "# Python Version: 3.10.4\n",
    "\n",
    "#General Sources:\n",
    "#https://platform.openai.com/docs/api-reference?lang=python\n",
    "#https://medium.com/ai-advances/complete-process-for-fine-tuning-gpt-3-5-turbo-using-openai-api-db4a50b3de1a\n",
    "\n",
    "#Openai Usage:\n",
    "#https://platform.openai.com/usage\n",
    "\n",
    "#Additionals:\n",
    "#The original data comes from #https://world.openfoodfacts.org/data\n",
    "#The data used has been cleansed using the notebook named Data_Cleansing_V1\n",
    "\n",
    "\n",
    "# Download Python packages (run the below command in terminal if packages have not yet been installed)\n",
    "#pip install -r C:\\Python\\openai-lab\\support\\requirements\\requirements.txt\n",
    "\n",
    "#————————————————————"
   ]
  },
  {
   "cell_type": "code",
   "execution_count": 3,
   "metadata": {},
   "outputs": [],
   "source": [
    "# Import required libraries\n",
    "import pandas as pd\n",
    "import json\n",
    "import numpy as np\n",
    "import tiktoken\n",
    "import time\n",
    "import os\n",
    "from dotenv import load_dotenv, find_dotenv\n",
    "from pathlib import Path\n",
    "import openai\n",
    "from openai import OpenAI\n",
    "from sklearn.metrics import accuracy_score, precision_score, recall_score, f1_score\n"
   ]
  },
  {
   "cell_type": "code",
   "execution_count": 4,
   "metadata": {},
   "outputs": [],
   "source": [
    "# Import csv data\n",
    "\n",
    "path_input = r\"C:\\Python\\openai-lab\\data\\openfoodfacts.csv\"\n",
    "df = pd.read_csv(path_input , sep='\\t')"
   ]
  },
  {
   "cell_type": "code",
   "execution_count": 5,
   "metadata": {},
   "outputs": [
    {
     "data": {
      "text/plain": [
       "{'messages': [{'role': 'system',\n",
       "   'content': 'You are a helpful data categorizer. You are to extract the product categories from the provided products into three hierarchical product categories specified as Product Category 1, Product Category 2 and Product Category 3.'},\n",
       "  {'role': 'user',\n",
       "   'content': 'Product: Apple Turnover\\n\\nProduct Categories: '},\n",
       "  {'role': 'assistant',\n",
       "   'content': 'Product Category 1: snacks, Product Category 2: sweet-snacks, Product Category 3: viennoiseries'}]}"
      ]
     },
     "execution_count": 5,
     "metadata": {},
     "output_type": "execute_result"
    }
   ],
   "source": [
    "# Create messages[{role :content}]: For role: system, user, assistant\n",
    "\n",
    "training_data = []\n",
    "\n",
    "system_message = \"You are a helpful data categorizer. You are to extract the product categories from the provided products into three hierarchical product categories specified as Product Category 1, Product Category 2 and Product Category 3.\"\n",
    "\n",
    "def create_user_message(row):\n",
    "    return f\"\"\"Product: {row['product_name']}\\n\\nProduct Categories: \"\"\"\n",
    "\n",
    "def create_assistant_message(row):\n",
    "    return f\"\"\"Product Category 1: {row['level_1']}, Product Category 2: {row['level_2']}, Product Category 3: {row['level_3']}\"\"\"\n",
    "\n",
    "def create_final_message(row):\n",
    "    messages = []\n",
    "    messages.append({\"role\": \"system\", \"content\": system_message})\n",
    "\n",
    "    user_message = create_user_message(row)\n",
    "    messages.append({\"role\": \"user\", \"content\": user_message})\n",
    "\n",
    "    assistant_message = create_assistant_message(row)\n",
    "    messages.append({\"role\": \"assistant\", \"content\": assistant_message})\n",
    "\n",
    "    return {\"messages\": messages}\n",
    "\n",
    "create_final_message(df.iloc[0])"
   ]
  },
  {
   "cell_type": "code",
   "execution_count": 6,
   "metadata": {},
   "outputs": [],
   "source": [
    "# Split data into training and validation subsets\n",
    "\n",
    "training_df = df.loc[0:100]\n",
    "training_data = training_df.apply(create_final_message, axis=1).tolist()\n",
    "\n",
    "validation_df = df.loc[101:150]\n",
    "validation_data = validation_df.apply(create_final_message, axis=1).tolist()\n",
    "\n",
    "test_df = df.loc[160:200]\n",
    "\n"
   ]
  },
  {
   "cell_type": "code",
   "execution_count": 7,
   "metadata": {},
   "outputs": [],
   "source": [
    "# Convert to JSONL\n",
    "\n",
    "def write_jsonl(data_list: list, filename: str) -> None:\n",
    "    with open(filename, \"w\") as out:\n",
    "        for ddict in data_list:\n",
    "            jout = json.dumps(ddict) + \"\\n\"\n",
    "            out.write(jout)\n",
    "\n",
    "training_file_name = \"training.jsonl\"\n",
    "write_jsonl(training_data, training_file_name)\n",
    "\n",
    "validation_file_name = \"validation.jsonl\"\n",
    "write_jsonl(validation_data, validation_file_name)"
   ]
  },
  {
   "cell_type": "code",
   "execution_count": 8,
   "metadata": {},
   "outputs": [
    {
     "name": "stdout",
     "output_type": "stream",
     "text": [
      "Num examples: 101\n",
      "Example:\n",
      "{'role': 'system', 'content': 'You are a helpful data categorizer. You are to extract the product categories from the provided products into three hierarchical product categories specified as Product Category 1, Product Category 2 and Product Category 3.'}\n",
      "{'role': 'user', 'content': 'Product: Bread\\n\\nProduct Categories: '}\n",
      "{'role': 'assistant', 'content': 'Product Category 1: plant-based-foods-and-beverages, Product Category 2: plant-based-foods, Product Category 3: cereals-and-potatoes'}\n"
     ]
    }
   ],
   "source": [
    "# Tokens count and cost estimation\n",
    "\n",
    "# Load the jsonl dataset\n",
    "with open(training_file_name, 'r', encoding='utf-8') as f:\n",
    "    dataset = [json.loads(line) for line in f]\n",
    "\n",
    "# Initial dataset stats\n",
    "print(\"Num examples:\", len(dataset))\n",
    "print(\"Example:\")\n",
    "for message in dataset[1][\"messages\"]:\n",
    "    print(message)"
   ]
  },
  {
   "cell_type": "code",
   "execution_count": 9,
   "metadata": {},
   "outputs": [],
   "source": [
    "# You can’t send more then 4096 tokens in each message, otherwise it will be truncated:\n",
    "\n",
    "encoding = tiktoken.get_encoding(\"cl100k_base\")\n",
    "\n",
    "def num_tokens_from_messages(messages, tokens_per_message=3, tokens_per_name=1):\n",
    "    num_tokens = 0\n",
    "    for message in messages:\n",
    "        num_tokens += tokens_per_message\n",
    "        for key, value in message.items():\n",
    "            num_tokens += len(encoding.encode(value))\n",
    "            # print(f'key={key}, value={value}, nbr_tokens={len(encoding.encode(value))}, cum_tokens={num_tokens}')\n",
    "            if key == \"name\":\n",
    "                num_tokens += tokens_per_name\n",
    "    num_tokens += 3\n",
    "    return num_tokens\n",
    "\n",
    "def num_assistant_tokens_from_messages(messages):\n",
    "    num_tokens = 0\n",
    "    for message in messages:\n",
    "        if message[\"role\"] == \"assistant\":\n",
    "            num_tokens += len(encoding.encode(message[\"content\"]))\n",
    "    return num_tokens"
   ]
  },
  {
   "cell_type": "code",
   "execution_count": 10,
   "metadata": {},
   "outputs": [
    {
     "name": "stdout",
     "output_type": "stream",
     "text": [
      "Num messages missing system message: 0\n",
      "Num messages missing user message: 0\n",
      "\n",
      "Some statistics:\n",
      "min=86, max=110\n",
      "p5=91.0, p95=105.0\n",
      "\\Examples of tokens nbr from the first messages\n",
      "[92, 98, 92, 97, 100]\n",
      "\n",
      "No message will be truncated during fine-tuning\n"
     ]
    }
   ],
   "source": [
    "num_missing_system = 0\n",
    "num_missing_user = 0\n",
    "num_messages = []\n",
    "message_all_lens = []\n",
    "assistant_message_lens = []\n",
    "\n",
    "for ex in dataset:\n",
    "    messages = ex[\"messages\"]\n",
    "    if not any(message[\"role\"] == \"system\" for message in messages):\n",
    "        num_missing_system += 1\n",
    "    if not any(message[\"role\"] == \"user\" for message in messages):\n",
    "        num_missing_user += 1\n",
    "    num_messages.append(len(messages))\n",
    "    message_all_lens.append(num_tokens_from_messages(messages))\n",
    "    assistant_message_lens.append(num_assistant_tokens_from_messages(messages))\n",
    "\n",
    "print(\"Num messages missing system message:\", num_missing_system)\n",
    "print(\"Num messages missing user message:\", num_missing_user)\n",
    "print(\"\\nSome statistics:\")\n",
    "print(f\"min={min(message_all_lens)}, max={max(message_all_lens)}\")\n",
    "print(f\"p5={np.quantile(message_all_lens, 0.1)}, p95={np.quantile(message_all_lens, 0.95)}\")\n",
    "\n",
    "print(\"\\Examples of tokens nbr from the first messages\")\n",
    "print(message_all_lens[:5])\n",
    "\n",
    "num_sample_token_long = sum(l > 4096 for l in message_all_lens)\n",
    "\n",
    "if num_sample_token_long>0:\n",
    "  print(f\"\\n{num_sample_token_long} messages may be over the 4096 token limit, they will be truncated during fine-tuning\")\n",
    "else:\n",
    "  print(f\"\\nNo message will be truncated during fine-tuning\")"
   ]
  },
  {
   "cell_type": "code",
   "execution_count": 11,
   "metadata": {},
   "outputs": [
    {
     "name": "stdout",
     "output_type": "stream",
     "text": [
      "Dataset contains ~9790 tokens, which will incur training charges\n",
      "By default, you'll train for 8 epochs on this dataset\n",
      "By default, you'll be charged for ~78320 tokens\n",
      "The final cost will be ~0.62656$\n"
     ]
    }
   ],
   "source": [
    "MAX_TOKENS_PER_EXAMPLE = 4096\n",
    "\n",
    "TARGET_EPOCHS = 8\n",
    "MIN_TARGET_EXAMPLES = 100\n",
    "MAX_TARGET_EXAMPLES = 25000\n",
    "MIN_DEFAULT_EPOCHS = 1\n",
    "MAX_DEFAULT_EPOCHS = 25\n",
    "\n",
    "n_epochs = TARGET_EPOCHS\n",
    "n_train_examples = len(dataset)\n",
    "if n_train_examples * TARGET_EPOCHS < MIN_TARGET_EXAMPLES:\n",
    "    n_epochs = min(MAX_DEFAULT_EPOCHS, MIN_TARGET_EXAMPLES // n_train_examples)\n",
    "elif n_train_examples * TARGET_EPOCHS > MAX_TARGET_EXAMPLES:\n",
    "    n_epochs = max(MIN_DEFAULT_EPOCHS, MAX_TARGET_EXAMPLES // n_train_examples)\n",
    "\n",
    "n_tokens_in_dataset = sum(min(MAX_TOKENS_PER_EXAMPLE, length) for length in message_all_lens)\n",
    "print(f\"Dataset contains ~{n_tokens_in_dataset} tokens, which will incur training charges\")\n",
    "print(f\"By default, you'll train for {n_epochs} epochs on this dataset\")\n",
    "print(f\"By default, you'll be charged for ~{n_epochs * n_tokens_in_dataset} tokens\")\n",
    "print(f\"The final cost will be ~{n_epochs * n_tokens_in_dataset/1000  * 0.008}$\")"
   ]
  },
  {
   "cell_type": "code",
   "execution_count": 12,
   "metadata": {},
   "outputs": [],
   "source": [
    "# Load OpenAIKey\n",
    "load_dotenv(dotenv_path=Path(\"C:\\Python\\openai-lab\\.venv\\.env\"))\n",
    "API_KEY = os.environ['OPENAI_API_KEY']\n",
    "\n",
    "# Initalise Large Language Model (LLM)\n",
    "\n",
    "llm = OpenAI(api_key = API_KEY)"
   ]
  },
  {
   "cell_type": "code",
   "execution_count": 13,
   "metadata": {},
   "outputs": [],
   "source": [
    "# Upload JSONL files to OpenAI\n",
    "\n",
    "training_file_creation = llm.files.create(\n",
    "  file=open(training_file_name, \"rb\"),\n",
    "  purpose='fine-tune'\n",
    ")\n",
    "\n",
    "\n",
    "id_file_training = training_file_creation.id\n",
    "\n",
    "validation_file_creation = llm.files.create(\n",
    "  file=open(validation_file_name, \"rb\"),\n",
    "  purpose='fine-tune'\n",
    ")\n",
    "\n",
    "id_file_validation = validation_file_creation.id"
   ]
  },
  {
   "cell_type": "code",
   "execution_count": 14,
   "metadata": {},
   "outputs": [
    {
     "data": {
      "text/plain": [
       "FineTuningJob(id='ftjob-5kZRJumX73i2p12u7u9z46I6', created_at=1704885146, error=None, fine_tuned_model=None, finished_at=None, hyperparameters=Hyperparameters(n_epochs=8, batch_size='auto', learning_rate_multiplier='auto'), model='gpt-3.5-turbo-0613', object='fine_tuning.job', organization_id='org-D8U9yUgZdB4bBF6lEOriShz7', result_files=[], status='validating_files', trained_tokens=None, training_file='file-c63YYtmVcjhgTj3htqpzZfsY', validation_file='file-a6uYX8du5h6uoNZLkfeKH35U')"
      ]
     },
     "execution_count": 14,
     "metadata": {},
     "output_type": "execute_result"
    }
   ],
   "source": [
    "# Create Fine-Tuned Model\n",
    "\n",
    "fine_tuning_job = llm.fine_tuning.jobs.create(training_file=id_file_training,\n",
    "                            model=\"gpt-3.5-turbo\",\n",
    "                            suffix='categorizer',\n",
    "                            hyperparameters = {\n",
    "                                'n_epochs':8\n",
    "                            },\n",
    "                            validation_file=id_file_validation)\n",
    "\n",
    "fine_tuning_job"
   ]
  },
  {
   "cell_type": "code",
   "execution_count": 16,
   "metadata": {},
   "outputs": [
    {
     "name": "stdout",
     "output_type": "stream",
     "text": [
      "checking status. \n",
      "finished!\n",
      "FineTuningJob(id='ftjob-5kZRJumX73i2p12u7u9z46I6', created_at=1704885146, error=None, fine_tuned_model='ft:gpt-3.5-turbo-0613:allgeier-schweiz-ag:categorizer:8fRCWcue', finished_at=1704886699, hyperparameters=Hyperparameters(n_epochs=8, batch_size=1, learning_rate_multiplier=2), model='gpt-3.5-turbo-0613', object='fine_tuning.job', organization_id='org-D8U9yUgZdB4bBF6lEOriShz7', result_files=['file-bdYjLLzQ2hKvi4adeVfa9cJW'], status='succeeded', trained_tokens=76704, training_file='file-c63YYtmVcjhgTj3htqpzZfsY', validation_file='file-a6uYX8du5h6uoNZLkfeKH35U')\n"
     ]
    }
   ],
   "source": [
    "#Retrieve Model Status\n",
    "print(\"checking status. \")\n",
    "while True:\n",
    "    run = llm.fine_tuning.jobs.retrieve(fine_tuning_job.id)\n",
    "\n",
    "    if run.status == \"succeeded\":\n",
    "        print(\"finished!\")\n",
    "        messages = run\n",
    "\n",
    "        break\n",
    "\n",
    "    else:\n",
    "        events_list_job = llm.fine_tuning.jobs.list_events(fine_tuning_job_id=fine_tuning_job.id, limit=50)\n",
    "        events = events_list_job.data\n",
    "        events.reverse()\n",
    "\n",
    "        for event in events:\n",
    "            print(event.message)\n",
    "\n",
    "    time.sleep(40)\n",
    "print (messages)"
   ]
  },
  {
   "cell_type": "code",
   "execution_count": 17,
   "metadata": {},
   "outputs": [],
   "source": [
    "retrieve_fine_tuned_job = llm.fine_tuning.jobs.retrieve(fine_tuning_job_id=fine_tuning_job.id)\n",
    "fine_tuned_model_id = retrieve_fine_tuned_job.fine_tuned_model"
   ]
  },
  {
   "cell_type": "code",
   "execution_count": null,
   "metadata": {},
   "outputs": [],
   "source": [
    "# Test Fine-Tuned model with one input\n",
    "\n",
    "new_input = \"Nutella\"\n",
    "\n",
    "def create_user_message():\n",
    "    return f\"\"\"Product: {new_input}\\n\\nProduct Categories: \"\"\"\n",
    "\n",
    "def create_final_message_test():\n",
    "  test_messages = []\n",
    "  test_messages.append({\"role\": \"system\", \"content\": system_message})\n",
    "\n",
    "  user_message = create_user_message()\n",
    "  test_messages.append({\"role\": \"user\", \"content\": create_user_message()})\n",
    "\n",
    "  return test_messages\n",
    "\n",
    "messages_test = create_final_message_test()\n",
    "\n",
    "response = llm.chat.completions.create(\n",
    "    model=fine_tuned_model_id,\n",
    "    messages=messages_test\n",
    "  )\n",
    "\n",
    "response.choices[0].message.content"
   ]
  },
  {
   "cell_type": "code",
   "execution_count": 18,
   "metadata": {},
   "outputs": [],
   "source": [
    "# Test Fine-Tuned model with one test_dataset input for accuracy testing\n",
    "\n",
    "\n",
    "def create_final_message_test(row):\n",
    "  test_messages = []\n",
    "  test_messages.append({\"role\": \"system\", \"content\": system_message})\n",
    "\n",
    "  user_message = create_user_message(row)\n",
    "  test_messages.append({\"role\": \"user\", \"content\": create_user_message(row)})\n",
    "\n",
    "  return test_messages\n",
    "\n",
    "finetuned_model_resp =[]\n",
    "\n",
    "for i in range(0, len(test_df)):\n",
    "  row = test_df.iloc[i]\n",
    "  messages_test = create_final_message_test(row)\n",
    "\n",
    "  response = llm.chat.completions.create(\n",
    "    model=fine_tuned_model_id,\n",
    "    messages=messages_test\n",
    "  )\n",
    "\n",
    "  finetuned_model_resp.append(response.choices[0].message.content)"
   ]
  },
  {
   "cell_type": "code",
   "execution_count": null,
   "metadata": {},
   "outputs": [],
   "source": [
    "test_df['result'] = finetuned_model_resp"
   ]
  },
  {
   "cell_type": "code",
   "execution_count": 21,
   "metadata": {},
   "outputs": [
    {
     "name": "stdout",
     "output_type": "stream",
     "text": [
      "Accuracy: 1.0\n",
      "Precision: [1. 1. 1. 1. 1. 1. 1. 1. 1. 1. 1.]\n",
      "Recall: [1. 1. 1. 1. 1. 1. 1. 1. 1. 1. 1.]\n",
      "F1 Score: [1. 1. 1. 1. 1. 1. 1. 1. 1. 1. 1.]\n"
     ]
    }
   ],
   "source": [
    "y_true = test_df['result'].values\n",
    "accuracy = accuracy_score(y_true, finetuned_model_resp)\n",
    "precision = precision_score(y_true, finetuned_model_resp, average=None)\n",
    "recall = recall_score(y_true, finetuned_model_resp,average=None)\n",
    "f1 = f1_score(y_true, finetuned_model_resp,average=None)\n",
    "\n",
    "print(f\"Accuracy: {accuracy}\")\n",
    "print(f\"Precision: {precision}\")\n",
    "print(f\"Recall: {recall}\")\n",
    "print(f\"F1 Score: {f1}\")"
   ]
  }
 ],
 "metadata": {
  "kernelspec": {
   "display_name": ".venv",
   "language": "python",
   "name": "python3"
  },
  "language_info": {
   "codemirror_mode": {
    "name": "ipython",
    "version": 3
   },
   "file_extension": ".py",
   "mimetype": "text/x-python",
   "name": "python",
   "nbconvert_exporter": "python",
   "pygments_lexer": "ipython3",
   "version": "3.10.4"
  }
 },
 "nbformat": 4,
 "nbformat_minor": 2
}
