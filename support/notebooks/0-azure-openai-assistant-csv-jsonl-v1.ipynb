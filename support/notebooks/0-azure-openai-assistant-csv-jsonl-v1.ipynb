{
 "cells": [
  {
   "cell_type": "code",
   "execution_count": null,
   "metadata": {},
   "outputs": [],
   "source": [
    "#————————————————————\n",
    "\n",
    "# Name: Azure OpenAI Assistant for Nutritional Values (V1)\n",
    "\n",
    "# Purpose:\n",
    "\n",
    "\n",
    "# Company: Allgeier Schweiz AG\n",
    "# Author: Nicolas Rehder (nrehder@allgeier.ch)\n",
    "# Create for: SDSC 2024\n",
    "# Date Created: 22.01.2024\n",
    "# Last Updated: 22.01.2024\n",
    "# Python Version: 3.10.4\n",
    "\n",
    "#General Sources:\n",
    "# https://learn.microsoft.com/en-us/azure/ai-services/openai/how-to/assistant\n",
    "# https://learn.microsoft.com/en-us/azure/ai-services/openai/assistants-quickstart?tabs=command-line&pivots=programming-language-studio\n",
    "\n",
    "#Azure Openai Usage:\n",
    "# https://stackoverflow.com/questions/77986927/in-azure-openai-assistants-when-i-upload-a-file-and-save-it-where-is-that-file-s\n",
    "# https://techcommunity.microsoft.com/t5/fasttrack-for-azure/strategies-for-optimizing-high-volume-token-usage-with-azure/ba-p/4007751#:~:text=Understanding%20tokens%20and%20limits%20in,generation%2C%20translation%2C%20or%20summarization.\n",
    "\n",
    "#Additionals:\n",
    "# https://learn.microsoft.com/en-us/azure/ai-services/openai/concepts/models\n",
    "\n",
    "# Download Python packages (run the below command in terminal if packages have not yet been installed)\n",
    "# pip install -r C:\\Python\\sdsc\\requirements.txt\n",
    "\n",
    "#————————————————————"
   ]
  },
  {
   "cell_type": "code",
   "execution_count": 12,
   "metadata": {},
   "outputs": [],
   "source": [
    "# Import required libraries\n",
    "import os\n",
    "import io\n",
    "import time\n",
    "from io import StringIO\n",
    "import json\n",
    "from dotenv import load_dotenv\n",
    "from pathlib import Path\n",
    "import pandas as pd\n",
    "from openai import AzureOpenAI"
   ]
  },
  {
   "cell_type": "code",
   "execution_count": 13,
   "metadata": {},
   "outputs": [],
   "source": [
    "# Load Azure OpenAI Key and Endpoint. These values can be found within the Azure OpenAI Service resource in portal.azure.com under Keys and Endpoint\n",
    "load_dotenv(dotenv_path=Path(\"C:\\Python\\openai-lab\\.venv\\.env\"))\n",
    "azure_oai_key = os.environ['AZURE_OPENAI_KEY']\n",
    "azure_oai_endpoint = os.environ['AZURE_OPENAI_ENDPOINT']"
   ]
  },
  {
   "cell_type": "code",
   "execution_count": 14,
   "metadata": {},
   "outputs": [],
   "source": [
    "# Initialize the Azure OpenAI client\n",
    "client = AzureOpenAI(\n",
    "    api_key = azure_oai_key,  \n",
    "    api_version = \"2024-02-15-preview\",\n",
    "    azure_endpoint = azure_oai_endpoint\n",
    "    )"
   ]
  },
  {
   "cell_type": "code",
   "execution_count": 15,
   "metadata": {},
   "outputs": [
    {
     "name": "stdout",
     "output_type": "stream",
     "text": [
      "FileObject(id='assistant-YvMMDNtwnUE2laXzfL7D55Oc', bytes=3919070, created_at=1713877817, filename='recipes_short.json', object='file', purpose='assistants', status='processed', status_details=None)\n"
     ]
    }
   ],
   "source": [
    "# Load data\n",
    "path_input = r\"C:\\Python\\openai-lab\\data\\recipes_short.json\" #Change path if required\n",
    "\n",
    "# send the csv file to the assistant purpose files\n",
    "response = client.files.create(\n",
    "  file=open(path_input, \"rb\"),\n",
    "  purpose=\"assistants\"\n",
    ")\n",
    "print(response)\n",
    "file__id = response.id"
   ]
  },
  {
   "cell_type": "code",
   "execution_count": 16,
   "metadata": {},
   "outputs": [],
   "source": [
    "instructions = '''\n",
    "You are a senior data analyst who will work with data in an csv file.\n",
    "You have access to a sandboxed environment for writing python code.\n",
    "The objective is to create a datset for fine-tuning. The dataset must be formatted in the conversational format that is used by the Chat completions API.\n",
    "An example of the conversational format is available in the EXAMPLES section.\n",
    "When the user asks you to perform your actions, you will use the provided csv file and examples in the EXAMPLE section.\n",
    "Execute each of the steps listed below in your ACTIONS section.\n",
    "\n",
    "EXAMPLES:\n",
    "\n",
    "{\"messages\": [{\"role\": \"system\", \"content\": \"Act as a head chef and create a flavourful recipe from a list of ingredients\"}, {\"role\": \"user\", \"content\": \"pork spareribs, soy sauce, fresh garlic, fresh ginger, chili powder, fresh coarse ground black pepper, salt, fresh cilantro leaves, tomato sauce, brown sugar, yellow onion, white vinegar, honey, a.1. original sauce, liquid smoke, cracked black pepper, cumin, dry mustard, cinnamon sticks, orange, juice of, mirin, water\"}, {\"role\": \"assistant\", \"content\": \"{\"name\":\"backyard style  barbecued ribs\",\"minutes\":120,\"tags\":\"['weeknight', 'time-to-make', 'course', 'main-ingredient', 'cuisine', 'preparation', 'occasion', 'north-american', 'south-west-pacific', 'main-dish', 'pork', 'oven', 'holiday-event', 'stove-top', 'hawaiian', 'spicy', 'copycat', 'independence-day', 'meat', 'pork-ribs', 'super-bowl', 'novelty', 'taste-mood', 'savory', 'sweet', 'equipment', '4-hours-or-less']\",\"nutrition\":\"[1109.5, 83.0, 378.0, 275.0, 96.0, 86.0, 36.0]\",\"n_steps\":10,\"steps\":\"['in a medium saucepan combine all the ingredients for sauce#1 , bring to a full rolling boil , reduce heat to medium low and simmer for 1 hour , stirring often', 'rub the ribs with soy sauce , garlic , ginger , chili powder , pepper , salt and chopped cilantro , both sides !', 'wrap ribs in heavy duty foil', 'let stand 1 hour', 'preheat oven to 350 degrees', 'place ribs in oven for 1 hour , turning once after 30 minutes', '3 times during cooking the ribs open foil wrap and drizzle ribs with sauce#1', 'place all the ingredients for sauce#2 in a glass or plastic bowl , whisk well and set aside', 'remove ribs from oven and place on serving platter', 'offer both sauces at table to drizzle over ribs']\",\"description\":\"this recipe is posted by request and was originaly from chef sam choy's cookbook \",\"ingredients\":\"['pork spareribs', 'soy sauce', 'fresh garlic', 'fresh ginger', 'chili powder', 'fresh coarse ground black pepper', 'salt', 'fresh cilantro leaves', 'tomato sauce', 'brown sugar', 'yellow onion', 'white vinegar', 'honey', 'a.1. original sauce', 'liquid smoke', 'cracked black pepper', 'cumin', 'dry mustard', 'cinnamon sticks', 'orange, juice of', 'mirin', 'water']\",\"n_ingredients\":22}\"}]}\n",
    "{\"messages\": [{\"role\": \"system\", \"content\": \"Act as a head chef and create a flavourful recipe from a list of ingredients\"}, {\"role\": \"user\", \"content\": \"lean pork chops, flour, salt, dry mustard, garlic powder, oil, chicken rice soup\"}, {\"role\": \"assistant\", \"content\": \"{\"name\":\"chicken lickin  good  pork chops\",\"minutes\":500,\"tags\":\"['weeknight', 'time-to-make', 'course', 'main-ingredient', 'preparation', 'main-dish', 'pork', 'crock-pot-slow-cooker', 'dietary', 'meat', 'pork-chops', 'equipment']\",\"nutrition\":\"[105.7, 8.0, 0.0, 26.0, 5.0, 4.0, 3.0]\",\"n_steps\":5,\"steps\":\"['dredge pork chops in mixture of flour , salt , dry mustard and garlic powder', 'brown in oil in a large skillet', 'place browned pork chops in a crock pot', 'add the can of soup , undiluted', 'cover and cook on low for 6-8 hours']\",\"description\":\"here's and old standby i enjoy from time to time. it's from an old newspaper clipping i cut out years ago. very tasty.\",\"ingredients\":\"['lean pork chops', 'flour', 'salt', 'dry mustard', 'garlic powder', 'oil', 'chicken rice soup']\",\"n_ingredients\":7}\"}]}\n",
    "\n",
    "\n",
    "ACTIONS:\n",
    "\n",
    "1. Read the CSV file.\n",
    "2. Transform the data and create a jsonl file formatted in the conversational format as shown in the EXAMPLES section.\n",
    "3. The conversational format has a system, user and assistant text input. \n",
    "4. The system text input is always \"Act as a head chef and create a flavourful recipe from a list of ingredients\".\n",
    "5. The user text input are the ingredients in the column ingredients of the CSV file.\n",
    "6. The assistant input are all the columns of the CSV file.\n",
    "7. Make sure the data transformation has the same format provided by the EXAMPLES section.\n",
    "3. Prepare the dataset as a jsonl file called table_1 for download by the user.\n",
    "4. Provide a summary paragraph explaining the preparation of the dataset.\n",
    "\n",
    "DO NOT:\n",
    "1. Do not return any images. \n",
    "2. Do not return any other file types.\n",
    "'''"
   ]
  },
  {
   "cell_type": "code",
   "execution_count": 17,
   "metadata": {},
   "outputs": [],
   "source": [
    "# Create an assistant\n",
    "assistant = client.beta.assistants.create(\n",
    "    name = \"data analyst assistant\",\n",
    "    instructions = instructions,\n",
    "    tools = [{\"type\": \"code_interpreter\"}],\n",
    "    model = \"gpt-4-1106-preview\", #You must replace this value with the deployment name for your model.\n",
    "    file_ids=[file__id]\n",
    ")"
   ]
  },
  {
   "cell_type": "code",
   "execution_count": 18,
   "metadata": {},
   "outputs": [
    {
     "name": "stdout",
     "output_type": "stream",
     "text": [
      "Assistant(id='asst_71f17K2D4EJmkXs4aWOFERnx', created_at=1713877829, description=None, file_ids=['assistant-YvMMDNtwnUE2laXzfL7D55Oc'], instructions='\\nYou are a senior data analyst who will work with data in an json file.\\nYou have access to a sandboxed environment for writing python code.\\nThe objective is to create a datset for fine-tuning. The dataset must be formatted in the conversational format that is used by the Chat completions API.\\nAn example of the conversational format is available in the EXAMPLES section.\\nWhen the user asks you to perform your actions, you will use the provided json file and examples in the EXAMPLE section.\\nYou will perform the transformation steps to turn the data in the csv file into a dataset compatible for fine-tuning.\\nExecute each of the steps listed below in your ACTIONS section.\\n\\nEXAMPLES:\\n\\n{\"messages\": [{\"role\": \"system\", \"content\": \"Act as a head chef and create a flavourful recipe from a list of ingredients\"}, {\"role\": \"user\", \"content\": \"pork spareribs, soy sauce, fresh garlic, fresh ginger, chili powder, fresh coarse ground black pepper, salt, fresh cilantro leaves, tomato sauce, brown sugar, yellow onion, white vinegar, honey, a.1. original sauce, liquid smoke, cracked black pepper, cumin, dry mustard, cinnamon sticks, orange, juice of, mirin, water\"}, {\"role\": \"assistant\", \"content\": \"{\"name\":\"backyard style  barbecued ribs\",\"minutes\":120,\"tags\":\"[\\'weeknight\\', \\'time-to-make\\', \\'course\\', \\'main-ingredient\\', \\'cuisine\\', \\'preparation\\', \\'occasion\\', \\'north-american\\', \\'south-west-pacific\\', \\'main-dish\\', \\'pork\\', \\'oven\\', \\'holiday-event\\', \\'stove-top\\', \\'hawaiian\\', \\'spicy\\', \\'copycat\\', \\'independence-day\\', \\'meat\\', \\'pork-ribs\\', \\'super-bowl\\', \\'novelty\\', \\'taste-mood\\', \\'savory\\', \\'sweet\\', \\'equipment\\', \\'4-hours-or-less\\']\",\"nutrition\":\"[1109.5, 83.0, 378.0, 275.0, 96.0, 86.0, 36.0]\",\"n_steps\":10,\"steps\":\"[\\'in a medium saucepan combine all the ingredients for sauce#1 , bring to a full rolling boil , reduce heat to medium low and simmer for 1 hour , stirring often\\', \\'rub the ribs with soy sauce , garlic , ginger , chili powder , pepper , salt and chopped cilantro , both sides !\\', \\'wrap ribs in heavy duty foil\\', \\'let stand 1 hour\\', \\'preheat oven to 350 degrees\\', \\'place ribs in oven for 1 hour , turning once after 30 minutes\\', \\'3 times during cooking the ribs open foil wrap and drizzle ribs with sauce#1\\', \\'place all the ingredients for sauce#2 in a glass or plastic bowl , whisk well and set aside\\', \\'remove ribs from oven and place on serving platter\\', \\'offer both sauces at table to drizzle over ribs\\']\",\"description\":\"this recipe is posted by request and was originaly from chef sam choy\\'s cookbook \",\"ingredients\":\"[\\'pork spareribs\\', \\'soy sauce\\', \\'fresh garlic\\', \\'fresh ginger\\', \\'chili powder\\', \\'fresh coarse ground black pepper\\', \\'salt\\', \\'fresh cilantro leaves\\', \\'tomato sauce\\', \\'brown sugar\\', \\'yellow onion\\', \\'white vinegar\\', \\'honey\\', \\'a.1. original sauce\\', \\'liquid smoke\\', \\'cracked black pepper\\', \\'cumin\\', \\'dry mustard\\', \\'cinnamon sticks\\', \\'orange, juice of\\', \\'mirin\\', \\'water\\']\",\"n_ingredients\":22}\"}]}\\n{\"messages\": [{\"role\": \"system\", \"content\": \"Act as a head chef and create a flavourful recipe from a list of ingredients\"}, {\"role\": \"user\", \"content\": \"lean pork chops, flour, salt, dry mustard, garlic powder, oil, chicken rice soup\"}, {\"role\": \"assistant\", \"content\": \"{\"name\":\"chicken lickin  good  pork chops\",\"minutes\":500,\"tags\":\"[\\'weeknight\\', \\'time-to-make\\', \\'course\\', \\'main-ingredient\\', \\'preparation\\', \\'main-dish\\', \\'pork\\', \\'crock-pot-slow-cooker\\', \\'dietary\\', \\'meat\\', \\'pork-chops\\', \\'equipment\\']\",\"nutrition\":\"[105.7, 8.0, 0.0, 26.0, 5.0, 4.0, 3.0]\",\"n_steps\":5,\"steps\":\"[\\'dredge pork chops in mixture of flour , salt , dry mustard and garlic powder\\', \\'brown in oil in a large skillet\\', \\'place browned pork chops in a crock pot\\', \\'add the can of soup , undiluted\\', \\'cover and cook on low for 6-8 hours\\']\",\"description\":\"here\\'s and old standby i enjoy from time to time. it\\'s from an old newspaper clipping i cut out years ago. very tasty.\",\"ingredients\":\"[\\'lean pork chops\\', \\'flour\\', \\'salt\\', \\'dry mustard\\', \\'garlic powder\\', \\'oil\\', \\'chicken rice soup\\']\",\"n_ingredients\":7}\"}]}\\n\\n\\nACTIONS:\\n\\n1. Read the JSON file.\\n2. Transform the data and create a json file formatted in the conversational format as shown in the EXAMPLES section.\\n3. Prepare the dataset as a JSON file for download by the user. \\n4. Provide a summary paragraph explaining the preparation of the dataset.\\n\\nDO NOT:\\n1. Do not return any images. \\n2. Do not return any other file types.\\n', metadata={}, model='gpt-4-1106-preview', name='data analyst assistant', object='assistant', tools=[ToolCodeInterpreter(type='code_interpreter')])\n"
     ]
    }
   ],
   "source": [
    "# Get the file id\n",
    "fileId = assistant.file_ids[0]\n",
    "print(assistant)"
   ]
  },
  {
   "cell_type": "code",
   "execution_count": 19,
   "metadata": {},
   "outputs": [],
   "source": [
    "# Create a thread\n",
    "thread = client.beta.threads.create()"
   ]
  },
  {
   "cell_type": "code",
   "execution_count": 20,
   "metadata": {},
   "outputs": [],
   "source": [
    "# Add a user prompt to the thread\n",
    "\n",
    "prompt = \"Please execute your ACTIONS on the data stored in the JSON file using the EXAMPLES as reference for the dataset format \" + fileId\n",
    "\n",
    "message = client.beta.threads.messages.create(\n",
    "    thread_id = thread.id,\n",
    "    role = \"user\",\n",
    "    content = prompt\n",
    ")"
   ]
  },
  {
   "cell_type": "code",
   "execution_count": 21,
   "metadata": {},
   "outputs": [],
   "source": [
    "# Run the Assistant\n",
    "\n",
    "run = client.beta.threads.runs.create(\n",
    "  thread_id=thread.id,\n",
    "  assistant_id=assistant.id,\n",
    "  #instructions=\"New instructions\" #You can optionally provide new instructions but these will override the default instructions\n",
    ")"
   ]
  },
  {
   "cell_type": "code",
   "execution_count": null,
   "metadata": {},
   "outputs": [],
   "source": [
    "while True:\n",
    "    sec = 30\n",
    "    # Wait for 30 seconds\n",
    "    time.sleep(sec)  \n",
    "    # Retrieve the run status\n",
    "    run_status = client.beta.threads.runs.retrieve(\n",
    "        thread_id=thread.id,\n",
    "        run_id=run.id\n",
    "    )\n",
    "    # If run is completed, get messages\n",
    "    if run_status.status == 'completed':\n",
    "        messages = client.beta.threads.messages.list(\n",
    "            thread_id=thread.id\n",
    "        )\n",
    "        # Loop through messages and print content based on role\n",
    "        for msg in messages.data:\n",
    "            role = msg.role\n",
    "            try:\n",
    "                content = msg.content[0].text.value\n",
    "                print(f\"{role.capitalize()}: {content}\")\n",
    "            except AttributeError:\n",
    "                # This will execute if .text does not exist\n",
    "                print(f\"{role.capitalize()}: [Non-text content, possibly an image or other file type]\")\n",
    "        break\n",
    "    elif run.status == \"requires_action\":\n",
    "        # handle function calling and continue with the execution\n",
    "        pass\n",
    "    elif run.status == \"expired\" or run.status==\"failed\" or run.status==\"cancelled\":\n",
    "        # run failed, expired, or was cancelled\n",
    "        break    \n",
    "    else:\n",
    "        print(\"in progress...\")"
   ]
  },
  {
   "cell_type": "code",
   "execution_count": 19,
   "metadata": {},
   "outputs": [],
   "source": [
    "# Functions to read xlsx files from Azure Openai\n",
    "\n",
    "def read_and_save_file(first_file_id, file_name):    \n",
    "    # its binary, so read it and then make it a file like object\n",
    "    file_data = client.files.content(first_file_id)\n",
    "    file_data_bytes = file_data.read()\n",
    "    file_like_object = io.BytesIO(file_data_bytes)\n",
    "    #now read as csv to create df\n",
    "    returned_data = pd.read_excel(file_like_object)\n",
    "    returned_data.to_excel(file_name, index=False)\n",
    "    return returned_data\n",
    "    # file = read_and_save_file(first_file_id, \"analyst_output.csv\")\n",
    "    \n",
    "def files_from_messages(messages, asst_name):\n",
    "    first_thread_message = messages.data[0]  # Accessing the first ThreadMessage\n",
    "    message_ids = first_thread_message.file_ids\n",
    "    print(message_ids)\n",
    "    # Loop through each file ID and save the file with a sequential name\n",
    "    for i, file_id in enumerate(message_ids):\n",
    "        file_name = f\"{asst_name}_output_{i+1}.xlsx\"  # Generate a sequential file name\n",
    "        read_and_save_file(file_id, file_name)\n",
    "        print(f'saved {file_name}')  "
   ]
  },
  {
   "cell_type": "code",
   "execution_count": null,
   "metadata": {},
   "outputs": [],
   "source": [
    "# extract the file names from the response and retrieve the content\n",
    "asst_name = 'data_analyst_assistant'        \n",
    "files_from_messages(messages, asst_name)"
   ]
  },
  {
   "cell_type": "code",
   "execution_count": null,
   "metadata": {},
   "outputs": [],
   "source": [
    "#Clean up\n",
    "\n",
    "client.beta.assistants.delete(assistant.id)\n",
    "client.beta.threads.delete(thread.id)\n",
    "for i in client.files.list():\n",
    "    client.files.delete(i.id)"
   ]
  },
  {
   "cell_type": "code",
   "execution_count": null,
   "metadata": {},
   "outputs": [],
   "source": [
    "\n",
    "for i in client.beta.assistants.list():\n",
    "    client.beta.assistants.delete(i.id)\n",
    "for i in client.beta.threads.list():\n",
    "    client.beta.threads.delete(i.id)\n",
    "for i in client.files.list():\n",
    "    client.files.delete(i.id)"
   ]
  },
  {
   "cell_type": "code",
   "execution_count": 25,
   "metadata": {},
   "outputs": [],
   "source": [
    "#Test run 50 people\n",
    "\n",
    "for i in range(50):\n",
    "\n",
    "    # Load data\n",
    "    path_input = r\"C:\\Python\\data\\openfoodfacts.xlsx\" #Change path if required\n",
    "\n",
    "    # send the csv file to the assistant purpose files\n",
    "    response = client.files.create(\n",
    "    file=open(path_input, \"rb\"),\n",
    "    purpose=\"assistants\"\n",
    "    )\n",
    "\n",
    "    file__id = response.id\n",
    "\n",
    "    # Create an assistant\n",
    "    assistant = client.beta.assistants.create(\n",
    "        name = \"data analyst assistant \" + str(i),\n",
    "        instructions = instructions,\n",
    "        tools = [{\"type\": \"code_interpreter\"}],\n",
    "        model = \"gpt-4-1106-preview\", #You must replace this value with the deployment name for your model.\n",
    "        file_ids=[file__id]\n",
    "    )\n",
    "\n",
    "    fileId = assistant.file_ids[0]\n",
    "\n",
    "    thread = client.beta.threads.create()\n",
    "\n",
    "    prompt = \"Please execute your ACTIONS on the data stored in the xlsx file \" + fileId\n",
    "\n",
    "    message = client.beta.threads.messages.create(\n",
    "        thread_id = thread.id,\n",
    "        role = \"user\",\n",
    "        content = prompt\n",
    "    )\n",
    "\n",
    "    run = client.beta.threads.runs.create(\n",
    "    thread_id=thread.id,\n",
    "    assistant_id=assistant.id,\n",
    "    #instructions=\"New instructions\" #You can optionally provide new instructions but these will override the default instructions\n",
    "    )\n",
    "    "
   ]
  }
 ],
 "metadata": {
  "kernelspec": {
   "display_name": ".venv",
   "language": "python",
   "name": "python3"
  },
  "language_info": {
   "codemirror_mode": {
    "name": "ipython",
    "version": 3
   },
   "file_extension": ".py",
   "mimetype": "text/x-python",
   "name": "python",
   "nbconvert_exporter": "python",
   "pygments_lexer": "ipython3",
   "version": "3.10.4"
  }
 },
 "nbformat": 4,
 "nbformat_minor": 2
}
